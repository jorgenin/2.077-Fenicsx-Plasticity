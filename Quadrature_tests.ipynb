{
 "cells": [
  {
   "cell_type": "code",
   "execution_count": 1,
   "metadata": {},
   "outputs": [],
   "source": [
    "import numpy as np\n",
    "\n",
    "import dolfinx\n",
    "\n",
    "from mpi4py import MPI\n",
    "from petsc4py import PETSc\n",
    "\n",
    "from dolfinx import fem, mesh, io, plot, log,default_scalar_type\n",
    "from dolfinx.fem import (Constant, dirichletbc, Function, functionspace, Expression )\n",
    "from dolfinx.fem.petsc import NonlinearProblem,LinearProblem\n",
    "from dolfinx.nls.petsc import NewtonSolver\n",
    "from dolfinx.io import XDMFFile\n",
    "import ufl\n",
    "from ufl import (TestFunctions, TrialFunction, Identity, grad, det, div, dev, inv, tr, sqrt, conditional , gt, dx, inner, derivative, dot, ln, split,TestFunction,indices,as_tensor)\n",
    "from basix.ufl import element, mixed_element, quadrature_element\n",
    "from datetime import datetime\n",
    "from dolfinx.plot import vtk_mesh\n",
    "from dolfinx.fem.petsc import  assemble_matrix, assemble_vector, apply_lifting, create_vector, set_bc,create_matrix, create_vector\n",
    "import basix\n",
    "import pyvista\n",
    "pyvista.set_jupyter_backend('client')\n",
    "## Define temporal parameters"
   ]
  },
  {
   "cell_type": "code",
   "execution_count": 2,
   "metadata": {},
   "outputs": [],
   "source": [
    "# Geometric parameters\n",
    "geom = {\"longside\" : 100.0,     # mm\n",
    "        \"side\" : 10.0,      # mm\n",
    "        \"num_elements\" : 3,    # size of a cell\n",
    "        }\n",
    "\n",
    "\n",
    "# Mechanicals parameters\n",
    "mech = {\"E\" : 200e3,    # MPa\n",
    "        \"nu\" : 0.3,     #       \n",
    "        \"sig0\" : 100.,  # MPa\n",
    "        \"H\" : 80e3, # MPa\n",
    "        \"r\" : 2.0,\n",
    "        \"Y_s\" : 250.0 #mpa\n",
    "        \n",
    "        }\n",
    "\n",
    "\n",
    "# Study parameters\n",
    "stud = {\"deg u\" : 4,    # Interpolation of u\n",
    "        \"deg sig\" : 2,  # Interpolation of sig, eps, p\n",
    "        \"N incr\" : 100,  # Number of load steps\n",
    "        \"Max Disp\" : 1 # Maximal displacement\n",
    "        }\n"
   ]
  },
  {
   "cell_type": "code",
   "execution_count": 3,
   "metadata": {},
   "outputs": [],
   "source": [
    "domain = mesh.create_box(MPI.COMM_WORLD,[[0.0,0.0,0.0],[geom[\"longside\"],geom[\"side\"],geom[\"side\"]]],[geom[\"num_elements\"]*10,geom[\"num_elements\"],geom[\"num_elements\"]])"
   ]
  },
  {
   "cell_type": "code",
   "execution_count": 4,
   "metadata": {},
   "outputs": [],
   "source": [
    "E = Constant(domain, mech[\"E\"])\n",
    "nu = Constant(domain, mech[\"nu\"])\n",
    "lmbda = E * nu / (1 + nu) / (1 - 2 * nu)\n",
    "mu = E / 2.0 / (1 + nu)\n",
    "sig0 = Constant(domain, mech[\"sig0\"])  # yield strength\n",
    "H_0 = Constant(domain,mech[\"H\"])  # hardening modulus\n",
    "r = Constant(domain,mech[\"r\"])  # hardening modulus\n",
    "Y_s = Constant(domain,mech[\"Y_s\"])  # hardening modulus"
   ]
  },
  {
   "cell_type": "code",
   "execution_count": 5,
   "metadata": {},
   "outputs": [],
   "source": [
    "deg_u = stud[\"deg u\"]\n",
    "deg_stress = stud[\"deg sig\"]\n",
    "Ve = element(\n",
    "    \"Lagrange\", domain.basix_cell(), deg_u, shape=(3,)\n",
    ")  # 2 degrees  of freedom\n",
    "V = functionspace(domain, Ve)\n",
    "\n",
    "Ve_scal = element(\n",
    "    \"Lagrange\", domain.basix_cell(), deg_u\n",
    ")\n",
    "V_scal = functionspace(domain, Ve_scal)\n",
    "\n",
    "We = quadrature_element(domain.basix_cell(), value_shape=(6,), degree=deg_stress,scheme='default')\n",
    "W = functionspace(domain, We)\n",
    "\n",
    "W_scal_e = quadrature_element(domain.basix_cell(), degree=deg_stress,scheme='default')\n",
    "W_scal = functionspace(domain, W_scal_e)"
   ]
  },
  {
   "cell_type": "code",
   "execution_count": 6,
   "metadata": {},
   "outputs": [],
   "source": [
    "T = Function(W,name = \"Stress\")\n",
    "E_p = Function(W, name=\"Total_Plastic_Strain\")\n",
    "e_p= Function(W_scal, name=\"Equivalent_Plastic_Strain\")\n",
    "u = Function(V, name=\"Total_displacement\")\n",
    "du = Function(V, name=\"Trial_displacement\")\n",
    "\n",
    "dp = Function(W_scal,name=\"Delta_plasticity\")\n",
    "\n",
    "Y = Function(W_scal,name=\"Isotropic Hardening\")\n",
    "A = Function(W_scal,name=\"Kinematic Hardening\")\n",
    "\n",
    "Y.interpolate(lambda x: np.full_like(x[0],mech[\"sig0\"]))\n",
    "\n",
    "\n",
    "v = TestFunction(V) #Function we are testing with\n",
    "du_ = TrialFunction(V) #Function we are solving for\n",
    "\n",
    "e_p_ = TrialFunction(W_scal)\n",
    "e_pv = TestFunction(W_scal)\n",
    "\n",
    "\n",
    "dx = ufl.Measure(\"dx\",domain=domain,  metadata={\"quadrature_degree\": 2, \"quadrature_scheme\": \"default\"} )\n",
    "n = ufl.FacetNormal(domain)"
   ]
  },
  {
   "cell_type": "code",
   "execution_count": 8,
   "metadata": {},
   "outputs": [],
   "source": [
    "\n",
    "def tensor_to_vector(X): \n",
    "    ''' \n",
    "    Take a 3x3 tensor and return a vector of size 4 in 2D\n",
    "    '''\n",
    "    return ufl.as_vector([X[0, 0], X[1, 1], X[2, 2], X[0, 1], X[0, 2], X[1, 2]])"
   ]
  },
  {
   "cell_type": "markdown",
   "metadata": {},
   "source": [
    "# Testing Interpolating into Quadrature with an expression"
   ]
  },
  {
   "cell_type": "code",
   "execution_count": 9,
   "metadata": {},
   "outputs": [],
   "source": [
    "u.sub(0).interpolate(lambda x: x[0]*2)"
   ]
  },
  {
   "cell_type": "code",
   "execution_count": 10,
   "metadata": {},
   "outputs": [],
   "source": [
    "Strain = ufl.sym(grad(u))\n",
    "Strain_vec = tensor_to_vector(Strain)\n",
    "\n",
    "Strain_exp = Expression(Strain_vec,W.element.interpolation_points())\n",
    "E_p.interpolate(Strain_exp) \n"
   ]
  },
  {
   "cell_type": "code",
   "execution_count": 11,
   "metadata": {},
   "outputs": [
    {
     "data": {
      "text/plain": [
       "array([ 2.00000000e+00,  0.00000000e+00,  0.00000000e+00, ...,\n",
       "        9.32587341e-16, -1.27336467e-15,  0.00000000e+00])"
      ]
     },
     "execution_count": 11,
     "metadata": {},
     "output_type": "execute_result"
    }
   ],
   "source": [
    "E_p.x.array[:]"
   ]
  },
  {
   "cell_type": "markdown",
   "metadata": {},
   "source": [
    "# Forming a vector"
   ]
  },
  {
   "cell_type": "markdown",
   "metadata": {},
   "source": [
    "For forming a vector we need a test function included in the measure."
   ]
  },
  {
   "cell_type": "code",
   "execution_count": 12,
   "metadata": {},
   "outputs": [],
   "source": [
    "value = (E_p[0]-Strain_vec[0])*e_pv*dx # We need a trial function for it to work ( in the same one)\n",
    "\n",
    "Vec = assemble_vector( dolfinx.fem.form((value)))"
   ]
  },
  {
   "cell_type": "code",
   "execution_count": 13,
   "metadata": {},
   "outputs": [
    {
     "data": {
      "text/plain": [
       "0.0"
      ]
     },
     "execution_count": 13,
     "metadata": {},
     "output_type": "execute_result"
    }
   ],
   "source": [
    "Vec.norm()"
   ]
  },
  {
   "cell_type": "markdown",
   "metadata": {},
   "source": [
    "# Interpolating Qudature into a Function"
   ]
  },
  {
   "cell_type": "code",
   "execution_count": 14,
   "metadata": {},
   "outputs": [],
   "source": [
    "quadrature_points, weights = basix.make_quadrature(domain.basix_cell(), 2)\n"
   ]
  },
  {
   "cell_type": "code",
   "execution_count": 15,
   "metadata": {},
   "outputs": [
    {
     "data": {
      "text/plain": [
       "(4, 3)"
      ]
     },
     "execution_count": 15,
     "metadata": {},
     "output_type": "execute_result"
    }
   ],
   "source": [
    "W.element.interpolation_points().shape"
   ]
  },
  {
   "cell_type": "code",
   "execution_count": 16,
   "metadata": {},
   "outputs": [],
   "source": [
    "E_00 = Function(V_scal)"
   ]
  },
  {
   "cell_type": "code",
   "execution_count": 17,
   "metadata": {},
   "outputs": [
    {
     "data": {
      "text/plain": [
       "array([[0.5854102, 0.1381966, 0.1381966],\n",
       "       [0.1381966, 0.5854102, 0.1381966],\n",
       "       [0.1381966, 0.1381966, 0.5854102],\n",
       "       [0.1381966, 0.1381966, 0.1381966]])"
      ]
     },
     "execution_count": 17,
     "metadata": {},
     "output_type": "execute_result"
    }
   ],
   "source": [
    "quadrature_points"
   ]
  },
  {
   "cell_type": "code",
   "execution_count": 20,
   "metadata": {},
   "outputs": [
    {
     "ename": "ValueError",
     "evalue": "Mismatch of tabulation points and element points.",
     "output_type": "error",
     "traceback": [
      "\u001b[0;31m---------------------------------------------------------------------------\u001b[0m",
      "\u001b[0;31mValueError\u001b[0m                                Traceback (most recent call last)",
      "\u001b[1;32m/root/2.077-Fenicsx-Plasticity/Quadrature_tests.ipynb Cell 22\u001b[0m line \u001b[0;36m1\n\u001b[0;32m----> <a href='vscode-notebook-cell://attached-container%2B7b22636f6e7461696e65724e616d65223a222f696e74656c6c6967656e745f6d61796572222c2273657474696e6773223a7b22636f6e74657874223a226465736b746f702d6c696e7578227d7d/root/2.077-Fenicsx-Plasticity/Quadrature_tests.ipynb#X26sdnNjb2RlLXJlbW90ZQ%3D%3D?line=0'>1</a>\u001b[0m Quad_Exp\u001b[39m=\u001b[39m  Expression(E_p[\u001b[39m0\u001b[39;49m],V_scal\u001b[39m.\u001b[39;49melement\u001b[39m.\u001b[39;49minterpolation_points())\n\u001b[1;32m      <a href='vscode-notebook-cell://attached-container%2B7b22636f6e7461696e65724e616d65223a222f696e74656c6c6967656e745f6d61796572222c2273657474696e6773223a7b22636f6e74657874223a226465736b746f702d6c696e7578227d7d/root/2.077-Fenicsx-Plasticity/Quadrature_tests.ipynb#X26sdnNjb2RlLXJlbW90ZQ%3D%3D?line=1'>2</a>\u001b[0m E_00\u001b[39m.\u001b[39minterpolate(Quad_Exp)\n",
      "File \u001b[0;32m/usr/local/dolfinx-real/lib/python3.10/dist-packages/dolfinx/fem/function.py:148\u001b[0m, in \u001b[0;36mExpression.__init__\u001b[0;34m(self, e, X, comm, form_compiler_options, jit_options, dtype)\u001b[0m\n\u001b[1;32m    145\u001b[0m \u001b[39melse\u001b[39;00m:\n\u001b[1;32m    146\u001b[0m     \u001b[39mraise\u001b[39;00m \u001b[39mRuntimeError\u001b[39;00m(\u001b[39mf\u001b[39m\u001b[39m\"\u001b[39m\u001b[39mUnsupported scalar type \u001b[39m\u001b[39m{\u001b[39;00mdtype\u001b[39m}\u001b[39;00m\u001b[39m for Expression.\u001b[39m\u001b[39m\"\u001b[39m)\n\u001b[0;32m--> 148\u001b[0m \u001b[39mself\u001b[39m\u001b[39m.\u001b[39m_ufcx_expression, module, \u001b[39mself\u001b[39m\u001b[39m.\u001b[39m_code \u001b[39m=\u001b[39m jit\u001b[39m.\u001b[39;49mffcx_jit(comm, (e, _X),\n\u001b[1;32m    149\u001b[0m                                                          form_compiler_options\u001b[39m=\u001b[39;49mform_compiler_options,\n\u001b[1;32m    150\u001b[0m                                                          jit_options\u001b[39m=\u001b[39;49mjit_options)\n\u001b[1;32m    151\u001b[0m \u001b[39mself\u001b[39m\u001b[39m.\u001b[39m_ufl_expression \u001b[39m=\u001b[39m e\n\u001b[1;32m    153\u001b[0m \u001b[39m# Prepare coefficients data. For every coefficient in expression\u001b[39;00m\n\u001b[1;32m    154\u001b[0m \u001b[39m# take its C++ object.\u001b[39;00m\n",
      "File \u001b[0;32m/usr/local/dolfinx-real/lib/python3.10/dist-packages/dolfinx/jit.py:56\u001b[0m, in \u001b[0;36mmpi_jit_decorator.<locals>.mpi_jit\u001b[0;34m(comm, *args, **kwargs)\u001b[0m\n\u001b[1;32m     51\u001b[0m \u001b[39m@functools\u001b[39m\u001b[39m.\u001b[39mwraps(local_jit)\n\u001b[1;32m     52\u001b[0m \u001b[39mdef\u001b[39;00m \u001b[39mmpi_jit\u001b[39m(comm, \u001b[39m*\u001b[39margs, \u001b[39m*\u001b[39m\u001b[39m*\u001b[39mkwargs):\n\u001b[1;32m     53\u001b[0m \n\u001b[1;32m     54\u001b[0m     \u001b[39m# Just call JIT compiler when running in serial\u001b[39;00m\n\u001b[1;32m     55\u001b[0m     \u001b[39mif\u001b[39;00m comm\u001b[39m.\u001b[39msize \u001b[39m==\u001b[39m \u001b[39m1\u001b[39m:\n\u001b[0;32m---> 56\u001b[0m         \u001b[39mreturn\u001b[39;00m local_jit(\u001b[39m*\u001b[39;49margs, \u001b[39m*\u001b[39;49m\u001b[39m*\u001b[39;49mkwargs)\n\u001b[1;32m     58\u001b[0m     \u001b[39m# Default status (0 == ok, 1 == fail)\u001b[39;00m\n\u001b[1;32m     59\u001b[0m     status \u001b[39m=\u001b[39m \u001b[39m0\u001b[39m\n",
      "File \u001b[0;32m/usr/local/dolfinx-real/lib/python3.10/dist-packages/dolfinx/jit.py:210\u001b[0m, in \u001b[0;36mffcx_jit\u001b[0;34m(ufl_object, form_compiler_options, jit_options)\u001b[0m\n\u001b[1;32m    208\u001b[0m     r \u001b[39m=\u001b[39m ffcx\u001b[39m.\u001b[39mcodegeneration\u001b[39m.\u001b[39mjit\u001b[39m.\u001b[39mcompile_coordinate_maps([ufl_object], options\u001b[39m=\u001b[39mp_ffcx, \u001b[39m*\u001b[39m\u001b[39m*\u001b[39mp_jit)\n\u001b[1;32m    209\u001b[0m \u001b[39melif\u001b[39;00m \u001b[39misinstance\u001b[39m(ufl_object, \u001b[39mtuple\u001b[39m) \u001b[39mand\u001b[39;00m \u001b[39misinstance\u001b[39m(ufl_object[\u001b[39m0\u001b[39m], ufl\u001b[39m.\u001b[39mcore\u001b[39m.\u001b[39mexpr\u001b[39m.\u001b[39mExpr):\n\u001b[0;32m--> 210\u001b[0m     r \u001b[39m=\u001b[39m ffcx\u001b[39m.\u001b[39;49mcodegeneration\u001b[39m.\u001b[39;49mjit\u001b[39m.\u001b[39;49mcompile_expressions([ufl_object], options\u001b[39m=\u001b[39;49mp_ffcx, \u001b[39m*\u001b[39;49m\u001b[39m*\u001b[39;49mp_jit)\n\u001b[1;32m    211\u001b[0m \u001b[39melse\u001b[39;00m:\n\u001b[1;32m    212\u001b[0m     \u001b[39mraise\u001b[39;00m \u001b[39mTypeError\u001b[39;00m(\u001b[39mtype\u001b[39m(ufl_object))\n",
      "File \u001b[0;32m/usr/local/lib/python3.10/dist-packages/ffcx/codegeneration/jit.py:247\u001b[0m, in \u001b[0;36mcompile_expressions\u001b[0;34m(expressions, options, cache_dir, timeout, cffi_extra_compile_args, cffi_verbose, cffi_debug, cffi_libraries)\u001b[0m\n\u001b[1;32m    245\u001b[0m     \u001b[39mexcept\u001b[39;00m \u001b[39mException\u001b[39;00m:\n\u001b[1;32m    246\u001b[0m         \u001b[39mpass\u001b[39;00m\n\u001b[0;32m--> 247\u001b[0m     \u001b[39mraise\u001b[39;00m e\n\u001b[1;32m    249\u001b[0m obj, module \u001b[39m=\u001b[39m _load_objects(cache_dir, module_name, expr_names)\n\u001b[1;32m    250\u001b[0m \u001b[39mreturn\u001b[39;00m obj, module, (decl, impl)\n",
      "File \u001b[0;32m/usr/local/lib/python3.10/dist-packages/ffcx/codegeneration/jit.py:238\u001b[0m, in \u001b[0;36mcompile_expressions\u001b[0;34m(expressions, options, cache_dir, timeout, cffi_extra_compile_args, cffi_verbose, cffi_debug, cffi_libraries)\u001b[0m\n\u001b[1;32m    235\u001b[0m     \u001b[39mfor\u001b[39;00m name \u001b[39min\u001b[39;00m expr_names:\n\u001b[1;32m    236\u001b[0m         decl \u001b[39m+\u001b[39m\u001b[39m=\u001b[39m expression_template\u001b[39m.\u001b[39mformat(name\u001b[39m=\u001b[39mname)\n\u001b[0;32m--> 238\u001b[0m     impl \u001b[39m=\u001b[39m _compile_objects(decl, expressions, expr_names, module_name, p, cache_dir,\n\u001b[1;32m    239\u001b[0m                             cffi_extra_compile_args, cffi_verbose, cffi_debug, cffi_libraries)\n\u001b[1;32m    240\u001b[0m \u001b[39mexcept\u001b[39;00m \u001b[39mException\u001b[39;00m \u001b[39mas\u001b[39;00m e:\n\u001b[1;32m    241\u001b[0m     \u001b[39mtry\u001b[39;00m:\n\u001b[1;32m    242\u001b[0m         \u001b[39m# remove c file so that it will not timeout next time\u001b[39;00m\n",
      "File \u001b[0;32m/usr/local/lib/python3.10/dist-packages/ffcx/codegeneration/jit.py:260\u001b[0m, in \u001b[0;36m_compile_objects\u001b[0;34m(decl, ufl_objects, object_names, module_name, options, cache_dir, cffi_extra_compile_args, cffi_verbose, cffi_debug, cffi_libraries)\u001b[0m\n\u001b[1;32m    256\u001b[0m \u001b[39mimport\u001b[39;00m \u001b[39mffcx\u001b[39;00m\u001b[39m.\u001b[39;00m\u001b[39mcompiler\u001b[39;00m\n\u001b[1;32m    258\u001b[0m \u001b[39m# JIT uses module_name as prefix, which is needed to make names of all struct/function\u001b[39;00m\n\u001b[1;32m    259\u001b[0m \u001b[39m# unique across modules\u001b[39;00m\n\u001b[0;32m--> 260\u001b[0m _, code_body \u001b[39m=\u001b[39m ffcx\u001b[39m.\u001b[39;49mcompiler\u001b[39m.\u001b[39;49mcompile_ufl_objects(ufl_objects, prefix\u001b[39m=\u001b[39;49mmodule_name, options\u001b[39m=\u001b[39;49moptions)\n\u001b[1;32m    262\u001b[0m ffibuilder \u001b[39m=\u001b[39m cffi\u001b[39m.\u001b[39mFFI()\n\u001b[1;32m    263\u001b[0m ffibuilder\u001b[39m.\u001b[39mset_source(module_name, code_body, include_dirs\u001b[39m=\u001b[39m[ffcx\u001b[39m.\u001b[39mcodegeneration\u001b[39m.\u001b[39mget_include_path()],\n\u001b[1;32m    264\u001b[0m                       extra_compile_args\u001b[39m=\u001b[39mcffi_extra_compile_args, libraries\u001b[39m=\u001b[39mcffi_libraries)\n",
      "File \u001b[0;32m/usr/local/lib/python3.10/dist-packages/ffcx/compiler.py:102\u001b[0m, in \u001b[0;36mcompile_ufl_objects\u001b[0;34m(ufl_objects, object_names, prefix, options, visualise)\u001b[0m\n\u001b[1;32m    100\u001b[0m \u001b[39m# Stage 2: intermediate representation\u001b[39;00m\n\u001b[1;32m    101\u001b[0m cpu_time \u001b[39m=\u001b[39m time()\n\u001b[0;32m--> 102\u001b[0m ir \u001b[39m=\u001b[39m compute_ir(analysis, object_names, prefix, options, visualise)\n\u001b[1;32m    103\u001b[0m _print_timing(\u001b[39m2\u001b[39m, time() \u001b[39m-\u001b[39m cpu_time)\n\u001b[1;32m    105\u001b[0m \u001b[39m# Stage 3: code generation\u001b[39;00m\n",
      "File \u001b[0;32m/usr/local/lib/python3.10/dist-packages/ffcx/ir/representation.py:211\u001b[0m, in \u001b[0;36mcompute_ir\u001b[0;34m(analysis, object_names, prefix, options, visualise)\u001b[0m\n\u001b[1;32m    205\u001b[0m ir_integrals \u001b[39m=\u001b[39m \u001b[39mlist\u001b[39m(itertools\u001b[39m.\u001b[39mchain(\u001b[39m*\u001b[39mirs))\n\u001b[1;32m    207\u001b[0m ir_forms \u001b[39m=\u001b[39m [_compute_form_ir(fd, i, prefix, form_names, integral_names, analysis\u001b[39m.\u001b[39melement_numbers,\n\u001b[1;32m    208\u001b[0m                              finite_element_names, dofmap_names, object_names)\n\u001b[1;32m    209\u001b[0m             \u001b[39mfor\u001b[39;00m (i, fd) \u001b[39min\u001b[39;00m \u001b[39menumerate\u001b[39m(analysis\u001b[39m.\u001b[39mform_data)]\n\u001b[0;32m--> 211\u001b[0m ir_expressions \u001b[39m=\u001b[39m [_compute_expression_ir(expr, i, prefix, analysis, options, visualise, object_names,\n\u001b[1;32m    212\u001b[0m                                          finite_element_names, dofmap_names)\n\u001b[1;32m    213\u001b[0m                   \u001b[39mfor\u001b[39;00m i, expr \u001b[39min\u001b[39;00m \u001b[39menumerate\u001b[39m(analysis\u001b[39m.\u001b[39mexpressions)]\n\u001b[1;32m    215\u001b[0m \u001b[39mreturn\u001b[39;00m DataIR(elements\u001b[39m=\u001b[39mir_elements, dofmaps\u001b[39m=\u001b[39mir_dofmaps,\n\u001b[1;32m    216\u001b[0m               integrals\u001b[39m=\u001b[39mir_integrals, forms\u001b[39m=\u001b[39mir_forms,\n\u001b[1;32m    217\u001b[0m               expressions\u001b[39m=\u001b[39mir_expressions)\n",
      "File \u001b[0;32m/usr/local/lib/python3.10/dist-packages/ffcx/ir/representation.py:211\u001b[0m, in \u001b[0;36m<listcomp>\u001b[0;34m(.0)\u001b[0m\n\u001b[1;32m    205\u001b[0m ir_integrals \u001b[39m=\u001b[39m \u001b[39mlist\u001b[39m(itertools\u001b[39m.\u001b[39mchain(\u001b[39m*\u001b[39mirs))\n\u001b[1;32m    207\u001b[0m ir_forms \u001b[39m=\u001b[39m [_compute_form_ir(fd, i, prefix, form_names, integral_names, analysis\u001b[39m.\u001b[39melement_numbers,\n\u001b[1;32m    208\u001b[0m                              finite_element_names, dofmap_names, object_names)\n\u001b[1;32m    209\u001b[0m             \u001b[39mfor\u001b[39;00m (i, fd) \u001b[39min\u001b[39;00m \u001b[39menumerate\u001b[39m(analysis\u001b[39m.\u001b[39mform_data)]\n\u001b[0;32m--> 211\u001b[0m ir_expressions \u001b[39m=\u001b[39m [_compute_expression_ir(expr, i, prefix, analysis, options, visualise, object_names,\n\u001b[1;32m    212\u001b[0m                                          finite_element_names, dofmap_names)\n\u001b[1;32m    213\u001b[0m                   \u001b[39mfor\u001b[39;00m i, expr \u001b[39min\u001b[39;00m \u001b[39menumerate\u001b[39m(analysis\u001b[39m.\u001b[39mexpressions)]\n\u001b[1;32m    215\u001b[0m \u001b[39mreturn\u001b[39;00m DataIR(elements\u001b[39m=\u001b[39mir_elements, dofmaps\u001b[39m=\u001b[39mir_dofmaps,\n\u001b[1;32m    216\u001b[0m               integrals\u001b[39m=\u001b[39mir_integrals, forms\u001b[39m=\u001b[39mir_forms,\n\u001b[1;32m    217\u001b[0m               expressions\u001b[39m=\u001b[39mir_expressions)\n",
      "File \u001b[0;32m/usr/local/lib/python3.10/dist-packages/ffcx/ir/representation.py:706\u001b[0m, in \u001b[0;36m_compute_expression_ir\u001b[0;34m(expression, index, prefix, analysis, options, visualise, object_names, finite_element_names, dofmap_names)\u001b[0m\n\u001b[1;32m    703\u001b[0m \u001b[39mif\u001b[39;00m cell \u001b[39mis\u001b[39;00m \u001b[39mNone\u001b[39;00m:\n\u001b[1;32m    704\u001b[0m     \u001b[39massert\u001b[39;00m \u001b[39mlen\u001b[39m(ir[\u001b[39m\"\u001b[39m\u001b[39moriginal_coefficient_positions\u001b[39m\u001b[39m\"\u001b[39m]) \u001b[39m==\u001b[39m \u001b[39m0\u001b[39m \u001b[39mand\u001b[39;00m \u001b[39mlen\u001b[39m(ir[\u001b[39m\"\u001b[39m\u001b[39moriginal_constant_offsets\u001b[39m\u001b[39m\"\u001b[39m]) \u001b[39m==\u001b[39m \u001b[39m0\u001b[39m\n\u001b[0;32m--> 706\u001b[0m expression_ir \u001b[39m=\u001b[39m compute_integral_ir(cell, ir[\u001b[39m\"\u001b[39;49m\u001b[39mintegral_type\u001b[39;49m\u001b[39m\"\u001b[39;49m], ir[\u001b[39m\"\u001b[39;49m\u001b[39mentitytype\u001b[39;49m\u001b[39m\"\u001b[39;49m], integrands, tensor_shape,\n\u001b[1;32m    707\u001b[0m                                     options, visualise)\n\u001b[1;32m    709\u001b[0m ir\u001b[39m.\u001b[39mupdate(expression_ir)\n\u001b[1;32m    711\u001b[0m \u001b[39mreturn\u001b[39;00m ExpressionIR(\u001b[39m*\u001b[39m\u001b[39m*\u001b[39mir)\n",
      "File \u001b[0;32m/usr/local/lib/python3.10/dist-packages/ffcx/ir/integral.py:84\u001b[0m, in \u001b[0;36mcompute_integral_ir\u001b[0;34m(cell, integral_type, entitytype, integrands, argument_shape, p, visualise)\u001b[0m\n\u001b[1;32m     74\u001b[0m \u001b[39m# Build terminal_data from V here before factorization. Then we\u001b[39;00m\n\u001b[1;32m     75\u001b[0m \u001b[39m# can use it to derive table properties for all modified\u001b[39;00m\n\u001b[1;32m     76\u001b[0m \u001b[39m# terminals, and then use that to rebuild the scalar graph more\u001b[39;00m\n\u001b[1;32m     77\u001b[0m \u001b[39m# efficiently before argument factorization. We can build\u001b[39;00m\n\u001b[1;32m     78\u001b[0m \u001b[39m# terminal_data again after factorization if that's necessary.\u001b[39;00m\n\u001b[1;32m     80\u001b[0m initial_terminals \u001b[39m=\u001b[39m {i: analyse_modified_terminal(v[\u001b[39m'\u001b[39m\u001b[39mexpression\u001b[39m\u001b[39m'\u001b[39m])\n\u001b[1;32m     81\u001b[0m                      \u001b[39mfor\u001b[39;00m i, v \u001b[39min\u001b[39;00m S\u001b[39m.\u001b[39mnodes\u001b[39m.\u001b[39mitems()\n\u001b[1;32m     82\u001b[0m                      \u001b[39mif\u001b[39;00m is_modified_terminal(v[\u001b[39m'\u001b[39m\u001b[39mexpression\u001b[39m\u001b[39m'\u001b[39m])}\n\u001b[0;32m---> 84\u001b[0m mt_table_reference \u001b[39m=\u001b[39m build_optimized_tables(\n\u001b[1;32m     85\u001b[0m     quadrature_rule,\n\u001b[1;32m     86\u001b[0m     cell,\n\u001b[1;32m     87\u001b[0m     integral_type,\n\u001b[1;32m     88\u001b[0m     entitytype,\n\u001b[1;32m     89\u001b[0m     initial_terminals\u001b[39m.\u001b[39;49mvalues(),\n\u001b[1;32m     90\u001b[0m     ir[\u001b[39m\"\u001b[39;49m\u001b[39munique_tables\u001b[39;49m\u001b[39m\"\u001b[39;49m],\n\u001b[1;32m     91\u001b[0m     rtol\u001b[39m=\u001b[39;49mp[\u001b[39m\"\u001b[39;49m\u001b[39mtable_rtol\u001b[39;49m\u001b[39m\"\u001b[39;49m],\n\u001b[1;32m     92\u001b[0m     atol\u001b[39m=\u001b[39;49mp[\u001b[39m\"\u001b[39;49m\u001b[39mtable_atol\u001b[39;49m\u001b[39m\"\u001b[39;49m])\n\u001b[1;32m     94\u001b[0m \u001b[39m# Fetch unique tables for this quadrature rule\u001b[39;00m\n\u001b[1;32m     95\u001b[0m table_types \u001b[39m=\u001b[39m {v\u001b[39m.\u001b[39mname: v\u001b[39m.\u001b[39mttype \u001b[39mfor\u001b[39;00m v \u001b[39min\u001b[39;00m mt_table_reference\u001b[39m.\u001b[39mvalues()}\n",
      "File \u001b[0;32m/usr/local/lib/python3.10/dist-packages/ffcx/ir/elementtables.py:360\u001b[0m, in \u001b[0;36mbuild_optimized_tables\u001b[0;34m(quadrature_rule, cell, integral_type, entitytype, modified_terminals, existing_tables, rtol, atol)\u001b[0m\n\u001b[1;32m    358\u001b[0m             t[\u001b[39m'\u001b[39m\u001b[39marray\u001b[39m\u001b[39m'\u001b[39m] \u001b[39m=\u001b[39m np\u001b[39m.\u001b[39mvstack([td[\u001b[39m'\u001b[39m\u001b[39marray\u001b[39m\u001b[39m'\u001b[39m] \u001b[39mfor\u001b[39;00m td \u001b[39min\u001b[39;00m new_table])\n\u001b[1;32m    359\u001b[0m \u001b[39melse\u001b[39;00m:\n\u001b[0;32m--> 360\u001b[0m     t \u001b[39m=\u001b[39m get_ffcx_table_values(quadrature_rule\u001b[39m.\u001b[39;49mpoints, cell,\n\u001b[1;32m    361\u001b[0m                               integral_type, element, avg, entitytype,\n\u001b[1;32m    362\u001b[0m                               local_derivatives, flat_component)\n\u001b[1;32m    363\u001b[0m \u001b[39m# Clean up table\u001b[39;00m\n\u001b[1;32m    364\u001b[0m tbl \u001b[39m=\u001b[39m clamp_table_small_numbers(t[\u001b[39m'\u001b[39m\u001b[39marray\u001b[39m\u001b[39m'\u001b[39m], rtol\u001b[39m=\u001b[39mrtol, atol\u001b[39m=\u001b[39matol)\n",
      "File \u001b[0;32m/usr/local/lib/python3.10/dist-packages/ffcx/ir/elementtables.py:124\u001b[0m, in \u001b[0;36mget_ffcx_table_values\u001b[0;34m(points, cell, integral_type, element, avg, entitytype, derivative_counts, flat_component)\u001b[0m\n\u001b[1;32m    122\u001b[0m \u001b[39mfor\u001b[39;00m entity \u001b[39min\u001b[39;00m \u001b[39mrange\u001b[39m(num_entities):\n\u001b[1;32m    123\u001b[0m     entity_points \u001b[39m=\u001b[39m map_integral_points(points, integral_type, cell, entity)\n\u001b[0;32m--> 124\u001b[0m     tbl \u001b[39m=\u001b[39m component_element\u001b[39m.\u001b[39;49mtabulate(deriv_order, entity_points)\n\u001b[1;32m    125\u001b[0m     tbl \u001b[39m=\u001b[39m tbl[basix_index(derivative_counts)]\n\u001b[1;32m    126\u001b[0m     component_tables\u001b[39m.\u001b[39mappend(tbl)\n",
      "File \u001b[0;32m/usr/local/lib/python3.10/dist-packages/basix/ufl.py:1436\u001b[0m, in \u001b[0;36m_QuadratureElement.tabulate\u001b[0;34m(self, nderivs, points)\u001b[0m\n\u001b[1;32m   1433\u001b[0m     \u001b[39mraise\u001b[39;00m \u001b[39mValueError\u001b[39;00m(\u001b[39m\"\u001b[39m\u001b[39mCannot take derivatives of Quadrature element.\u001b[39m\u001b[39m\"\u001b[39m)\n\u001b[1;32m   1435\u001b[0m \u001b[39mif\u001b[39;00m points\u001b[39m.\u001b[39mshape \u001b[39m!=\u001b[39m \u001b[39mself\u001b[39m\u001b[39m.\u001b[39m_points\u001b[39m.\u001b[39mshape:\n\u001b[0;32m-> 1436\u001b[0m     \u001b[39mraise\u001b[39;00m \u001b[39mValueError\u001b[39;00m(\u001b[39m\"\u001b[39m\u001b[39mMismatch of tabulation points and element points.\u001b[39m\u001b[39m\"\u001b[39m)\n\u001b[1;32m   1437\u001b[0m tables \u001b[39m=\u001b[39m _np\u001b[39m.\u001b[39masarray([_np\u001b[39m.\u001b[39meye(points\u001b[39m.\u001b[39mshape[\u001b[39m0\u001b[39m], points\u001b[39m.\u001b[39mshape[\u001b[39m0\u001b[39m])])\n\u001b[1;32m   1438\u001b[0m \u001b[39mreturn\u001b[39;00m tables\n",
      "\u001b[0;31mValueError\u001b[0m: Mismatch of tabulation points and element points."
     ]
    }
   ],
   "source": [
    "Quad_Exp=  Expression(E_p[0],V_scal.element.interpolation_points())\n",
    "E_00.interpolate(Quad_Exp)"
   ]
  }
 ],
 "metadata": {
  "kernelspec": {
   "display_name": ".venv",
   "language": "python",
   "name": "python3"
  },
  "language_info": {
   "codemirror_mode": {
    "name": "ipython",
    "version": 3
   },
   "file_extension": ".py",
   "mimetype": "text/x-python",
   "name": "python",
   "nbconvert_exporter": "python",
   "pygments_lexer": "ipython3",
   "version": "3.10.12"
  }
 },
 "nbformat": 4,
 "nbformat_minor": 2
}
