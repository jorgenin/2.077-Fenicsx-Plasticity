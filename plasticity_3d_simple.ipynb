{
 "cells": [
  {
   "cell_type": "markdown",
   "metadata": {},
   "source": [
    "# Simple 3D Finite Plasticity model\n",
    "\n"
   ]
  },
  {
   "cell_type": "code",
   "execution_count": 1,
   "metadata": {},
   "outputs": [],
   "source": [
    "import numpy as np\n",
    "\n",
    "import dolfinx\n",
    "\n",
    "from mpi4py import MPI\n",
    "from petsc4py import PETSc\n",
    "\n",
    "from dolfinx import fem, mesh, io, plot, log,default_scalar_type\n",
    "from dolfinx.fem import (Constant, dirichletbc, Function, functionspace, Expression )\n",
    "from dolfinx.fem.petsc import NonlinearProblem,LinearProblem\n",
    "from dolfinx.nls.petsc import NewtonSolver\n",
    "from dolfinx.io import XDMFFile\n",
    "import ufl\n",
    "from ufl import (TestFunctions, TrialFunction, Identity, grad, det, div, dev, inv, tr, sqrt, conditional , gt, dx, inner, derivative, dot, ln, split,TestFunction,indices,as_tensor)\n",
    "from basix.ufl import element, mixed_element, quadrature_element\n",
    "from datetime import datetime\n",
    "from dolfinx.plot import vtk_mesh\n",
    "\n",
    "import pyvista\n",
    "pyvista.set_jupyter_backend('client')\n",
    "## Define temporal parameters"
   ]
  },
  {
   "cell_type": "markdown",
   "metadata": {},
   "source": [
    "## Some parameters"
   ]
  },
  {
   "cell_type": "code",
   "execution_count": 2,
   "metadata": {},
   "outputs": [],
   "source": [
    "e_dot = 0.001 # strain rate per second \n",
    "e_max = 0.01 # absolute value of maximum strain\n",
    "\n",
    "\n",
    "K_val = 160e9 # Bulk modulus \n",
    "G_val = 80e9 # Shear modulus\n",
    "Y0 = 100e6 # Initial yield \n",
    "h0 = 0 # Initial hardening modulus \n",
    "Y_star = 100e6 # Yield saturation \n",
    "r = 0 #Hardening exponent \n",
    "C_back = 0 #Backstress modulus \n",
    "gamma = 0 # Nonlinear kinematic parameter\n",
    "\n"
   ]
  },
  {
   "cell_type": "markdown",
   "metadata": {},
   "source": [
    "# Define Geometry"
   ]
  },
  {
   "cell_type": "code",
   "execution_count": 3,
   "metadata": {},
   "outputs": [],
   "source": [
    "length = 10.0 # mm\n",
    "longside= 100\n",
    "num_elements = 10\n",
    "domain = mesh.create_box(MPI.COMM_WORLD,[[0.0,0.0,0.0],[longside,length,length]],[num_elements*10,num_elements,num_elements],mesh.CellType.tetrahedron)"
   ]
  },
  {
   "cell_type": "code",
   "execution_count": 4,
   "metadata": {},
   "outputs": [
    {
     "data": {
      "application/vnd.jupyter.widget-view+json": {
       "model_id": "a65f74e47b194628aeda62ce6a1b2e05",
       "version_major": 2,
       "version_minor": 0
      },
      "text/plain": [
       "Widget(value=\"<iframe src='http://localhost:41537/index.html?ui=P_0xffff7d62a320_0&reconnect=auto' style='widt…"
      ]
     },
     "metadata": {},
     "output_type": "display_data"
    }
   ],
   "source": [
    "plotter = pyvista.Plotter()\n",
    "vtkdata = vtk_mesh(domain, domain.topology.dim)\n",
    "grid = pyvista.UnstructuredGrid(*vtkdata)\n",
    "actor = plotter.add_mesh(grid, show_edges=True)\n",
    "plotter.show()\n",
    "plotter.close()"
   ]
  },
  {
   "cell_type": "markdown",
   "metadata": {},
   "source": [
    "# Defining Function Spaces"
   ]
  },
  {
   "cell_type": "code",
   "execution_count": 5,
   "metadata": {},
   "outputs": [],
   "source": [
    "# Tensor space\n",
    "T_Ele = quadrature_element(domain.topology.cell_name(),value_shape=(3,3),degree=1)\n",
    "\n",
    "n = 0\n",
    "U_Ele = element(\"Lagrange\", domain.basix_cell(),1,shape=(3,))\n",
    "\n",
    "#T_quad = functionspace(domain,T_Ele)\n",
    "V_u = functionspace(domain,U_Ele)"
   ]
  },
  {
   "cell_type": "code",
   "execution_count": 6,
   "metadata": {},
   "outputs": [],
   "source": [
    "#MAT Properties\n",
    "\n",
    "K = Constant(domain,K_val) #200 MPa Bulk Modulus\n",
    "G = Constant(domain,G_val) #80 Mpa Shear Modulus\n",
    "\n",
    "I = Identity(3)\n",
    "II = ufl.outer(I,I)\n",
    "i,j,k,l = indices(4)\n",
    "Ident_sym_ii =1/2 * (I[i,k]*I[j,l] + I[i,l]*I[j,k])\n",
    "\n",
    "Ident_sym = as_tensor(Ident_sym_ii,(i,j,k,l))\n",
    "C = 2*G*Ident_sym + (K-(2/3)*G)*II"
   ]
  },
  {
   "cell_type": "code",
   "execution_count": null,
   "metadata": {},
   "outputs": [],
   "source": [
    "u = Function(V_u)\n",
    "\n",
    "#Total Strain\n",
    "E = ufl.sym(grad(u))\n",
    "\n",
    "Ep = En - Epn"
   ]
  }
 ],
 "metadata": {
  "kernelspec": {
   "display_name": ".venv",
   "language": "python",
   "name": "python3"
  },
  "language_info": {
   "codemirror_mode": {
    "name": "ipython",
    "version": 3
   },
   "file_extension": ".py",
   "mimetype": "text/x-python",
   "name": "python",
   "nbconvert_exporter": "python",
   "pygments_lexer": "ipython3",
   "version": "3.10.12"
  }
 },
 "nbformat": 4,
 "nbformat_minor": 2
}
