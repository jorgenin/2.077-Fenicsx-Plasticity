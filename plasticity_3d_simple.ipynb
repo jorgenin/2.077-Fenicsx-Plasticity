{
 "cells": [
  {
   "cell_type": "markdown",
   "metadata": {},
   "source": [
    "# Simple 3D Finite Plasticity model\n",
    "\n"
   ]
  },
  {
   "cell_type": "code",
   "execution_count": 1,
   "metadata": {},
   "outputs": [],
   "source": [
    "import numpy as np\n",
    "\n",
    "import dolfinx\n",
    "\n",
    "from mpi4py import MPI\n",
    "from petsc4py import PETSc\n",
    "\n",
    "from dolfinx import fem, mesh, io, plot, log,default_scalar_type\n",
    "from dolfinx.fem import (Constant, dirichletbc, Function, functionspace, Expression )\n",
    "from dolfinx.fem.petsc import NonlinearProblem,LinearProblem\n",
    "from dolfinx.nls.petsc import NewtonSolver\n",
    "from dolfinx.io import XDMFFile\n",
    "import ufl\n",
    "from ufl import (TestFunctions, TrialFunction, Identity, grad, det, div, dev, inv, tr, sqrt, conditional , gt, dx, inner, derivative, dot, ln, split,TestFunction,indices,as_tensor)\n",
    "from basix.ufl import element, mixed_element, quadrature_element\n",
    "from datetime import datetime\n",
    "from dolfinx.plot import vtk_mesh\n",
    "from dolfinx.fem.petsc import  assemble_matrix, assemble_vector, apply_lifting, create_vector, set_bc,create_matrix, create_vector\n",
    "import basix\n",
    "import pyvista\n",
    "pyvista.set_jupyter_backend('client')\n",
    "## Define temporal parameters"
   ]
  },
  {
   "cell_type": "markdown",
   "metadata": {},
   "source": [
    "## Some parameters"
   ]
  },
  {
   "cell_type": "code",
   "execution_count": 2,
   "metadata": {},
   "outputs": [],
   "source": [
    "# Geometric parameters\n",
    "geom = {\"longside\" : 100.0,     # mm\n",
    "        \"side\" : 10.0,      # mm\n",
    "        \"num_elements\" : 3,    # size of a cell\n",
    "        }\n",
    "\n",
    "\n",
    "# Mechanicals parameters\n",
    "mech = {\"E\" : 200e3,    # MPa\n",
    "        \"nu\" : 0.3,     #       \n",
    "        \"sig0\" : 250.,  # MPa\n",
    "        \"H\" : 707., # MPa\n",
    "        }\n",
    "\n",
    "\n",
    "# Study parameters\n",
    "stud = {\"deg u\" : 2,    # Interpolation of u\n",
    "        \"deg sig\" : 2,  # Interpolation of sig, eps, p\n",
    "        \"N incr\" : 50,  # Number of load steps\n",
    "        \"Max Disp\" : 1 # Maximal displacement\n",
    "        }\n"
   ]
  },
  {
   "cell_type": "markdown",
   "metadata": {},
   "source": [
    "# Define Geometry"
   ]
  },
  {
   "cell_type": "code",
   "execution_count": 3,
   "metadata": {},
   "outputs": [],
   "source": [
    "\n",
    "domain = mesh.create_box(MPI.COMM_WORLD,[[0.0,0.0,0.0],[geom[\"longside\"],geom[\"side\"],geom[\"side\"]]],[geom[\"num_elements\"]*10,geom[\"num_elements\"],geom[\"num_elements\"]])"
   ]
  },
  {
   "cell_type": "code",
   "execution_count": 4,
   "metadata": {},
   "outputs": [
    {
     "data": {
      "application/vnd.jupyter.widget-view+json": {
       "model_id": "02d26595af734279b138ea7c31ce117b",
       "version_major": 2,
       "version_minor": 0
      },
      "text/plain": [
       "Widget(value=\"<iframe src='http://localhost:36803/index.html?ui=P_0xffff653e7ca0_0&reconnect=auto' style='widt…"
      ]
     },
     "metadata": {},
     "output_type": "display_data"
    }
   ],
   "source": [
    "plotter = pyvista.Plotter()\n",
    "vtkdata = vtk_mesh(domain, domain.topology.dim)\n",
    "grid = pyvista.UnstructuredGrid(*vtkdata)\n",
    "actor = plotter.add_mesh(grid, show_edges=True)\n",
    "plotter.show()\n",
    "plotter.close()"
   ]
  },
  {
   "cell_type": "markdown",
   "metadata": {},
   "source": [
    "## Material Parameters"
   ]
  },
  {
   "cell_type": "code",
   "execution_count": 5,
   "metadata": {},
   "outputs": [],
   "source": [
    "E = Constant(domain, mech[\"E\"])\n",
    "nu = Constant(domain, mech[\"nu\"])\n",
    "lmbda = E * nu / (1 + nu) / (1 - 2 * nu)\n",
    "mu = E / 2.0 / (1 + nu)\n",
    "sig0 = Constant(domain, mech[\"sig0\"])  # yield strength\n",
    "H = Constant(domain,mech[\"H\"])  # hardening modulus"
   ]
  },
  {
   "cell_type": "markdown",
   "metadata": {},
   "source": [
    "## Defining Boundary"
   ]
  },
  {
   "cell_type": "code",
   "execution_count": 6,
   "metadata": {},
   "outputs": [],
   "source": [
    "def xBot(x):\n",
    "    return np.isclose(x[0], 0)\n",
    "def xTop(x):\n",
    "    return np.isclose(x[0], geom[\"longside\"])\n",
    "def yBot(x):\n",
    "    return np.isclose(x[1], 0)\n",
    "def yTop(x):\n",
    "    return np.isclose(x[1], geom[\"side\"])\n",
    "def zBot(x):\n",
    "    return np.isclose(x[2], 0)\n",
    "def zTop(x):\n",
    "    return np.isclose(x[2], geom[\"side\"])"
   ]
  },
  {
   "cell_type": "code",
   "execution_count": 7,
   "metadata": {},
   "outputs": [],
   "source": [
    "boundaries = [(1, xBot),(2,xTop),(3,yBot),(4,yTop),(5,zBot),(6,zTop)]\n",
    "\n",
    "facet_indices, facet_markers = [], []\n",
    "fdim = domain.topology.dim - 1\n",
    "for (marker, locator) in boundaries:\n",
    "    facets = mesh.locate_entities(domain, fdim, locator)\n",
    "    facet_indices.append(facets)\n",
    "    facet_markers.append(np.full_like(facets, marker))\n",
    "\n",
    "facet_indices = np.hstack(facet_indices).astype(np.int32)\n",
    "facet_markers = np.hstack(facet_markers).astype(np.int32)\n",
    "sorted_facets = np.argsort(facet_indices)\n",
    "facet_tag = mesh.meshtags(domain, fdim, facet_indices[sorted_facets], facet_markers[sorted_facets])\n"
   ]
  },
  {
   "cell_type": "markdown",
   "metadata": {},
   "source": [
    "# Defining Function Spaces"
   ]
  },
  {
   "cell_type": "code",
   "execution_count": 8,
   "metadata": {},
   "outputs": [],
   "source": [
    "deg_u = stud[\"deg u\"]\n",
    "deg_stress = stud[\"deg sig\"]\n",
    "Ve = element(\n",
    "    \"Lagrange\", domain.basix_cell(), deg_u, shape=(3,)\n",
    ")  # 2 degrees  of freedom\n",
    "V = functionspace(domain, Ve)\n",
    "\n",
    "Ve_scal = element(\n",
    "    \"Lagrange\", domain.basix_cell(), deg_u\n",
    ")\n",
    "V_scal = functionspace(domain, Ve_scal)\n",
    "\n",
    "We = quadrature_element(domain.basix_cell(), value_shape=(6,), degree=deg_stress,scheme='default')\n",
    "W = functionspace(domain, We)\n",
    "\n",
    "W_scal_e = quadrature_element(domain.basix_cell(), degree=deg_stress,scheme='default')\n",
    "W_scal = functionspace(domain, W_scal_e)"
   ]
  },
  {
   "cell_type": "code",
   "execution_count": 9,
   "metadata": {},
   "outputs": [],
   "source": [
    "T = Function(W,name = \"Stress\")\n",
    "E_p = Function(W, name=\"Total_Plastic_Strain\")\n",
    "e_p= Function(W_scal, name=\"Equivalent_Plastic_Strain\")\n",
    "u = Function(V, name=\"Total_displacement\")\n",
    "du = Function(V, name=\"Trial_displacement\")\n",
    "\n",
    "dp = Function(W_scal,name=\"Delta_plasticity\")\n",
    "\n",
    "\n",
    "\n",
    "v = TestFunction(V) #Function we are testing with\n",
    "du_ = TrialFunction(V) #Function we are solving for\n",
    "\n",
    "e_p_ = TrialFunction(W_scal)\n",
    "e_pv = TestFunction(W_scal)\n",
    "\n",
    "\n",
    "dx = ufl.Measure(\"dx\",domain=domain,  metadata={\"quadrature_degree\": deg_u, \"quadrature_scheme\": \"default\"} )\n",
    "ds = ufl.Measure('ds', domain=domain, subdomain_data=facet_tag,metadata={'quadrature_degree': deg_u})\n",
    "\n",
    "n = ufl.FacetNormal(domain)"
   ]
  },
  {
   "cell_type": "markdown",
   "metadata": {},
   "source": [
    "# Boundary Conditions"
   ]
  },
  {
   "cell_type": "code",
   "execution_count": 10,
   "metadata": {},
   "outputs": [],
   "source": [
    "left_facets = facet_tag.find(1)\n",
    "right_facets = facet_tag.find(2)\n",
    "fdim = domain.topology.dim - 1\n",
    "domain.topology.create_connectivity(fdim, domain.topology.dim)\n",
    "disp = Constant(domain,0.0)\n",
    "\n",
    "left_dofs_x = fem.locate_dofs_topological(V, fdim, left_facets)\n",
    "right_dofs_x = fem.locate_dofs_topological(V.sub(0),fdim, right_facets)\n",
    "\n",
    "sym_bottom = fem.dirichletbc(np.array((0.0,0.0,0.0)), left_dofs_x, V)\n",
    "sym_left = fem.dirichletbc(disp, right_dofs_x, V.sub(0))\n",
    "\n",
    "bcs = [sym_bottom, sym_left]\n",
    "\n",
    "\n",
    "\n",
    "def F_ext(t):\n",
    "    return t*stud[\"Max Disp\"]"
   ]
  },
  {
   "cell_type": "markdown",
   "metadata": {},
   "source": [
    "# Constitive Relations"
   ]
  },
  {
   "cell_type": "code",
   "execution_count": 11,
   "metadata": {},
   "outputs": [],
   "source": [
    "from ufl.tensors import ComponentTensor\n",
    "\n",
    "\n",
    "def eps(v: Function) -> ComponentTensor:\n",
    "    \"\"\"\n",
    "    Generates a  strain tensor from input of a 3D displacement vector.\n",
    "\n",
    "\n",
    "    Parameters:\n",
    "    -----------\n",
    "        u (2d Vector Funciton): 3D displacement vector.\n",
    "\n",
    "    Returns:\n",
    "    --------\n",
    "        3x3 Tensor: Plain strain tensor generated from the displacement vector.\n",
    "    \"\"\"\n",
    "    e = ufl.sym(grad(v))\n",
    "    return e # Plain strain tensor\n",
    "\n",
    "\n",
    "def sigma_tr(eps_el):\n",
    "    \"\"\"\n",
    "    Generates the stress tensor from the input of a plain strain tensor.\n",
    "\n",
    "    Parameters:\n",
    "    ----------\n",
    "        eps_el (numpy.ndarray): Plain strain tensor.\n",
    "\n",
    "    Returns:\n",
    "    --------\n",
    "        3x3 Tensor: the trace of the plain stress tensor\n",
    "    \"\"\"\n",
    "    return 1./3. * (3. * lmbda + 2. * mu) * ufl.tr(eps_el) * ufl.Identity(3)\n",
    "\n",
    "\n",
    "def sigma_dev(eps_el):\n",
    "    \"\"\"\n",
    "    Generates the stress tensor from the input of a plain strain tensor.\n",
    "\n",
    "    Parameters:\n",
    "    ----------\n",
    "        eps_el (numpy.ndarray): Plain strain tensor.\n",
    "\n",
    "    Returns:\n",
    "    --------\n",
    "        3x3 Tensor: The deviatoric part of the stress tensor.\n",
    "    \"\"\"\n",
    "    return 2. * mu * ufl.dev(eps_el)\n",
    "\n",
    "\n",
    "def as_3D_tensor(X):\n",
    "    \"\"\"Converts an array to a 3D tensor.\n",
    "\n",
    "    Parameters:\n",
    "    ----------\n",
    "       X (Function): Array to be converted to 3D tensor.\n",
    "\n",
    "    Returns:\n",
    "    --------\n",
    "        3x3 Tensor: 3D tensor generated from the input array.\n",
    "    \"\"\"\n",
    "    return ufl.as_tensor([[X[0], X[3], X[4]],\n",
    "                      [X[3], X[1], X[5]],\n",
    "                      [X[4], X[5], X[2]]])\n",
    "\n",
    "def tensor_to_vector(X): \n",
    "    ''' \n",
    "    Take a 3x3 tensor and return a vector of size 4 in 2D\n",
    "    '''\n",
    "    return ufl.as_vector([X[0, 0], X[1, 1], X[2, 2], X[0, 1], X[0, 2], X[1, 2]])\n",
    "\n",
    "\n",
    "def sigma(eps_el: Function) -> ComponentTensor:\n",
    "    \n",
    "    return lmbda * tr(eps_el) * Identity(3) + 2 * mu * eps_el\n"
   ]
  },
  {
   "cell_type": "code",
   "execution_count": 12,
   "metadata": {},
   "outputs": [],
   "source": [
    "def normVM(sig): # Von Mises equivalent stress\n",
    "    s_ = ufl.dev(sig)\n",
    "    return ufl.sqrt(3 / 2. * ufl.inner(s_, s_))"
   ]
  },
  {
   "cell_type": "code",
   "execution_count": 13,
   "metadata": {},
   "outputs": [],
   "source": [
    "#This is the plastic stress function (For now we'll just assume regular strain hardening)\n",
    "def Y(e_p):\n",
    "    return sig0  + H * e_p"
   ]
  },
  {
   "cell_type": "code",
   "execution_count": 14,
   "metadata": {},
   "outputs": [],
   "source": [
    "E_n = eps(u)\n",
    "del_E_n = eps(du_)\n",
    "E_p_tensor = as_3D_tensor(E_p)\n",
    "E_e_trial = E_n - E_p_tensor + del_E_n #Trial Elastic Strain\n",
    "\n",
    "T_trial = sigma(E_e_trial) #Trial cauchy stress\n",
    "#bilinear Part to solve for du Incrementally\n",
    "#This is the linear part (In total this will be 0)\n",
    "F_body = Constant(domain,np.array((0.0,0.0,0.0)))\n",
    "\n",
    "F = ufl.inner(T_trial,eps(v))*dx - ufl.inner(F_body, v) * dx \n",
    "\n",
    "a_du, L_du = ufl.lhs(F), ufl.rhs(F)"
   ]
  },
  {
   "cell_type": "code",
   "execution_count": 15,
   "metadata": {},
   "outputs": [],
   "source": [
    "\n",
    "del_E = eps(du)\n",
    "E_e_trial_plastic = E_n - E_p_tensor + del_E #Trial Elastic Strain for plastic step\n",
    "T_trial_p = sigma(E_e_trial_plastic)\n",
    "\n",
    "sigma_vm_trial = normVM(T_trial_p) #Trial Von Mises Stress\n",
    "\n",
    "N_p = dev(T_trial_p)/sigma_vm_trial\n",
    "\n",
    "f_trial = sigma_vm_trial - Y(e_p) #Trial Yield Function\n",
    "\n",
    "\n",
    "Phi = sigma_vm_trial - 3*mu*dp -Y(e_p+dp)\n",
    "Phi_cond = conditional(gt(f_trial, 0) , Phi, dp) #Plastic multiplier\n",
    "\n",
    "res_p = inner(Phi_cond,e_pv)*dx\n",
    "\n",
    "\n",
    "Jacobian = derivative(res_p,dp,e_p_)"
   ]
  },
  {
   "cell_type": "code",
   "execution_count": 16,
   "metadata": {},
   "outputs": [],
   "source": [
    "\n",
    "problem = NonlinearProblem(res_p, dp, [], Jacobian)\n",
    "nls_solver = NewtonSolver(MPI.COMM_WORLD, problem)\n",
    "nls_solver.convergence_criterion = \"incremental\"\n",
    "nls_solver.rtol = 1e-8\n",
    "nls_solver.atol = 1e-8\n",
    "nls_solver.max_it = 50\n",
    "nls_solver.report = True\n",
    "nls_solver.relaxation_parameter = 1\n",
    "\n",
    "\n",
    "\n",
    "ksp = nls_solver.krylov_solver\n",
    "opts = PETSc.Options()\n",
    "option_prefix = ksp.getOptionsPrefix()\n",
    "opts[f\"{option_prefix}ksp_type\"] = \"preonly\"\n",
    "opts[f\"{option_prefix}pc_type\"] = \"lu\"\n",
    "#opts[f\"{option_prefix}pc_hypre_type\"] = \"boomeramg\"\n",
    "#opts[f\"{option_prefix}pc_factor_mat_solver_type\"] = \"superlu_dist\"\n",
    "opts[f\"{option_prefix}ksp_max_it\"] = 50\n",
    "ksp.setFromOptions()"
   ]
  },
  {
   "cell_type": "code",
   "execution_count": 17,
   "metadata": {},
   "outputs": [],
   "source": [
    "def project(v, target_func, bcs=[]):\n",
    "    \"\"\"Project UFL expression.\n",
    "\n",
    "    Note\n",
    "    ----\n",
    "    This method solves a linear system (using KSP defaults).\n",
    "\n",
    "    \"\"\"\n",
    "\n",
    "    # Ensure we have a mesh and attach to measure\n",
    "    V = target_func.function_space\n",
    "    dx = ufl.dx(V.mesh)\n",
    "\n",
    "    # Define variational problem for projection\n",
    "    w = ufl.TestFunction(V)\n",
    "    Pv = ufl.TrialFunction(V)\n",
    "    a = dolfinx.fem.form(ufl.inner(Pv, w) * dx)\n",
    "    L = dolfinx.fem.form(ufl.inner(v, w) * dx)\n",
    "\n",
    "    # Assemble linear system\n",
    "    A = assemble_matrix(a, bcs)\n",
    "    A.assemble()\n",
    "    b = assemble_vector(L)\n",
    "    apply_lifting(b, [a], [bcs])\n",
    "    b.ghostUpdate(addv=PETSc.InsertMode.ADD, mode=PETSc.ScatterMode.REVERSE)\n",
    "    set_bc(b, bcs)\n",
    "\n",
    "    # Solve linear system\n",
    "    solver = PETSc.KSP().create(A.getComm())\n",
    "    solver.setOperators(A)\n",
    "    solver.solve(b, target_func.vector)\n",
    "\n",
    "    # Destroy PETSc linear algebra objects and solver\n",
    "    solver.destroy()\n",
    "    A.destroy()\n",
    "    b.destroy()"
   ]
  },
  {
   "cell_type": "code",
   "execution_count": 18,
   "metadata": {},
   "outputs": [],
   "source": [
    "def solve_plastic():\n",
    "    # Solve DP\n",
    "\n",
    "    nls_solver.solve(dp)\n",
    "    # Do updates\n",
    "    e_p_exp = Expression(e_p+dp,W_scal.element.interpolation_points())\n",
    "    e_p.interpolate(e_p_exp)\n",
    "    \n",
    "    E_p_expr = Expression(E_p+tensor_to_vector(N_p*dp*sqrt(3/2)),W.element.interpolation_points())\n",
    "    \n",
    "    E_p.interpolate(E_p_expr)"
   ]
  },
  {
   "cell_type": "code",
   "execution_count": 19,
   "metadata": {},
   "outputs": [],
   "source": [
    "def interpolate_quadrature(ufl_expr, fem_func:fem.Function):\n",
    "    q_dim = fem_func.function_space._ufl_element.degree\n",
    "    mesh = fem_func.ufl_function_space().mesh\n",
    "    \n",
    "    basix_celltype = mesh.basix_cell()\n",
    "    quadrature_points, weights = basix.make_quadrature(basix_celltype, q_dim)\n",
    "    map_c = mesh.topology.index_map(mesh.topology.dim)\n",
    "    num_cells = map_c.size_local + map_c.num_ghosts\n",
    "    cells = np.arange(0, num_cells, dtype=np.int32)\n",
    "\n",
    "    expr_expr = fem.Expression(ufl_expr, quadrature_points)\n",
    "    expr_eval = expr_expr.eval(mesh,cells)\n",
    "    fem_func.x.array[:] = expr_eval.flatten()"
   ]
  },
  {
   "cell_type": "code",
   "execution_count": 20,
   "metadata": {},
   "outputs": [],
   "source": [
    "\n",
    "a = fem.form(a_du)\n",
    "L = fem.form(L_du)\n",
    "A = assemble_matrix(a, bcs=bcs)\n",
    "A.assemble()\n",
    "b = create_vector(L)\n",
    "assemble_vector(b, L)\n",
    "apply_lifting(b, [a], [bcs],[u.vector], scale=1)\n",
    "set_bc(b, bcs,u.vector)\n",
    "\n",
    "\n",
    "Stress_Point = sigma(E_n - E_p_tensor)\n",
    "area= Constant(domain,(geom[\"side\"]*geom[\"side\"]))\n",
    "\n",
    "Elastic = Function(V_scal)\n",
    "project(Stress_Point[0,0],Elastic)\n",
    "engineeringStress= fem.form(Elastic/area*ds(2)) #P22/area*ds"
   ]
  },
  {
   "cell_type": "code",
   "execution_count": 21,
   "metadata": {},
   "outputs": [],
   "source": [
    "pointForStress = [geom[\"longside\"],0,0]\n",
    "\n",
    "bb_tree = dolfinx.geometry.bb_tree(domain,domain.topology.dim)\n",
    "cell_candidates = dolfinx.geometry.compute_collisions_points(bb_tree, np.array(pointForStress))\n",
    "colliding_cells = dolfinx.geometry.compute_colliding_cells(domain, cell_candidates,  np.array(pointForStress))"
   ]
  },
  {
   "cell_type": "code",
   "execution_count": 22,
   "metadata": {},
   "outputs": [],
   "source": [
    "solver = PETSc.KSP().create(domain.comm)\n",
    "solver.setOperators(A)\n",
    "solver.setType(PETSc.KSP.Type.PREONLY)\n",
    "solver.getPC().setType(PETSc.PC.Type.LU)\n",
    "\n",
    "def solve_linear():\n",
    "    with b.localForm() as loc_L:\n",
    "            loc_L.set(0)\n",
    "    A.zeroEntries()\n",
    "    assemble_matrix(A,a, bcs=bcs)\n",
    "    A.assemble()\n",
    "    assemble_vector(b, L)\n",
    "    \n",
    "    b.ghostUpdate(addv=PETSc.InsertMode.ADD, mode=PETSc.ScatterMode.REVERSE)\n",
    "    apply_lifting(b, [a], [bcs],[ u.vector], scale=1)\n",
    "\n",
    "    set_bc(b, bcs,u.vector)\n",
    "    \n",
    "    res2val = solver.solve(b, du.vector)\n",
    "\n"
   ]
  },
  {
   "cell_type": "code",
   "execution_count": 23,
   "metadata": {},
   "outputs": [
    {
     "data": {
      "text/plain": [
       "array([0., 0., 0., ..., 0., 0., 0.])"
      ]
     },
     "execution_count": 23,
     "metadata": {},
     "output_type": "execute_result"
    }
   ],
   "source": [
    "du.x.array"
   ]
  },
  {
   "cell_type": "code",
   "execution_count": 24,
   "metadata": {},
   "outputs": [
    {
     "data": {
      "text/plain": [
       "array([-250., -250., -250., ..., -250., -250., -250.])"
      ]
     },
     "execution_count": 24,
     "metadata": {},
     "output_type": "execute_result"
    }
   ],
   "source": [
    "tes= Function(W_scal)\n",
    "tes_exp = Expression(Phi,W_scal.element.interpolation_points())\n",
    "tes.interpolate(tes_exp)\n",
    "tes.x.array"
   ]
  },
  {
   "cell_type": "code",
   "execution_count": 25,
   "metadata": {},
   "outputs": [
    {
     "name": "stdout",
     "output_type": "stream",
     "text": [
      "------------------------------------\n",
      "Simulation Start\n",
      "------------------------------------\n",
      "Increment: 1\n",
      "Linear Step 1 Start\n",
      "Linear Step 1 Done\n",
      "Starting Plastic Step\n",
      "Stop Plastic Step  Done\n",
      "Linear Step 2 Start\n"
     ]
    },
    {
     "name": "stderr",
     "output_type": "stream",
     "text": [
      "2023-12-09 16:55:09.157 (   2.842s) [main            ]              petsc.cpp:698   INFO| PETSc Krylov solver starting to solve system.\n",
      "2023-12-09 16:55:09.158 (   2.843s) [main            ]              petsc.cpp:698   INFO| PETSc Krylov solver starting to solve system.\n",
      "2023-12-09 16:55:09.159 (   2.844s) [main            ]       NewtonSolver.cpp:36    INFO| Newton iteration 2: r (abs) = 0 (tol = 1e-08) r (rel) = nan(tol = 1e-08)\n",
      "2023-12-09 16:55:09.159 (   2.844s) [main            ]       NewtonSolver.cpp:250   INFO| Newton solver finished in 2 iterations and 2 linear solver iterations.\n"
     ]
    },
    {
     "name": "stdout",
     "output_type": "stream",
     "text": [
      "Linear Step 1 Done\n",
      "Increment: 2\n",
      "Linear Step 1 Start\n"
     ]
    },
    {
     "name": "stderr",
     "output_type": "stream",
     "text": [
      "2023-12-09 16:55:09.384 (   3.069s) [main            ]    SparsityPattern.cpp:384   INFO| Column ghost size increased from 0 to 0\n",
      "2023-12-09 16:55:09.606 (   3.291s) [main            ]              petsc.cpp:698   INFO| PETSc Krylov solver starting to solve system.\n",
      "2023-12-09 16:55:09.608 (   3.292s) [main            ]              petsc.cpp:698   INFO| PETSc Krylov solver starting to solve system.\n",
      "2023-12-09 16:55:09.608 (   3.293s) [main            ]       NewtonSolver.cpp:36    INFO| Newton iteration 2: r (abs) = 0 (tol = 1e-08) r (rel) = nan(tol = 1e-08)\n",
      "2023-12-09 16:55:09.608 (   3.293s) [main            ]       NewtonSolver.cpp:250   INFO| Newton solver finished in 2 iterations and 2 linear solver iterations.\n"
     ]
    },
    {
     "name": "stdout",
     "output_type": "stream",
     "text": [
      "Linear Step 1 Done\n",
      "Starting Plastic Step\n",
      "Stop Plastic Step  Done\n",
      "Linear Step 2 Start\n",
      "Linear Step 1 Done\n",
      "Increment: 3\n",
      "Linear Step 1 Start\n"
     ]
    },
    {
     "name": "stderr",
     "output_type": "stream",
     "text": [
      "2023-12-09 16:55:09.836 (   3.520s) [main            ]    SparsityPattern.cpp:384   INFO| Column ghost size increased from 0 to 0\n",
      "2023-12-09 16:55:10.066 (   3.750s) [main            ]              petsc.cpp:698   INFO| PETSc Krylov solver starting to solve system.\n",
      "2023-12-09 16:55:10.067 (   3.752s) [main            ]              petsc.cpp:698   INFO| PETSc Krylov solver starting to solve system.\n",
      "2023-12-09 16:55:10.068 (   3.753s) [main            ]       NewtonSolver.cpp:36    INFO| Newton iteration 2: r (abs) = 0 (tol = 1e-08) r (rel) = nan(tol = 1e-08)\n",
      "2023-12-09 16:55:10.068 (   3.753s) [main            ]       NewtonSolver.cpp:250   INFO| Newton solver finished in 2 iterations and 2 linear solver iterations.\n"
     ]
    },
    {
     "name": "stdout",
     "output_type": "stream",
     "text": [
      "Linear Step 1 Done\n",
      "Starting Plastic Step\n",
      "Stop Plastic Step  Done\n",
      "Linear Step 2 Start\n",
      "Linear Step 1 Done\n",
      "Increment: 4\n",
      "Linear Step 1 Start\n"
     ]
    },
    {
     "name": "stderr",
     "output_type": "stream",
     "text": [
      "2023-12-09 16:55:10.291 (   3.975s) [main            ]    SparsityPattern.cpp:384   INFO| Column ghost size increased from 0 to 0\n",
      "2023-12-09 16:55:10.515 (   4.199s) [main            ]              petsc.cpp:698   INFO| PETSc Krylov solver starting to solve system.\n",
      "2023-12-09 16:55:10.516 (   4.201s) [main            ]              petsc.cpp:698   INFO| PETSc Krylov solver starting to solve system.\n",
      "2023-12-09 16:55:10.517 (   4.201s) [main            ]       NewtonSolver.cpp:36    INFO| Newton iteration 2: r (abs) = 0 (tol = 1e-08) r (rel) = nan(tol = 1e-08)\n",
      "2023-12-09 16:55:10.517 (   4.201s) [main            ]       NewtonSolver.cpp:250   INFO| Newton solver finished in 2 iterations and 2 linear solver iterations.\n"
     ]
    },
    {
     "name": "stdout",
     "output_type": "stream",
     "text": [
      "Linear Step 1 Done\n",
      "Starting Plastic Step\n",
      "Stop Plastic Step  Done\n",
      "Linear Step 2 Start\n",
      "Linear Step 1 Done\n",
      "Increment: 5\n",
      "Linear Step 1 Start\n"
     ]
    },
    {
     "name": "stderr",
     "output_type": "stream",
     "text": [
      "2023-12-09 16:55:10.736 (   4.421s) [main            ]    SparsityPattern.cpp:384   INFO| Column ghost size increased from 0 to 0\n",
      "2023-12-09 16:55:10.956 (   4.640s) [main            ]              petsc.cpp:698   INFO| PETSc Krylov solver starting to solve system.\n",
      "2023-12-09 16:55:10.957 (   4.642s) [main            ]              petsc.cpp:698   INFO| PETSc Krylov solver starting to solve system.\n",
      "2023-12-09 16:55:10.958 (   4.642s) [main            ]       NewtonSolver.cpp:36    INFO| Newton iteration 2: r (abs) = 0 (tol = 1e-08) r (rel) = nan(tol = 1e-08)\n",
      "2023-12-09 16:55:10.958 (   4.642s) [main            ]       NewtonSolver.cpp:250   INFO| Newton solver finished in 2 iterations and 2 linear solver iterations.\n"
     ]
    },
    {
     "name": "stdout",
     "output_type": "stream",
     "text": [
      "Linear Step 1 Done\n",
      "Starting Plastic Step\n",
      "Stop Plastic Step  Done\n",
      "Linear Step 2 Start\n",
      "Linear Step 1 Done\n",
      "Increment: 6\n",
      "Linear Step 1 Start\n"
     ]
    },
    {
     "name": "stderr",
     "output_type": "stream",
     "text": [
      "2023-12-09 16:55:11.188 (   4.873s) [main            ]    SparsityPattern.cpp:384   INFO| Column ghost size increased from 0 to 0\n",
      "2023-12-09 16:55:11.413 (   5.097s) [main            ]              petsc.cpp:698   INFO| PETSc Krylov solver starting to solve system.\n",
      "2023-12-09 16:55:11.414 (   5.099s) [main            ]              petsc.cpp:698   INFO| PETSc Krylov solver starting to solve system.\n",
      "2023-12-09 16:55:11.415 (   5.100s) [main            ]       NewtonSolver.cpp:36    INFO| Newton iteration 2: r (abs) = 0 (tol = 1e-08) r (rel) = nan(tol = 1e-08)\n",
      "2023-12-09 16:55:11.415 (   5.100s) [main            ]       NewtonSolver.cpp:250   INFO| Newton solver finished in 2 iterations and 2 linear solver iterations.\n"
     ]
    },
    {
     "name": "stdout",
     "output_type": "stream",
     "text": [
      "Linear Step 1 Done\n",
      "Starting Plastic Step\n",
      "Stop Plastic Step  Done\n",
      "Linear Step 2 Start\n",
      "Linear Step 1 Done\n",
      "Increment: 7\n",
      "Linear Step 1 Start\n"
     ]
    },
    {
     "name": "stderr",
     "output_type": "stream",
     "text": [
      "2023-12-09 16:55:11.634 (   5.319s) [main            ]    SparsityPattern.cpp:384   INFO| Column ghost size increased from 0 to 0\n",
      "2023-12-09 16:55:11.851 (   5.536s) [main            ]              petsc.cpp:698   INFO| PETSc Krylov solver starting to solve system.\n",
      "2023-12-09 16:55:11.852 (   5.537s) [main            ]              petsc.cpp:698   INFO| PETSc Krylov solver starting to solve system.\n",
      "2023-12-09 16:55:11.853 (   5.538s) [main            ]       NewtonSolver.cpp:36    INFO| Newton iteration 2: r (abs) = 0 (tol = 1e-08) r (rel) = nan(tol = 1e-08)\n",
      "2023-12-09 16:55:11.853 (   5.538s) [main            ]       NewtonSolver.cpp:250   INFO| Newton solver finished in 2 iterations and 2 linear solver iterations.\n"
     ]
    },
    {
     "name": "stdout",
     "output_type": "stream",
     "text": [
      "Linear Step 1 Done\n",
      "Starting Plastic Step\n",
      "Stop Plastic Step  Done\n",
      "Linear Step 2 Start\n",
      "Linear Step 1 Done\n",
      "Increment: 8\n",
      "Linear Step 1 Start\n"
     ]
    },
    {
     "name": "stderr",
     "output_type": "stream",
     "text": [
      "2023-12-09 16:55:12.081 (   5.766s) [main            ]    SparsityPattern.cpp:384   INFO| Column ghost size increased from 0 to 0\n",
      "2023-12-09 16:55:12.308 (   5.992s) [main            ]              petsc.cpp:698   INFO| PETSc Krylov solver starting to solve system.\n",
      "2023-12-09 16:55:12.309 (   5.994s) [main            ]              petsc.cpp:698   INFO| PETSc Krylov solver starting to solve system.\n",
      "2023-12-09 16:55:12.310 (   5.995s) [main            ]       NewtonSolver.cpp:36    INFO| Newton iteration 2: r (abs) = 0 (tol = 1e-08) r (rel) = nan(tol = 1e-08)\n",
      "2023-12-09 16:55:12.310 (   5.995s) [main            ]       NewtonSolver.cpp:250   INFO| Newton solver finished in 2 iterations and 2 linear solver iterations.\n"
     ]
    },
    {
     "name": "stdout",
     "output_type": "stream",
     "text": [
      "Linear Step 1 Done\n",
      "Starting Plastic Step\n",
      "Stop Plastic Step  Done\n",
      "Linear Step 2 Start\n",
      "Linear Step 1 Done\n",
      "Increment: 9\n",
      "Linear Step 1 Start\n"
     ]
    },
    {
     "name": "stderr",
     "output_type": "stream",
     "text": [
      "2023-12-09 16:55:12.532 (   6.217s) [main            ]    SparsityPattern.cpp:384   INFO| Column ghost size increased from 0 to 0\n",
      "2023-12-09 16:55:12.753 (   6.437s) [main            ]              petsc.cpp:698   INFO| PETSc Krylov solver starting to solve system.\n",
      "2023-12-09 16:55:12.754 (   6.439s) [main            ]              petsc.cpp:698   INFO| PETSc Krylov solver starting to solve system.\n",
      "2023-12-09 16:55:12.755 (   6.440s) [main            ]       NewtonSolver.cpp:36    INFO| Newton iteration 2: r (abs) = 0 (tol = 1e-08) r (rel) = nan(tol = 1e-08)\n",
      "2023-12-09 16:55:12.755 (   6.440s) [main            ]       NewtonSolver.cpp:250   INFO| Newton solver finished in 2 iterations and 2 linear solver iterations.\n"
     ]
    },
    {
     "name": "stdout",
     "output_type": "stream",
     "text": [
      "Linear Step 1 Done\n",
      "Starting Plastic Step\n",
      "Stop Plastic Step  Done\n",
      "Linear Step 2 Start\n",
      "Linear Step 1 Done\n",
      "Increment: 10\n",
      "Linear Step 1 Start\n"
     ]
    },
    {
     "name": "stderr",
     "output_type": "stream",
     "text": [
      "2023-12-09 16:55:12.985 (   6.670s) [main            ]    SparsityPattern.cpp:384   INFO| Column ghost size increased from 0 to 0\n",
      "2023-12-09 16:55:13.206 (   6.890s) [main            ]              petsc.cpp:698   INFO| PETSc Krylov solver starting to solve system.\n",
      "2023-12-09 16:55:13.207 (   6.892s) [main            ]              petsc.cpp:698   INFO| PETSc Krylov solver starting to solve system.\n",
      "2023-12-09 16:55:13.208 (   6.893s) [main            ]       NewtonSolver.cpp:36    INFO| Newton iteration 2: r (abs) = 0 (tol = 1e-08) r (rel) = nan(tol = 1e-08)\n",
      "2023-12-09 16:55:13.208 (   6.893s) [main            ]       NewtonSolver.cpp:250   INFO| Newton solver finished in 2 iterations and 2 linear solver iterations.\n"
     ]
    },
    {
     "name": "stdout",
     "output_type": "stream",
     "text": [
      "Linear Step 1 Done\n",
      "Starting Plastic Step\n",
      "Stop Plastic Step  Done\n",
      "Linear Step 2 Start\n",
      "Linear Step 1 Done\n"
     ]
    },
    {
     "name": "stderr",
     "output_type": "stream",
     "text": [
      "2023-12-09 16:55:13.441 (   7.125s) [main            ]    SparsityPattern.cpp:384   INFO| Column ghost size increased from 0 to 0\n"
     ]
    },
    {
     "name": "stdout",
     "output_type": "stream",
     "text": [
      "Increment: 11\n",
      "Linear Step 1 Start\n",
      "Linear Step 1 Done\n",
      "Starting Plastic Step\n",
      "Stop Plastic Step  Done\n",
      "Linear Step 2 Start\n"
     ]
    },
    {
     "name": "stderr",
     "output_type": "stream",
     "text": [
      "2023-12-09 16:55:13.661 (   7.346s) [main            ]              petsc.cpp:698   INFO| PETSc Krylov solver starting to solve system.\n",
      "2023-12-09 16:55:13.663 (   7.347s) [main            ]              petsc.cpp:698   INFO| PETSc Krylov solver starting to solve system.\n",
      "2023-12-09 16:55:13.664 (   7.348s) [main            ]       NewtonSolver.cpp:36    INFO| Newton iteration 2: r (abs) = 0 (tol = 1e-08) r (rel) = nan(tol = 1e-08)\n",
      "2023-12-09 16:55:13.664 (   7.348s) [main            ]       NewtonSolver.cpp:250   INFO| Newton solver finished in 2 iterations and 2 linear solver iterations.\n"
     ]
    },
    {
     "name": "stdout",
     "output_type": "stream",
     "text": [
      "Linear Step 1 Done\n",
      "Increment: 12\n",
      "Linear Step 1 Start\n"
     ]
    },
    {
     "name": "stderr",
     "output_type": "stream",
     "text": [
      "2023-12-09 16:55:13.892 (   7.577s) [main            ]    SparsityPattern.cpp:384   INFO| Column ghost size increased from 0 to 0\n",
      "2023-12-09 16:55:14.129 (   7.814s) [main            ]              petsc.cpp:698   INFO| PETSc Krylov solver starting to solve system.\n",
      "2023-12-09 16:55:14.131 (   7.815s) [main            ]              petsc.cpp:698   INFO| PETSc Krylov solver starting to solve system.\n",
      "2023-12-09 16:55:14.131 (   7.816s) [main            ]       NewtonSolver.cpp:36    INFO| Newton iteration 2: r (abs) = 0 (tol = 1e-08) r (rel) = nan(tol = 1e-08)\n",
      "2023-12-09 16:55:14.131 (   7.816s) [main            ]       NewtonSolver.cpp:250   INFO| Newton solver finished in 2 iterations and 2 linear solver iterations.\n"
     ]
    },
    {
     "name": "stdout",
     "output_type": "stream",
     "text": [
      "Linear Step 1 Done\n",
      "Starting Plastic Step\n",
      "Stop Plastic Step  Done\n",
      "Linear Step 2 Start\n",
      "Linear Step 1 Done\n",
      "Increment: 13\n",
      "Linear Step 1 Start\n"
     ]
    },
    {
     "name": "stderr",
     "output_type": "stream",
     "text": [
      "2023-12-09 16:55:14.362 (   8.047s) [main            ]    SparsityPattern.cpp:384   INFO| Column ghost size increased from 0 to 0\n",
      "2023-12-09 16:55:14.592 (   8.277s) [main            ]              petsc.cpp:698   INFO| PETSc Krylov solver starting to solve system.\n",
      "2023-12-09 16:55:14.594 (   8.278s) [main            ]              petsc.cpp:698   INFO| PETSc Krylov solver starting to solve system.\n",
      "2023-12-09 16:55:14.594 (   8.279s) [main            ]       NewtonSolver.cpp:36    INFO| Newton iteration 2: r (abs) = 0 (tol = 1e-08) r (rel) = nan(tol = 1e-08)\n",
      "2023-12-09 16:55:14.594 (   8.279s) [main            ]       NewtonSolver.cpp:250   INFO| Newton solver finished in 2 iterations and 2 linear solver iterations.\n"
     ]
    },
    {
     "name": "stdout",
     "output_type": "stream",
     "text": [
      "Linear Step 1 Done\n",
      "Starting Plastic Step\n",
      "Stop Plastic Step  Done\n",
      "Linear Step 2 Start\n",
      "Linear Step 1 Done\n",
      "Increment: 14\n",
      "Linear Step 1 Start\n",
      "Linear Step 1 Done\n",
      "Starting Plastic Step\n"
     ]
    },
    {
     "name": "stderr",
     "output_type": "stream",
     "text": [
      "2023-12-09 16:55:14.824 (   8.509s) [main            ]    SparsityPattern.cpp:384   INFO| Column ghost size increased from 0 to 0\n",
      "2023-12-09 16:55:15.073 (   8.758s) [main            ]              petsc.cpp:698   INFO| PETSc Krylov solver starting to solve system.\n",
      "2023-12-09 16:55:15.075 (   8.760s) [main            ]              petsc.cpp:698   INFO| PETSc Krylov solver starting to solve system.\n",
      "2023-12-09 16:55:15.076 (   8.760s) [main            ]       NewtonSolver.cpp:36    INFO| Newton iteration 2: r (abs) = 0 (tol = 1e-08) r (rel) = nan(tol = 1e-08)\n",
      "2023-12-09 16:55:15.076 (   8.760s) [main            ]       NewtonSolver.cpp:250   INFO| Newton solver finished in 2 iterations and 2 linear solver iterations.\n"
     ]
    },
    {
     "name": "stdout",
     "output_type": "stream",
     "text": [
      "Stop Plastic Step  Done\n",
      "Linear Step 2 Start\n",
      "Linear Step 1 Done\n",
      "Increment: 15\n",
      "Linear Step 1 Start\n"
     ]
    },
    {
     "name": "stderr",
     "output_type": "stream",
     "text": [
      "2023-12-09 16:55:15.300 (   8.985s) [main            ]    SparsityPattern.cpp:384   INFO| Column ghost size increased from 0 to 0\n",
      "2023-12-09 16:55:15.528 (   9.213s) [main            ]              petsc.cpp:698   INFO| PETSc Krylov solver starting to solve system.\n",
      "2023-12-09 16:55:15.529 (   9.214s) [main            ]              petsc.cpp:698   INFO| PETSc Krylov solver starting to solve system.\n",
      "2023-12-09 16:55:15.530 (   9.215s) [main            ]       NewtonSolver.cpp:36    INFO| Newton iteration 2: r (abs) = 0 (tol = 1e-08) r (rel) = nan(tol = 1e-08)\n",
      "2023-12-09 16:55:15.530 (   9.215s) [main            ]       NewtonSolver.cpp:250   INFO| Newton solver finished in 2 iterations and 2 linear solver iterations.\n"
     ]
    },
    {
     "name": "stdout",
     "output_type": "stream",
     "text": [
      "Linear Step 1 Done\n",
      "Starting Plastic Step\n",
      "Stop Plastic Step  Done\n",
      "Linear Step 2 Start\n",
      "Linear Step 1 Done\n",
      "Increment: 16\n",
      "Linear Step 1 Start\n"
     ]
    },
    {
     "name": "stderr",
     "output_type": "stream",
     "text": [
      "2023-12-09 16:55:15.762 (   9.446s) [main            ]    SparsityPattern.cpp:384   INFO| Column ghost size increased from 0 to 0\n",
      "2023-12-09 16:55:15.986 (   9.670s) [main            ]              petsc.cpp:698   INFO| PETSc Krylov solver starting to solve system.\n",
      "2023-12-09 16:55:15.987 (   9.672s) [main            ]              petsc.cpp:698   INFO| PETSc Krylov solver starting to solve system.\n",
      "2023-12-09 16:55:15.988 (   9.673s) [main            ]       NewtonSolver.cpp:36    INFO| Newton iteration 2: r (abs) = 0 (tol = 1e-08) r (rel) = nan(tol = 1e-08)\n",
      "2023-12-09 16:55:15.988 (   9.673s) [main            ]       NewtonSolver.cpp:250   INFO| Newton solver finished in 2 iterations and 2 linear solver iterations.\n"
     ]
    },
    {
     "name": "stdout",
     "output_type": "stream",
     "text": [
      "Linear Step 1 Done\n",
      "Starting Plastic Step\n",
      "Stop Plastic Step  Done\n",
      "Linear Step 2 Start\n",
      "Linear Step 1 Done\n",
      "Increment: 17\n",
      "Linear Step 1 Start\n",
      "Linear Step 1 Done\n",
      "Starting Plastic Step\n",
      "Stop Plastic Step  Done\n",
      "Linear Step 2 Start\n"
     ]
    },
    {
     "name": "stderr",
     "output_type": "stream",
     "text": [
      "2023-12-09 16:55:16.211 (   9.896s) [main            ]    SparsityPattern.cpp:384   INFO| Column ghost size increased from 0 to 0\n",
      "2023-12-09 16:55:16.428 (  10.113s) [main            ]              petsc.cpp:698   INFO| PETSc Krylov solver starting to solve system.\n",
      "2023-12-09 16:55:16.430 (  10.114s) [main            ]              petsc.cpp:698   INFO| PETSc Krylov solver starting to solve system.\n",
      "2023-12-09 16:55:16.430 (  10.115s) [main            ]       NewtonSolver.cpp:36    INFO| Newton iteration 2: r (abs) = 0 (tol = 1e-08) r (rel) = nan(tol = 1e-08)\n",
      "2023-12-09 16:55:16.430 (  10.115s) [main            ]       NewtonSolver.cpp:250   INFO| Newton solver finished in 2 iterations and 2 linear solver iterations.\n"
     ]
    },
    {
     "name": "stdout",
     "output_type": "stream",
     "text": [
      "Linear Step 1 Done\n",
      "Increment: 18\n",
      "Linear Step 1 Start\n"
     ]
    },
    {
     "name": "stderr",
     "output_type": "stream",
     "text": [
      "2023-12-09 16:55:16.655 (  10.339s) [main            ]    SparsityPattern.cpp:384   INFO| Column ghost size increased from 0 to 0\n",
      "2023-12-09 16:55:16.883 (  10.568s) [main            ]              petsc.cpp:698   INFO| PETSc Krylov solver starting to solve system.\n",
      "2023-12-09 16:55:16.885 (  10.570s) [main            ]              petsc.cpp:698   INFO| PETSc Krylov solver starting to solve system.\n",
      "2023-12-09 16:55:16.886 (  10.570s) [main            ]       NewtonSolver.cpp:36    INFO| Newton iteration 2: r (abs) = 0 (tol = 1e-08) r (rel) = nan(tol = 1e-08)\n",
      "2023-12-09 16:55:16.886 (  10.571s) [main            ]       NewtonSolver.cpp:250   INFO| Newton solver finished in 2 iterations and 2 linear solver iterations.\n"
     ]
    },
    {
     "name": "stdout",
     "output_type": "stream",
     "text": [
      "Linear Step 1 Done\n",
      "Starting Plastic Step\n",
      "Stop Plastic Step  Done\n",
      "Linear Step 2 Start\n",
      "Linear Step 1 Done\n",
      "Increment: 19\n",
      "Linear Step 1 Start\n"
     ]
    },
    {
     "name": "stderr",
     "output_type": "stream",
     "text": [
      "2023-12-09 16:55:17.110 (  10.795s) [main            ]    SparsityPattern.cpp:384   INFO| Column ghost size increased from 0 to 0\n",
      "2023-12-09 16:55:17.333 (  11.017s) [main            ]              petsc.cpp:698   INFO| PETSc Krylov solver starting to solve system.\n",
      "2023-12-09 16:55:17.334 (  11.019s) [main            ]              petsc.cpp:698   INFO| PETSc Krylov solver starting to solve system.\n",
      "2023-12-09 16:55:17.335 (  11.019s) [main            ]       NewtonSolver.cpp:36    INFO| Newton iteration 2: r (abs) = 0 (tol = 1e-08) r (rel) = nan(tol = 1e-08)\n",
      "2023-12-09 16:55:17.335 (  11.019s) [main            ]       NewtonSolver.cpp:250   INFO| Newton solver finished in 2 iterations and 2 linear solver iterations.\n"
     ]
    },
    {
     "name": "stdout",
     "output_type": "stream",
     "text": [
      "Linear Step 1 Done\n",
      "Starting Plastic Step\n",
      "Stop Plastic Step  Done\n",
      "Linear Step 2 Start\n",
      "Linear Step 1 Done\n",
      "Increment: 20\n",
      "Linear Step 1 Start\n"
     ]
    },
    {
     "name": "stderr",
     "output_type": "stream",
     "text": [
      "2023-12-09 16:55:17.558 (  11.242s) [main            ]    SparsityPattern.cpp:384   INFO| Column ghost size increased from 0 to 0\n",
      "2023-12-09 16:55:17.778 (  11.462s) [main            ]              petsc.cpp:698   INFO| PETSc Krylov solver starting to solve system.\n",
      "2023-12-09 16:55:17.779 (  11.464s) [main            ]              petsc.cpp:698   INFO| PETSc Krylov solver starting to solve system.\n",
      "2023-12-09 16:55:17.780 (  11.465s) [main            ]       NewtonSolver.cpp:36    INFO| Newton iteration 2: r (abs) = 0 (tol = 1e-08) r (rel) = nan(tol = 1e-08)\n",
      "2023-12-09 16:55:17.780 (  11.465s) [main            ]       NewtonSolver.cpp:250   INFO| Newton solver finished in 2 iterations and 2 linear solver iterations.\n"
     ]
    },
    {
     "name": "stdout",
     "output_type": "stream",
     "text": [
      "Linear Step 1 Done\n",
      "Starting Plastic Step\n",
      "Stop Plastic Step  Done\n",
      "Linear Step 2 Start\n",
      "Linear Step 1 Done\n",
      "Increment: 21\n",
      "Linear Step 1 Start\n"
     ]
    },
    {
     "name": "stderr",
     "output_type": "stream",
     "text": [
      "2023-12-09 16:55:18.016 (  11.700s) [main            ]    SparsityPattern.cpp:384   INFO| Column ghost size increased from 0 to 0\n",
      "2023-12-09 16:55:18.243 (  11.927s) [main            ]              petsc.cpp:698   INFO| PETSc Krylov solver starting to solve system.\n",
      "2023-12-09 16:55:18.244 (  11.929s) [main            ]              petsc.cpp:698   INFO| PETSc Krylov solver starting to solve system.\n",
      "2023-12-09 16:55:18.245 (  11.930s) [main            ]       NewtonSolver.cpp:36    INFO| Newton iteration 2: r (abs) = 0 (tol = 1e-08) r (rel) = 0(tol = 1e-08)\n",
      "2023-12-09 16:55:18.245 (  11.930s) [main            ]       NewtonSolver.cpp:250   INFO| Newton solver finished in 2 iterations and 2 linear solver iterations.\n"
     ]
    },
    {
     "name": "stdout",
     "output_type": "stream",
     "text": [
      "Linear Step 1 Done\n",
      "Starting Plastic Step\n",
      "Stop Plastic Step  Done\n",
      "Linear Step 2 Start\n",
      "Linear Step 1 Done\n",
      "Increment: 22\n",
      "Linear Step 1 Start\n"
     ]
    },
    {
     "name": "stderr",
     "output_type": "stream",
     "text": [
      "2023-12-09 16:55:18.465 (  12.150s) [main            ]    SparsityPattern.cpp:384   INFO| Column ghost size increased from 0 to 0\n",
      "2023-12-09 16:55:18.689 (  12.373s) [main            ]              petsc.cpp:698   INFO| PETSc Krylov solver starting to solve system.\n",
      "2023-12-09 16:55:18.690 (  12.375s) [main            ]              petsc.cpp:698   INFO| PETSc Krylov solver starting to solve system.\n",
      "2023-12-09 16:55:18.691 (  12.376s) [main            ]       NewtonSolver.cpp:36    INFO| Newton iteration 2: r (abs) = 0 (tol = 1e-08) r (rel) = 0(tol = 1e-08)\n",
      "2023-12-09 16:55:18.691 (  12.376s) [main            ]       NewtonSolver.cpp:250   INFO| Newton solver finished in 2 iterations and 2 linear solver iterations.\n"
     ]
    },
    {
     "name": "stdout",
     "output_type": "stream",
     "text": [
      "Linear Step 1 Done\n",
      "Starting Plastic Step\n",
      "Stop Plastic Step  Done\n",
      "Linear Step 2 Start\n",
      "Linear Step 1 Done\n",
      "Increment: 23\n",
      "Linear Step 1 Start\n"
     ]
    },
    {
     "name": "stderr",
     "output_type": "stream",
     "text": [
      "2023-12-09 16:55:18.919 (  12.604s) [main            ]    SparsityPattern.cpp:384   INFO| Column ghost size increased from 0 to 0\n",
      "2023-12-09 16:55:19.140 (  12.825s) [main            ]              petsc.cpp:698   INFO| PETSc Krylov solver starting to solve system.\n",
      "2023-12-09 16:55:19.142 (  12.826s) [main            ]              petsc.cpp:698   INFO| PETSc Krylov solver starting to solve system.\n",
      "2023-12-09 16:55:19.142 (  12.827s) [main            ]       NewtonSolver.cpp:36    INFO| Newton iteration 2: r (abs) = 0 (tol = 1e-08) r (rel) = 0(tol = 1e-08)\n",
      "2023-12-09 16:55:19.142 (  12.827s) [main            ]       NewtonSolver.cpp:250   INFO| Newton solver finished in 2 iterations and 2 linear solver iterations.\n"
     ]
    },
    {
     "name": "stdout",
     "output_type": "stream",
     "text": [
      "Linear Step 1 Done\n",
      "Starting Plastic Step\n",
      "Stop Plastic Step  Done\n",
      "Linear Step 2 Start\n",
      "Linear Step 1 Done\n",
      "Increment: 24\n",
      "Linear Step 1 Start\n"
     ]
    },
    {
     "name": "stderr",
     "output_type": "stream",
     "text": [
      "2023-12-09 16:55:19.363 (  13.047s) [main            ]    SparsityPattern.cpp:384   INFO| Column ghost size increased from 0 to 0\n",
      "2023-12-09 16:55:19.584 (  13.268s) [main            ]              petsc.cpp:698   INFO| PETSc Krylov solver starting to solve system.\n",
      "2023-12-09 16:55:19.585 (  13.270s) [main            ]              petsc.cpp:698   INFO| PETSc Krylov solver starting to solve system.\n",
      "2023-12-09 16:55:19.586 (  13.271s) [main            ]       NewtonSolver.cpp:36    INFO| Newton iteration 2: r (abs) = 0 (tol = 1e-08) r (rel) = 0(tol = 1e-08)\n",
      "2023-12-09 16:55:19.586 (  13.271s) [main            ]       NewtonSolver.cpp:250   INFO| Newton solver finished in 2 iterations and 2 linear solver iterations.\n"
     ]
    },
    {
     "name": "stdout",
     "output_type": "stream",
     "text": [
      "Linear Step 1 Done\n",
      "Starting Plastic Step\n",
      "Stop Plastic Step  Done\n",
      "Linear Step 2 Start\n",
      "Linear Step 1 Done\n",
      "Increment: 25\n",
      "Linear Step 1 Start\n"
     ]
    },
    {
     "name": "stderr",
     "output_type": "stream",
     "text": [
      "2023-12-09 16:55:19.817 (  13.502s) [main            ]    SparsityPattern.cpp:384   INFO| Column ghost size increased from 0 to 0\n",
      "2023-12-09 16:55:20.038 (  13.723s) [main            ]              petsc.cpp:698   INFO| PETSc Krylov solver starting to solve system.\n",
      "2023-12-09 16:55:20.039 (  13.724s) [main            ]              petsc.cpp:698   INFO| PETSc Krylov solver starting to solve system.\n",
      "2023-12-09 16:55:20.040 (  13.725s) [main            ]       NewtonSolver.cpp:36    INFO| Newton iteration 2: r (abs) = 0 (tol = 1e-08) r (rel) = 0(tol = 1e-08)\n",
      "2023-12-09 16:55:20.040 (  13.725s) [main            ]       NewtonSolver.cpp:250   INFO| Newton solver finished in 2 iterations and 2 linear solver iterations.\n"
     ]
    },
    {
     "name": "stdout",
     "output_type": "stream",
     "text": [
      "Linear Step 1 Done\n",
      "Starting Plastic Step\n",
      "Stop Plastic Step  Done\n",
      "Linear Step 2 Start\n",
      "Linear Step 1 Done\n",
      "Increment: 26\n",
      "Linear Step 1 Start\n",
      "Linear Step 1 Done\n",
      "Starting Plastic Step\n"
     ]
    },
    {
     "name": "stderr",
     "output_type": "stream",
     "text": [
      "2023-12-09 16:55:20.260 (  13.944s) [main            ]    SparsityPattern.cpp:384   INFO| Column ghost size increased from 0 to 0\n",
      "2023-12-09 16:55:20.484 (  14.169s) [main            ]              petsc.cpp:698   INFO| PETSc Krylov solver starting to solve system.\n",
      "2023-12-09 16:55:20.486 (  14.171s) [main            ]              petsc.cpp:698   INFO| PETSc Krylov solver starting to solve system.\n",
      "2023-12-09 16:55:20.487 (  14.171s) [main            ]       NewtonSolver.cpp:36    INFO| Newton iteration 2: r (abs) = 0 (tol = 1e-08) r (rel) = 0(tol = 1e-08)\n",
      "2023-12-09 16:55:20.487 (  14.171s) [main            ]       NewtonSolver.cpp:250   INFO| Newton solver finished in 2 iterations and 2 linear solver iterations.\n"
     ]
    },
    {
     "name": "stdout",
     "output_type": "stream",
     "text": [
      "Stop Plastic Step  Done\n",
      "Linear Step 2 Start\n",
      "Linear Step 1 Done\n",
      "Increment: 27\n",
      "Linear Step 1 Start\n"
     ]
    },
    {
     "name": "stderr",
     "output_type": "stream",
     "text": [
      "2023-12-09 16:55:20.710 (  14.395s) [main            ]    SparsityPattern.cpp:384   INFO| Column ghost size increased from 0 to 0\n",
      "2023-12-09 16:55:20.935 (  14.620s) [main            ]              petsc.cpp:698   INFO| PETSc Krylov solver starting to solve system.\n",
      "2023-12-09 16:55:20.937 (  14.622s) [main            ]              petsc.cpp:698   INFO| PETSc Krylov solver starting to solve system.\n",
      "2023-12-09 16:55:20.938 (  14.623s) [main            ]       NewtonSolver.cpp:36    INFO| Newton iteration 2: r (abs) = 0 (tol = 1e-08) r (rel) = 0(tol = 1e-08)\n",
      "2023-12-09 16:55:20.938 (  14.623s) [main            ]       NewtonSolver.cpp:250   INFO| Newton solver finished in 2 iterations and 2 linear solver iterations.\n"
     ]
    },
    {
     "name": "stdout",
     "output_type": "stream",
     "text": [
      "Linear Step 1 Done\n",
      "Starting Plastic Step\n",
      "Stop Plastic Step  Done\n",
      "Linear Step 2 Start\n",
      "Linear Step 1 Done\n",
      "Increment: 28\n",
      "Linear Step 1 Start\n"
     ]
    },
    {
     "name": "stderr",
     "output_type": "stream",
     "text": [
      "2023-12-09 16:55:21.182 (  14.867s) [main            ]    SparsityPattern.cpp:384   INFO| Column ghost size increased from 0 to 0\n",
      "2023-12-09 16:55:21.400 (  15.085s) [main            ]              petsc.cpp:698   INFO| PETSc Krylov solver starting to solve system.\n",
      "2023-12-09 16:55:21.402 (  15.087s) [main            ]              petsc.cpp:698   INFO| PETSc Krylov solver starting to solve system.\n",
      "2023-12-09 16:55:21.403 (  15.087s) [main            ]       NewtonSolver.cpp:36    INFO| Newton iteration 2: r (abs) = 0 (tol = 1e-08) r (rel) = 0(tol = 1e-08)\n",
      "2023-12-09 16:55:21.403 (  15.087s) [main            ]       NewtonSolver.cpp:250   INFO| Newton solver finished in 2 iterations and 2 linear solver iterations.\n"
     ]
    },
    {
     "name": "stdout",
     "output_type": "stream",
     "text": [
      "Linear Step 1 Done\n",
      "Starting Plastic Step\n",
      "Stop Plastic Step  Done\n",
      "Linear Step 2 Start\n",
      "Linear Step 1 Done\n",
      "Increment: 29\n",
      "Linear Step 1 Start\n",
      "Linear Step 1 Done\n",
      "Starting Plastic Step\n"
     ]
    },
    {
     "name": "stderr",
     "output_type": "stream",
     "text": [
      "2023-12-09 16:55:21.631 (  15.315s) [main            ]    SparsityPattern.cpp:384   INFO| Column ghost size increased from 0 to 0\n",
      "2023-12-09 16:55:21.858 (  15.543s) [main            ]              petsc.cpp:698   INFO| PETSc Krylov solver starting to solve system.\n",
      "2023-12-09 16:55:21.860 (  15.545s) [main            ]              petsc.cpp:698   INFO| PETSc Krylov solver starting to solve system.\n",
      "2023-12-09 16:55:21.861 (  15.545s) [main            ]       NewtonSolver.cpp:36    INFO| Newton iteration 2: r (abs) = 0 (tol = 1e-08) r (rel) = 0(tol = 1e-08)\n",
      "2023-12-09 16:55:21.861 (  15.545s) [main            ]       NewtonSolver.cpp:250   INFO| Newton solver finished in 2 iterations and 2 linear solver iterations.\n"
     ]
    },
    {
     "name": "stdout",
     "output_type": "stream",
     "text": [
      "Stop Plastic Step  Done\n",
      "Linear Step 2 Start\n",
      "Linear Step 1 Done\n",
      "Increment: 30\n",
      "Linear Step 1 Start\n"
     ]
    },
    {
     "name": "stderr",
     "output_type": "stream",
     "text": [
      "2023-12-09 16:55:22.090 (  15.774s) [main            ]    SparsityPattern.cpp:384   INFO| Column ghost size increased from 0 to 0\n"
     ]
    },
    {
     "name": "stdout",
     "output_type": "stream",
     "text": [
      "Linear Step 1 Done\n",
      "Starting Plastic Step\n",
      "Stop Plastic Step  Done\n",
      "Linear Step 2 Start\n"
     ]
    },
    {
     "name": "stderr",
     "output_type": "stream",
     "text": [
      "2023-12-09 16:55:22.325 (  16.009s) [main            ]              petsc.cpp:698   INFO| PETSc Krylov solver starting to solve system.\n",
      "2023-12-09 16:55:22.326 (  16.011s) [main            ]              petsc.cpp:698   INFO| PETSc Krylov solver starting to solve system.\n",
      "2023-12-09 16:55:22.327 (  16.012s) [main            ]       NewtonSolver.cpp:36    INFO| Newton iteration 2: r (abs) = 0 (tol = 1e-08) r (rel) = 0(tol = 1e-08)\n",
      "2023-12-09 16:55:22.327 (  16.012s) [main            ]       NewtonSolver.cpp:250   INFO| Newton solver finished in 2 iterations and 2 linear solver iterations.\n"
     ]
    },
    {
     "name": "stdout",
     "output_type": "stream",
     "text": [
      "Linear Step 1 Done\n",
      "Increment: 31\n",
      "Linear Step 1 Start\n",
      "Linear Step 1 Done\n",
      "Starting Plastic Step\n"
     ]
    },
    {
     "name": "stderr",
     "output_type": "stream",
     "text": [
      "2023-12-09 16:55:22.560 (  16.244s) [main            ]    SparsityPattern.cpp:384   INFO| Column ghost size increased from 0 to 0\n",
      "2023-12-09 16:55:22.789 (  16.473s) [main            ]              petsc.cpp:698   INFO| PETSc Krylov solver starting to solve system.\n",
      "2023-12-09 16:55:22.790 (  16.475s) [main            ]              petsc.cpp:698   INFO| PETSc Krylov solver starting to solve system.\n",
      "2023-12-09 16:55:22.791 (  16.476s) [main            ]       NewtonSolver.cpp:36    INFO| Newton iteration 2: r (abs) = 0 (tol = 1e-08) r (rel) = 0(tol = 1e-08)\n",
      "2023-12-09 16:55:22.791 (  16.476s) [main            ]       NewtonSolver.cpp:250   INFO| Newton solver finished in 2 iterations and 2 linear solver iterations.\n"
     ]
    },
    {
     "name": "stdout",
     "output_type": "stream",
     "text": [
      "Stop Plastic Step  Done\n",
      "Linear Step 2 Start\n",
      "Linear Step 1 Done\n",
      "Increment: 32\n",
      "Linear Step 1 Start\n"
     ]
    },
    {
     "name": "stderr",
     "output_type": "stream",
     "text": [
      "2023-12-09 16:55:23.014 (  16.699s) [main            ]    SparsityPattern.cpp:384   INFO| Column ghost size increased from 0 to 0\n",
      "2023-12-09 16:55:23.247 (  16.932s) [main            ]              petsc.cpp:698   INFO| PETSc Krylov solver starting to solve system.\n",
      "2023-12-09 16:55:23.249 (  16.934s) [main            ]              petsc.cpp:698   INFO| PETSc Krylov solver starting to solve system.\n",
      "2023-12-09 16:55:23.250 (  16.934s) [main            ]       NewtonSolver.cpp:36    INFO| Newton iteration 2: r (abs) = 0 (tol = 1e-08) r (rel) = 0(tol = 1e-08)\n",
      "2023-12-09 16:55:23.250 (  16.934s) [main            ]       NewtonSolver.cpp:250   INFO| Newton solver finished in 2 iterations and 2 linear solver iterations.\n"
     ]
    },
    {
     "name": "stdout",
     "output_type": "stream",
     "text": [
      "Linear Step 1 Done\n",
      "Starting Plastic Step\n",
      "Stop Plastic Step  Done\n",
      "Linear Step 2 Start\n",
      "Linear Step 1 Done\n",
      "Increment: 33\n",
      "Linear Step 1 Start\n"
     ]
    },
    {
     "name": "stderr",
     "output_type": "stream",
     "text": [
      "2023-12-09 16:55:23.474 (  17.159s) [main            ]    SparsityPattern.cpp:384   INFO| Column ghost size increased from 0 to 0\n"
     ]
    },
    {
     "name": "stdout",
     "output_type": "stream",
     "text": [
      "Linear Step 1 Done\n",
      "Starting Plastic Step\n",
      "Stop Plastic Step  Done\n",
      "Linear Step 2 Start\n"
     ]
    },
    {
     "name": "stderr",
     "output_type": "stream",
     "text": [
      "2023-12-09 16:55:23.704 (  17.389s) [main            ]              petsc.cpp:698   INFO| PETSc Krylov solver starting to solve system.\n",
      "2023-12-09 16:55:23.706 (  17.391s) [main            ]              petsc.cpp:698   INFO| PETSc Krylov solver starting to solve system.\n",
      "2023-12-09 16:55:23.707 (  17.392s) [main            ]       NewtonSolver.cpp:36    INFO| Newton iteration 2: r (abs) = 0 (tol = 1e-08) r (rel) = 0(tol = 1e-08)\n",
      "2023-12-09 16:55:23.707 (  17.392s) [main            ]       NewtonSolver.cpp:250   INFO| Newton solver finished in 2 iterations and 2 linear solver iterations.\n"
     ]
    },
    {
     "name": "stdout",
     "output_type": "stream",
     "text": [
      "Linear Step 1 Done\n",
      "Increment: 34\n",
      "Linear Step 1 Start\n",
      "Linear Step 1 Done\n",
      "Starting Plastic Step\n"
     ]
    },
    {
     "name": "stderr",
     "output_type": "stream",
     "text": [
      "2023-12-09 16:55:23.937 (  17.622s) [main            ]    SparsityPattern.cpp:384   INFO| Column ghost size increased from 0 to 0\n",
      "2023-12-09 16:55:24.168 (  17.853s) [main            ]              petsc.cpp:698   INFO| PETSc Krylov solver starting to solve system.\n",
      "2023-12-09 16:55:24.170 (  17.855s) [main            ]              petsc.cpp:698   INFO| PETSc Krylov solver starting to solve system.\n",
      "2023-12-09 16:55:24.171 (  17.855s) [main            ]       NewtonSolver.cpp:36    INFO| Newton iteration 2: r (abs) = 0 (tol = 1e-08) r (rel) = 0(tol = 1e-08)\n",
      "2023-12-09 16:55:24.171 (  17.855s) [main            ]       NewtonSolver.cpp:250   INFO| Newton solver finished in 2 iterations and 2 linear solver iterations.\n"
     ]
    },
    {
     "name": "stdout",
     "output_type": "stream",
     "text": [
      "Stop Plastic Step  Done\n",
      "Linear Step 2 Start\n",
      "Linear Step 1 Done\n",
      "Increment: 35\n",
      "Linear Step 1 Start\n"
     ]
    },
    {
     "name": "stderr",
     "output_type": "stream",
     "text": [
      "2023-12-09 16:55:24.396 (  18.081s) [main            ]    SparsityPattern.cpp:384   INFO| Column ghost size increased from 0 to 0\n",
      "2023-12-09 16:55:24.623 (  18.307s) [main            ]              petsc.cpp:698   INFO| PETSc Krylov solver starting to solve system.\n",
      "2023-12-09 16:55:24.624 (  18.309s) [main            ]              petsc.cpp:698   INFO| PETSc Krylov solver starting to solve system.\n",
      "2023-12-09 16:55:24.625 (  18.310s) [main            ]       NewtonSolver.cpp:36    INFO| Newton iteration 2: r (abs) = 0 (tol = 1e-08) r (rel) = 0(tol = 1e-08)\n",
      "2023-12-09 16:55:24.625 (  18.310s) [main            ]       NewtonSolver.cpp:250   INFO| Newton solver finished in 2 iterations and 2 linear solver iterations.\n"
     ]
    },
    {
     "name": "stdout",
     "output_type": "stream",
     "text": [
      "Linear Step 1 Done\n",
      "Starting Plastic Step\n",
      "Stop Plastic Step  Done\n",
      "Linear Step 2 Start\n",
      "Linear Step 1 Done\n",
      "Increment: 36\n",
      "Linear Step 1 Start\n",
      "Linear Step 1 Done\n",
      "Starting Plastic Step\n",
      "Stop Plastic Step  Done\n",
      "Linear Step 2 Start\n"
     ]
    },
    {
     "name": "stderr",
     "output_type": "stream",
     "text": [
      "2023-12-09 16:55:24.874 (  18.559s) [main            ]    SparsityPattern.cpp:384   INFO| Column ghost size increased from 0 to 0\n",
      "2023-12-09 16:55:25.098 (  18.783s) [main            ]              petsc.cpp:698   INFO| PETSc Krylov solver starting to solve system.\n",
      "2023-12-09 16:55:25.100 (  18.785s) [main            ]              petsc.cpp:698   INFO| PETSc Krylov solver starting to solve system.\n",
      "2023-12-09 16:55:25.101 (  18.785s) [main            ]       NewtonSolver.cpp:36    INFO| Newton iteration 2: r (abs) = 0 (tol = 1e-08) r (rel) = 0(tol = 1e-08)\n",
      "2023-12-09 16:55:25.101 (  18.785s) [main            ]       NewtonSolver.cpp:250   INFO| Newton solver finished in 2 iterations and 2 linear solver iterations.\n"
     ]
    },
    {
     "name": "stdout",
     "output_type": "stream",
     "text": [
      "Linear Step 1 Done\n",
      "Increment: 37\n",
      "Linear Step 1 Start\n"
     ]
    },
    {
     "name": "stderr",
     "output_type": "stream",
     "text": [
      "2023-12-09 16:55:25.319 (  19.004s) [main            ]    SparsityPattern.cpp:384   INFO| Column ghost size increased from 0 to 0\n",
      "2023-12-09 16:55:25.540 (  19.225s) [main            ]              petsc.cpp:698   INFO| PETSc Krylov solver starting to solve system.\n",
      "2023-12-09 16:55:25.542 (  19.226s) [main            ]              petsc.cpp:698   INFO| PETSc Krylov solver starting to solve system.\n",
      "2023-12-09 16:55:25.543 (  19.227s) [main            ]       NewtonSolver.cpp:36    INFO| Newton iteration 2: r (abs) = 0 (tol = 1e-08) r (rel) = 0(tol = 1e-08)\n",
      "2023-12-09 16:55:25.543 (  19.227s) [main            ]       NewtonSolver.cpp:250   INFO| Newton solver finished in 2 iterations and 2 linear solver iterations.\n"
     ]
    },
    {
     "name": "stdout",
     "output_type": "stream",
     "text": [
      "Linear Step 1 Done\n",
      "Starting Plastic Step\n",
      "Stop Plastic Step  Done\n",
      "Linear Step 2 Start\n",
      "Linear Step 1 Done\n",
      "Increment: 38\n",
      "Linear Step 1 Start\n",
      "Linear Step 1 Done\n",
      "Starting Plastic Step\n",
      "Stop Plastic Step  Done\n",
      "Linear Step 2 Start\n"
     ]
    },
    {
     "name": "stderr",
     "output_type": "stream",
     "text": [
      "2023-12-09 16:55:25.767 (  19.451s) [main            ]    SparsityPattern.cpp:384   INFO| Column ghost size increased from 0 to 0\n",
      "2023-12-09 16:55:25.993 (  19.678s) [main            ]              petsc.cpp:698   INFO| PETSc Krylov solver starting to solve system.\n",
      "2023-12-09 16:55:25.995 (  19.679s) [main            ]              petsc.cpp:698   INFO| PETSc Krylov solver starting to solve system.\n",
      "2023-12-09 16:55:25.995 (  19.680s) [main            ]       NewtonSolver.cpp:36    INFO| Newton iteration 2: r (abs) = 0 (tol = 1e-08) r (rel) = 0(tol = 1e-08)\n",
      "2023-12-09 16:55:25.995 (  19.680s) [main            ]       NewtonSolver.cpp:250   INFO| Newton solver finished in 2 iterations and 2 linear solver iterations.\n"
     ]
    },
    {
     "name": "stdout",
     "output_type": "stream",
     "text": [
      "Linear Step 1 Done\n",
      "Increment: 39\n",
      "Linear Step 1 Start\n"
     ]
    },
    {
     "name": "stderr",
     "output_type": "stream",
     "text": [
      "2023-12-09 16:55:26.224 (  19.908s) [main            ]    SparsityPattern.cpp:384   INFO| Column ghost size increased from 0 to 0\n",
      "2023-12-09 16:55:26.443 (  20.128s) [main            ]              petsc.cpp:698   INFO| PETSc Krylov solver starting to solve system.\n",
      "2023-12-09 16:55:26.445 (  20.130s) [main            ]              petsc.cpp:698   INFO| PETSc Krylov solver starting to solve system.\n",
      "2023-12-09 16:55:26.446 (  20.130s) [main            ]       NewtonSolver.cpp:36    INFO| Newton iteration 2: r (abs) = 0 (tol = 1e-08) r (rel) = 0(tol = 1e-08)\n",
      "2023-12-09 16:55:26.446 (  20.130s) [main            ]       NewtonSolver.cpp:250   INFO| Newton solver finished in 2 iterations and 2 linear solver iterations.\n"
     ]
    },
    {
     "name": "stdout",
     "output_type": "stream",
     "text": [
      "Linear Step 1 Done\n",
      "Starting Plastic Step\n",
      "Stop Plastic Step  Done\n",
      "Linear Step 2 Start\n",
      "Linear Step 1 Done\n"
     ]
    },
    {
     "name": "stderr",
     "output_type": "stream",
     "text": [
      "2023-12-09 16:55:26.665 (  20.350s) [main            ]    SparsityPattern.cpp:384   INFO| Column ghost size increased from 0 to 0\n",
      "2023-12-09 16:55:26.880 (  20.565s) [main            ]              petsc.cpp:698   INFO| PETSc Krylov solver starting to solve system.\n",
      "2023-12-09 16:55:26.882 (  20.566s) [main            ]              petsc.cpp:698   INFO| PETSc Krylov solver starting to solve system.\n",
      "2023-12-09 16:55:26.882 (  20.567s) [main            ]       NewtonSolver.cpp:36    INFO| Newton iteration 2: r (abs) = 0 (tol = 1e-08) r (rel) = 0(tol = 1e-08)\n",
      "2023-12-09 16:55:26.882 (  20.567s) [main            ]       NewtonSolver.cpp:250   INFO| Newton solver finished in 2 iterations and 2 linear solver iterations.\n"
     ]
    },
    {
     "name": "stdout",
     "output_type": "stream",
     "text": [
      "Increment: 40\n",
      "Linear Step 1 Start\n",
      "Linear Step 1 Done\n",
      "Starting Plastic Step\n",
      "Stop Plastic Step  Done\n",
      "Linear Step 2 Start\n",
      "Linear Step 1 Done\n",
      "Increment: 41\n",
      "Linear Step 1 Start\n"
     ]
    },
    {
     "name": "stderr",
     "output_type": "stream",
     "text": [
      "2023-12-09 16:55:27.098 (  20.783s) [main            ]    SparsityPattern.cpp:384   INFO| Column ghost size increased from 0 to 0\n",
      "2023-12-09 16:55:27.314 (  20.998s) [main            ]              petsc.cpp:698   INFO| PETSc Krylov solver starting to solve system.\n",
      "2023-12-09 16:55:27.315 (  21.000s) [main            ]              petsc.cpp:698   INFO| PETSc Krylov solver starting to solve system.\n",
      "2023-12-09 16:55:27.316 (  21.000s) [main            ]       NewtonSolver.cpp:36    INFO| Newton iteration 2: r (abs) = 0 (tol = 1e-08) r (rel) = 0(tol = 1e-08)\n",
      "2023-12-09 16:55:27.316 (  21.000s) [main            ]       NewtonSolver.cpp:250   INFO| Newton solver finished in 2 iterations and 2 linear solver iterations.\n"
     ]
    },
    {
     "name": "stdout",
     "output_type": "stream",
     "text": [
      "Linear Step 1 Done\n",
      "Starting Plastic Step\n",
      "Stop Plastic Step  Done\n",
      "Linear Step 2 Start\n",
      "Linear Step 1 Done\n",
      "Increment: 42\n",
      "Linear Step 1 Start\n",
      "Linear Step 1 Done\n",
      "Starting Plastic Step\n"
     ]
    },
    {
     "name": "stderr",
     "output_type": "stream",
     "text": [
      "2023-12-09 16:55:27.532 (  21.217s) [main            ]    SparsityPattern.cpp:384   INFO| Column ghost size increased from 0 to 0\n",
      "2023-12-09 16:55:27.746 (  21.431s) [main            ]              petsc.cpp:698   INFO| PETSc Krylov solver starting to solve system.\n",
      "2023-12-09 16:55:27.748 (  21.432s) [main            ]              petsc.cpp:698   INFO| PETSc Krylov solver starting to solve system.\n",
      "2023-12-09 16:55:27.748 (  21.433s) [main            ]       NewtonSolver.cpp:36    INFO| Newton iteration 2: r (abs) = 0 (tol = 1e-08) r (rel) = 0(tol = 1e-08)\n",
      "2023-12-09 16:55:27.748 (  21.433s) [main            ]       NewtonSolver.cpp:250   INFO| Newton solver finished in 2 iterations and 2 linear solver iterations.\n"
     ]
    },
    {
     "name": "stdout",
     "output_type": "stream",
     "text": [
      "Stop Plastic Step  Done\n",
      "Linear Step 2 Start\n",
      "Linear Step 1 Done\n",
      "Increment: 43\n",
      "Linear Step 1 Start\n"
     ]
    },
    {
     "name": "stderr",
     "output_type": "stream",
     "text": [
      "2023-12-09 16:55:27.965 (  21.649s) [main            ]    SparsityPattern.cpp:384   INFO| Column ghost size increased from 0 to 0\n",
      "2023-12-09 16:55:28.180 (  21.864s) [main            ]              petsc.cpp:698   INFO| PETSc Krylov solver starting to solve system.\n",
      "2023-12-09 16:55:28.181 (  21.866s) [main            ]              petsc.cpp:698   INFO| PETSc Krylov solver starting to solve system.\n",
      "2023-12-09 16:55:28.182 (  21.866s) [main            ]       NewtonSolver.cpp:36    INFO| Newton iteration 2: r (abs) = 0 (tol = 1e-08) r (rel) = 0(tol = 1e-08)\n",
      "2023-12-09 16:55:28.182 (  21.866s) [main            ]       NewtonSolver.cpp:250   INFO| Newton solver finished in 2 iterations and 2 linear solver iterations.\n"
     ]
    },
    {
     "name": "stdout",
     "output_type": "stream",
     "text": [
      "Linear Step 1 Done\n",
      "Starting Plastic Step\n",
      "Stop Plastic Step  Done\n",
      "Linear Step 2 Start\n",
      "Linear Step 1 Done\n",
      "Increment: 44\n",
      "Linear Step 1 Start\n"
     ]
    },
    {
     "name": "stderr",
     "output_type": "stream",
     "text": [
      "2023-12-09 16:55:28.400 (  22.084s) [main            ]    SparsityPattern.cpp:384   INFO| Column ghost size increased from 0 to 0\n",
      "2023-12-09 16:55:28.615 (  22.299s) [main            ]              petsc.cpp:698   INFO| PETSc Krylov solver starting to solve system.\n",
      "2023-12-09 16:55:28.616 (  22.301s) [main            ]              petsc.cpp:698   INFO| PETSc Krylov solver starting to solve system.\n",
      "2023-12-09 16:55:28.617 (  22.302s) [main            ]       NewtonSolver.cpp:36    INFO| Newton iteration 2: r (abs) = 0 (tol = 1e-08) r (rel) = 0(tol = 1e-08)\n",
      "2023-12-09 16:55:28.617 (  22.302s) [main            ]       NewtonSolver.cpp:250   INFO| Newton solver finished in 2 iterations and 2 linear solver iterations.\n"
     ]
    },
    {
     "name": "stdout",
     "output_type": "stream",
     "text": [
      "Linear Step 1 Done\n",
      "Starting Plastic Step\n",
      "Stop Plastic Step  Done\n",
      "Linear Step 2 Start\n",
      "Linear Step 1 Done\n",
      "Increment: 45\n",
      "Linear Step 1 Start\n"
     ]
    },
    {
     "name": "stderr",
     "output_type": "stream",
     "text": [
      "2023-12-09 16:55:28.834 (  22.519s) [main            ]    SparsityPattern.cpp:384   INFO| Column ghost size increased from 0 to 0\n",
      "2023-12-09 16:55:29.049 (  22.734s) [main            ]              petsc.cpp:698   INFO| PETSc Krylov solver starting to solve system.\n",
      "2023-12-09 16:55:29.051 (  22.735s) [main            ]              petsc.cpp:698   INFO| PETSc Krylov solver starting to solve system.\n",
      "2023-12-09 16:55:29.051 (  22.736s) [main            ]       NewtonSolver.cpp:36    INFO| Newton iteration 2: r (abs) = 0 (tol = 1e-08) r (rel) = 0(tol = 1e-08)\n",
      "2023-12-09 16:55:29.051 (  22.736s) [main            ]       NewtonSolver.cpp:250   INFO| Newton solver finished in 2 iterations and 2 linear solver iterations.\n"
     ]
    },
    {
     "name": "stdout",
     "output_type": "stream",
     "text": [
      "Linear Step 1 Done\n",
      "Starting Plastic Step\n",
      "Stop Plastic Step  Done\n",
      "Linear Step 2 Start\n",
      "Linear Step 1 Done\n",
      "Increment: 46\n",
      "Linear Step 1 Start\n"
     ]
    },
    {
     "name": "stderr",
     "output_type": "stream",
     "text": [
      "2023-12-09 16:55:29.271 (  22.955s) [main            ]    SparsityPattern.cpp:384   INFO| Column ghost size increased from 0 to 0\n",
      "2023-12-09 16:55:29.495 (  23.179s) [main            ]              petsc.cpp:698   INFO| PETSc Krylov solver starting to solve system.\n",
      "2023-12-09 16:55:29.497 (  23.181s) [main            ]              petsc.cpp:698   INFO| PETSc Krylov solver starting to solve system.\n",
      "2023-12-09 16:55:29.498 (  23.182s) [main            ]       NewtonSolver.cpp:36    INFO| Newton iteration 2: r (abs) = 0 (tol = 1e-08) r (rel) = 0(tol = 1e-08)\n",
      "2023-12-09 16:55:29.498 (  23.182s) [main            ]       NewtonSolver.cpp:250   INFO| Newton solver finished in 2 iterations and 2 linear solver iterations.\n"
     ]
    },
    {
     "name": "stdout",
     "output_type": "stream",
     "text": [
      "Linear Step 1 Done\n",
      "Starting Plastic Step\n",
      "Stop Plastic Step  Done\n",
      "Linear Step 2 Start\n",
      "Linear Step 1 Done\n",
      "Increment: 47\n",
      "Linear Step 1 Start\n",
      "Linear Step 1 Done\n",
      "Starting Plastic Step\n",
      "Stop Plastic Step  Done\n",
      "Linear Step 2 Start\n"
     ]
    },
    {
     "name": "stderr",
     "output_type": "stream",
     "text": [
      "2023-12-09 16:55:29.730 (  23.415s) [main            ]    SparsityPattern.cpp:384   INFO| Column ghost size increased from 0 to 0\n",
      "2023-12-09 16:55:29.958 (  23.643s) [main            ]              petsc.cpp:698   INFO| PETSc Krylov solver starting to solve system.\n",
      "2023-12-09 16:55:29.960 (  23.645s) [main            ]              petsc.cpp:698   INFO| PETSc Krylov solver starting to solve system.\n",
      "2023-12-09 16:55:29.961 (  23.646s) [main            ]       NewtonSolver.cpp:36    INFO| Newton iteration 2: r (abs) = 0 (tol = 1e-08) r (rel) = 0(tol = 1e-08)\n",
      "2023-12-09 16:55:29.961 (  23.646s) [main            ]       NewtonSolver.cpp:250   INFO| Newton solver finished in 2 iterations and 2 linear solver iterations.\n"
     ]
    },
    {
     "name": "stdout",
     "output_type": "stream",
     "text": [
      "Linear Step 1 Done\n",
      "Increment: 48\n",
      "Linear Step 1 Start\n",
      "Linear Step 1 Done\n",
      "Starting Plastic Step\n"
     ]
    },
    {
     "name": "stderr",
     "output_type": "stream",
     "text": [
      "2023-12-09 16:55:30.189 (  23.874s) [main            ]    SparsityPattern.cpp:384   INFO| Column ghost size increased from 0 to 0\n",
      "2023-12-09 16:55:30.416 (  24.100s) [main            ]              petsc.cpp:698   INFO| PETSc Krylov solver starting to solve system.\n",
      "2023-12-09 16:55:30.417 (  24.102s) [main            ]              petsc.cpp:698   INFO| PETSc Krylov solver starting to solve system.\n",
      "2023-12-09 16:55:30.418 (  24.102s) [main            ]       NewtonSolver.cpp:36    INFO| Newton iteration 2: r (abs) = 0 (tol = 1e-08) r (rel) = 0(tol = 1e-08)\n",
      "2023-12-09 16:55:30.418 (  24.102s) [main            ]       NewtonSolver.cpp:250   INFO| Newton solver finished in 2 iterations and 2 linear solver iterations.\n"
     ]
    },
    {
     "name": "stdout",
     "output_type": "stream",
     "text": [
      "Stop Plastic Step  Done\n",
      "Linear Step 2 Start\n",
      "Linear Step 1 Done\n",
      "Increment: 49\n",
      "Linear Step 1 Start\n"
     ]
    },
    {
     "name": "stderr",
     "output_type": "stream",
     "text": [
      "2023-12-09 16:55:30.648 (  24.333s) [main            ]    SparsityPattern.cpp:384   INFO| Column ghost size increased from 0 to 0\n",
      "2023-12-09 16:55:30.884 (  24.569s) [main            ]              petsc.cpp:698   INFO| PETSc Krylov solver starting to solve system.\n",
      "2023-12-09 16:55:30.885 (  24.570s) [main            ]              petsc.cpp:698   INFO| PETSc Krylov solver starting to solve system.\n",
      "2023-12-09 16:55:30.886 (  24.571s) [main            ]       NewtonSolver.cpp:36    INFO| Newton iteration 2: r (abs) = 0 (tol = 1e-08) r (rel) = 0(tol = 1e-08)\n",
      "2023-12-09 16:55:30.886 (  24.571s) [main            ]       NewtonSolver.cpp:250   INFO| Newton solver finished in 2 iterations and 2 linear solver iterations.\n"
     ]
    },
    {
     "name": "stdout",
     "output_type": "stream",
     "text": [
      "Linear Step 1 Done\n",
      "Starting Plastic Step\n",
      "Stop Plastic Step  Done\n",
      "Linear Step 2 Start\n",
      "Linear Step 1 Done\n",
      "Increment: 50\n",
      "Linear Step 1 Start\n"
     ]
    },
    {
     "name": "stderr",
     "output_type": "stream",
     "text": [
      "2023-12-09 16:55:31.116 (  24.801s) [main            ]    SparsityPattern.cpp:384   INFO| Column ghost size increased from 0 to 0\n",
      "2023-12-09 16:55:31.346 (  25.031s) [main            ]              petsc.cpp:698   INFO| PETSc Krylov solver starting to solve system.\n",
      "2023-12-09 16:55:31.348 (  25.032s) [main            ]              petsc.cpp:698   INFO| PETSc Krylov solver starting to solve system.\n",
      "2023-12-09 16:55:31.349 (  25.034s) [main            ]       NewtonSolver.cpp:36    INFO| Newton iteration 2: r (abs) = 0 (tol = 1e-08) r (rel) = 0(tol = 1e-08)\n",
      "2023-12-09 16:55:31.349 (  25.034s) [main            ]       NewtonSolver.cpp:250   INFO| Newton solver finished in 2 iterations and 2 linear solver iterations.\n"
     ]
    },
    {
     "name": "stdout",
     "output_type": "stream",
     "text": [
      "Linear Step 1 Done\n",
      "Starting Plastic Step\n",
      "Stop Plastic Step  Done\n",
      "Linear Step 2 Start\n",
      "Linear Step 1 Done\n",
      "-----------------------------------------\n",
      "End computation\n",
      "------------------------------------------\n",
      "Elapsed real time:  0:00:22.735213\n",
      "------------------------------------------\n"
     ]
    },
    {
     "name": "stderr",
     "output_type": "stream",
     "text": [
      "2023-12-09 16:55:31.584 (  25.268s) [main            ]    SparsityPattern.cpp:384   INFO| Column ghost size increased from 0 to 0\n"
     ]
    }
   ],
   "source": [
    "startTime = datetime.now()\n",
    "Nincr = stud[\"N incr\"]\n",
    "\n",
    "load_steps = np.linspace(0, .03, Nincr+1)[1:]**0.5\n",
    "results = np.zeros((Nincr+1, 2))\n",
    "\n",
    "\n",
    "print(\"------------------------------------\")\n",
    "print(\"Simulation Start\")\n",
    "print(\"------------------------------------\")\n",
    "\n",
    "\n",
    "log.set_log_level(log.LogLevel.INFO)\n",
    "\n",
    "for (i, t) in enumerate(load_steps):\n",
    "    # Update Diriclet boundary condition\n",
    "    du.x.array[:] = 0.0\n",
    "    dp.x.array[:] = 0.0\n",
    "    disp.value = F_ext(t)\n",
    "    # Update the right hand side reusing the initial vector\n",
    "\n",
    "    nRes0 = b.norm()\n",
    "    nRes = nRes0\n",
    "    print(\"Increment:\", str(i+1))\n",
    "    niter = 0\n",
    "    print(\"Linear Step 1 Start\")\n",
    "    solve_linear() #Solves for the first trial displacement\n",
    "    print(\"Linear Step 1 Done\")\n",
    "    print(\"Starting Plastic Step\")\n",
    "    solve_plastic()\n",
    "    print(\"Stop Plastic Step  Done\")\n",
    "    print(\"Linear Step 2 Start\")\n",
    "    solve_linear() #Solves for the actual displacement after the plastic update\n",
    "    print(\"Linear Step 1 Done\")\n",
    "    \n",
    "    \n",
    "    u.x.array[:] += du.x.array[:]\n",
    "    \n",
    "    \n",
    "    project(Stress_Point[0,0],Elastic)\n",
    "    u_pointe = u.eval(pointForStress,colliding_cells.array[0])[0]\n",
    "    stress =  domain.comm.gather(fem.assemble_scalar(engineeringStress))[0]\n",
    "    results[i + 1, :] = (u_pointe,stress)\n",
    "    \n",
    "\n",
    "print(\"-----------------------------------------\")\n",
    "print(\"End computation\")                 \n",
    "# Report elapsed real time for the analysis\n",
    "endTime = datetime.now()\n",
    "elapseTime = endTime - startTime\n",
    "print(\"------------------------------------------\")\n",
    "print(\"Elapsed real time:  {}\".format(elapseTime))\n",
    "print(\"------------------------------------------\")    \n",
    "    "
   ]
  },
  {
   "cell_type": "code",
   "execution_count": 26,
   "metadata": {},
   "outputs": [
    {
     "data": {
      "text/plain": [
       "89.14768068663483"
      ]
     },
     "execution_count": 26,
     "metadata": {},
     "output_type": "execute_result"
    }
   ],
   "source": [
    "res = fem.form(res_p)\n",
    "\n",
    "V = fem.assemble_vector(res)\n",
    "V.norm()"
   ]
  },
  {
   "cell_type": "code",
   "execution_count": 27,
   "metadata": {},
   "outputs": [
    {
     "data": {
      "application/vnd.jupyter.widget-view+json": {
       "model_id": "4d606778d66f473f8719e30a75451539",
       "version_major": 2,
       "version_minor": 0
      },
      "text/plain": [
       "Widget(value=\"<iframe src='http://localhost:36803/index.html?ui=P_0xffff64c74040_0&reconnect=auto' style='widt…"
      ]
     },
     "metadata": {},
     "output_type": "display_data"
    }
   ],
   "source": [
    "plotter = pyvista.Plotter()\n",
    "vtkdata = vtk_mesh(V_scal)\n",
    "grid = pyvista.UnstructuredGrid(*vtkdata)\n",
    "#grid[\"mag\"]=np.log10(V.array)\n",
    "\n",
    "actor = plotter.add_mesh(grid, show_edges=True)\n",
    "\n",
    "plotter.show()\n",
    "plotter.close()"
   ]
  },
  {
   "cell_type": "code",
   "execution_count": 29,
   "metadata": {},
   "outputs": [
    {
     "data": {
      "image/png": "[encoded data removed]",
      "text/plain": [
       "<Figure size 640x480 with 1 Axes>"
      ]
     },
     "metadata": {},
     "output_type": "display_data"
    },
    {
     "name": "stderr",
     "output_type": "stream",
     "text": [
      "ERROR:wslink.protocol:Exception raised\n",
      "ERROR:wslink.protocol:KeyError('709616f160481bcaa58a9ae84fda237b_1140d')\n",
      "ERROR:wslink.protocol:Traceback (most recent call last):\n",
      "  File \"/root/2.077-Fenicsx-Plasticity/.venv/lib/python3.10/site-packages/wslink/protocol.py\", line 332, in onMessage\n",
      "    results = func(*args, **kwargs)\n",
      "  File \"/root/2.077-Fenicsx-Plasticity/.venv/lib/python3.10/site-packages/trame_vtk/modules/vtk/protocols/local_rendering.py\", line 33, in get_array\n",
      "    self.context.get_cached_data_array(data_hash, binary)\n",
      "  File \"/root/2.077-Fenicsx-Plasticity/.venv/lib/python3.10/site-packages/trame_vtk/modules/vtk/serializers/synchronization_context.py\", line 30, in get_cached_data_array\n",
      "    cache_obj = self.data_array_cache[p_md5]\n",
      "KeyError: '709616f160481bcaa58a9ae84fda237b_1140d'\n",
      "\n",
      "ERROR:wslink.protocol:Exception raised\n",
      "ERROR:wslink.protocol:KeyError('67428f120937b51098439fd073b44a8d_3024L')\n",
      "ERROR:wslink.protocol:Traceback (most recent call last):\n",
      "  File \"/root/2.077-Fenicsx-Plasticity/.venv/lib/python3.10/site-packages/wslink/protocol.py\", line 332, in onMessage\n",
      "    results = func(*args, **kwargs)\n",
      "  File \"/root/2.077-Fenicsx-Plasticity/.venv/lib/python3.10/site-packages/trame_vtk/modules/vtk/protocols/local_rendering.py\", line 33, in get_array\n",
      "    self.context.get_cached_data_array(data_hash, binary)\n",
      "  File \"/root/2.077-Fenicsx-Plasticity/.venv/lib/python3.10/site-packages/trame_vtk/modules/vtk/serializers/synchronization_context.py\", line 30, in get_cached_data_array\n",
      "    cache_obj = self.data_array_cache[p_md5]\n",
      "KeyError: '67428f120937b51098439fd073b44a8d_3024L'\n",
      "\n"
     ]
    }
   ],
   "source": [
    "import matplotlib.pyplot as plt\n",
    "plt.plot(results[:, 0]/geom[\"longside\"], results[:, 1], \"-o\")\n",
    "plt.xlabel(\"Displacement of inner boundary\")\n",
    "plt.ylabel(r\"Stress\")\n",
    "plt.grid()\n",
    "plt.show()"
   ]
  }
 ],
 "metadata": {
  "kernelspec": {
   "display_name": ".venv",
   "language": "python",
   "name": "python3"
  },
  "language_info": {
   "codemirror_mode": {
    "name": "ipython",
    "version": 3
   },
   "file_extension": ".py",
   "mimetype": "text/x-python",
   "name": "python",
   "nbconvert_exporter": "python",
   "pygments_lexer": "ipython3",
   "version": "3.10.12"
  }
 },
 "nbformat": 4,
 "nbformat_minor": 2
}
