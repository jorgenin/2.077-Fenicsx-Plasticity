{
 "cells": [
  {
   "cell_type": "markdown",
   "metadata": {},
   "source": [
    "# Simple 1D Finite Plasticity model from \"Continuum Mechanics of Solids\"\n",
    "\n"
   ]
  },
  {
   "cell_type": "code",
   "execution_count": 1,
   "metadata": {},
   "outputs": [],
   "source": [
    "import numpy as np"
   ]
  },
  {
   "cell_type": "markdown",
   "metadata": {},
   "source": [
    "## Some parameters"
   ]
  },
  {
   "cell_type": "code",
   "execution_count": 2,
   "metadata": {},
   "outputs": [],
   "source": [
    "N = 20 #Steps per quarter cycle\n",
    "num_quart_cycles = 1 #Number of quarter cycles\n",
    "strain_rate_sign = np.array([1, -1, -1,1])\n",
    "\n",
    "\n",
    "e_dot = 0.001 # strain rate per second \n",
    "e_max = 0.01 # absolute value of maximum strain\n",
    "\n",
    "\n",
    "E = 100e9 # Young’s modulus \n",
    "Y0 =100e6 # Initial yield \n",
    "h0 = 0 # Initial hardening modulus \n",
    "Y_star = 300e6 # Yield saturation \n",
    "r = 0 #Hardening exponent \n",
    "C = 10e9#Backstress modulus \n",
    "gamma = 0 # Nonlinear kinematic parameter\n",
    "\n",
    "T = e_max/e_dot # time per quarter cycle \n",
    "dt = T/N  # time step in each increment\n",
    "\n",
    "e = np.zeros((N*num_quart_cycles+1,1))\n",
    "ep = np.zeros((N*num_quart_cycles+1,1))\n",
    "s = np.zeros((N*num_quart_cycles+1,1))\n",
    "sigma = np.zeros((N*num_quart_cycles+1,1))\n",
    "q = np.zeros((N*num_quart_cycles+1,1))\n",
    "Y = np.zeros((N*num_quart_cycles+1,1))\n",
    "\n"
   ]
  },
  {
   "cell_type": "markdown",
   "metadata": {},
   "source": []
  },
  {
   "cell_type": "code",
   "execution_count": 3,
   "metadata": {},
   "outputs": [],
   "source": [
    "n = 0\n",
    "Y[0] = Y0\n",
    "\n",
    "for i in range(num_quart_cycles):\n",
    "    # Strain increment per time step \n",
    "    ii =np.mod(i,4) \n",
    "    de = strain_rate_sign[ii] * e_dot * dt\n",
    "    \n",
    "    for j in range(N):\n",
    "        # New total strain at the end of this step \n",
    "        e[n+1] = e[n] + de\n",
    "        \n",
    "        # Trial stress \n",
    "        sigma_trial = sigma[n] + E * de\n",
    "        xi_trial = sigma_trial - q[n]\n",
    "        f_trial = np.abs(xi_trial) - Y[n]\n",
    "        \n",
    "        if(f_trial < 0): # Elastic step \n",
    "            sigma[n+1] = sigma_trial \n",
    "            Y[n+1] = Y[n] \n",
    "            ep[n+1] = ep[n]\n",
    "            q[n+1] = q[n]\n",
    "        else:\n",
    "            #solve implicit equation for x=abs(dep)\n",
    "            \n",
    "            x = de/2\n",
    "            dx = 100*x #large number\n",
    "            \n",
    "            while (np.abs(dx) > 1e-4 *np.abs(x)):\n",
    "                eta = gamma*x/(1+gamma*x)\n",
    "                g = abs(xi_trial + eta*q[n]) - (E + (1-eta) *C)*x - (Y[n] + h0*(1-Y[n]/Y_star)**r * x)\n",
    "                deta_dx = gamma/(1+gamma*x) - gamma*gamma*x/((1+gamma*x)**2)\n",
    "                dg = np.sign(xi_trial + eta*q[n]) * deta_dx*q[n] - (E + (1-eta)*C) + C*x*deta_dx  - h0*(1-Y[n]/Y_star)**r\n",
    "                dx = -g/dg\n",
    "                \n",
    "                x = x + dx\n",
    "                \n",
    "            dep = x\n",
    "            eta = gamma*x/(1+gamma*x)\n",
    "            xi_bar_trial = xi_trial + eta*q[n]\n",
    "            # Update ep(n+1), sigma(n+1), q(n+1)\n",
    "            ep[n+1] = ep[n] + dep*np.sign(xi_bar_trial)\n",
    "            sigma[n+1] = E*(e[n+1] - ep[n+1])\n",
    "            Y[n+1] = Y[n] + h0*(1-Y[n]/Y_star)**r * dep\n",
    "            q[n+1] = (1-eta) * (q[n] + C*dep*np.sign(xi_bar_trial))\n",
    "        n=n+1\n",
    "        \n",
    "\n",
    "            \n",
    "                \n",
    "            \n",
    "        \n",
    "    "
   ]
  },
  {
   "cell_type": "code",
   "execution_count": 4,
   "metadata": {},
   "outputs": [
    {
     "data": {
      "image/png": "[encoded data removed]",
      "text/plain": [
       "<Figure size 640x480 with 1 Axes>"
      ]
     },
     "metadata": {},
     "output_type": "display_data"
    }
   ],
   "source": [
    "from matplotlib import pyplot as plt\n",
    "\n",
    "plt.figure()\n",
    "plt.plot(e,sigma/1e6)\n",
    "plt.xlabel(r\"$\\epsilon$\")\n",
    "plt.xticks(rotation=20,fontsize=7)\n",
    "plt.ylabel(\"$\\sigma$ (MPa)\")\n",
    "plt.tight_layout()\n",
    "plt.grid()"
   ]
  },
  {
   "cell_type": "code",
   "execution_count": 5,
   "metadata": {},
   "outputs": [
    {
     "data": {
      "text/plain": [
       "array([125.])"
      ]
     },
     "execution_count": 5,
     "metadata": {},
     "output_type": "execute_result"
    }
   ],
   "source": [
    "sigma[-1]/1e6"
   ]
  }
 ],
 "metadata": {
  "kernelspec": {
   "display_name": ".venv",
   "language": "python",
   "name": "python3"
  },
  "language_info": {
   "codemirror_mode": {
    "name": "ipython",
    "version": 3
   },
   "file_extension": ".py",
   "mimetype": "text/x-python",
   "name": "python",
   "nbconvert_exporter": "python",
   "pygments_lexer": "ipython3",
   "version": "3.10.12"
  }
 },
 "nbformat": 4,
 "nbformat_minor": 2
}
