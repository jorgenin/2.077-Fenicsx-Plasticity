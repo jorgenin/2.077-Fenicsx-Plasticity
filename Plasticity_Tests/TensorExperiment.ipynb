{
 "cells": [
  {
   "cell_type": "markdown",
   "metadata": {},
   "source": [
    "# Some Experiments about Tensor Spaces"
   ]
  },
  {
   "cell_type": "code",
   "execution_count": null,
   "metadata": {},
   "outputs": [],
   "source": [
    "# FEniCSx libraries\n",
    "from dolfinx.fem import FunctionSpace,assemble_scalar,form, Function\n",
    "from dolfinx.fem.petsc import LinearProblem\n",
    "from dolfinx.mesh import CellType,create_rectangle\n",
    "from ufl import SpatialCoordinate,TestFunction,TrialFunction,inner,grad,div,sym,dx,as_vector\n",
    "import ufl\n",
    "\n",
    "# Other libraries\n",
    "from mpi4py import MPI\n",
    "import numpy as np\n",
    "import pyvista\n",
    "from dolfinx.plot import vtk_mesh\n",
    "pyvista.set_jupyter_backend('client')\n",
    "\n",
    "# Mesh ------------------------------------------------------------------------\n",
    "\n",
    "msh = create_rectangle(comm=MPI.COMM_WORLD,\n",
    "                       points=((0.0,0.0), (1.0,1.0)), n=(8,8),\n",
    "                       cell_type=CellType.triangle)\n",
    "\n",
    "x = SpatialCoordinate(msh)\n",
    "\n",
    "# Variational problem ----------------------------------------------------------\n",
    "\n",
    "# Some vector field\n",
    "def ue1(x):\n",
    "    return ufl.sin(ufl.pi*x[0])*ufl.sin(ufl.pi*x[1])\n",
    "\n",
    "def ue2(x):\n",
    "    return ufl.sin(ufl.pi*x[0])*ufl.sin(ufl.pi*x[1])\n",
    "\n",
    "ue =  as_vector([ue1(x), ue2(x)])\n",
    "\n",
    "# Tensor space\n",
    "T_Ele = ufl.TensorElement(\"CG\", msh.ufl_cell(),1,symmetry=True)\n",
    "V = FunctionSpace(msh,T_Ele)\n",
    "\n",
    "# Bilinear and linear forms\n",
    "sig = TrialFunction(V)\n",
    "tau = TestFunction(V)\n",
    "a = inner(sig,tau)*dx\n",
    "L = inner(sym(grad(ue)),tau)*dx\n",
    "\n",
    "# Linear system\n",
    "problem = LinearProblem(a,L,bcs=[],petsc_options={\"ksp_type\": \"preonly\", \"pc_type\": \"lu\"})\n",
    "wh = problem.solve()\n"
   ]
  },
  {
   "cell_type": "code",
   "execution_count": null,
   "metadata": {},
   "outputs": [],
   "source": [
    "V_sub , map_ing = V.sub(0).collapse()\n",
    "UVal = Function(V_sub)\n",
    "UVal.x.array[:]=wh.x.array[map_ing]"
   ]
  },
  {
   "cell_type": "code",
   "execution_count": null,
   "metadata": {},
   "outputs": [
    {
     "data": {
      "application/vnd.jupyter.widget-view+json": {
       "model_id": "21bbf2e5fcdd404c8478c36c929e7def",
       "version_major": 2,
       "version_minor": 0
      },
      "text/plain": [
       "Widget(value=\"<iframe src='http://localhost:62906/index.html?ui=P_0x1075d2910_0&reconnect=auto' style='width: …"
      ]
     },
     "metadata": {},
     "output_type": "display_data"
    }
   ],
   "source": [
    "plotter = pyvista.Plotter()\n",
    "vtkdata = vtk_mesh(msh, msh.topology.dim)\n",
    "grid = pyvista.UnstructuredGrid(*vtkdata)\n",
    "grid[\"mag\"] =UVal.x.array\n",
    "actor = plotter.add_mesh(grid, show_edges=True)\n",
    "\n",
    "plotter.view_xy()\n",
    "plotter.show()\n",
    "plotter.close()"
   ]
  }
 ],
 "metadata": {
  "kernelspec": {
   "display_name": ".venv",
   "language": "python",
   "name": "python3"
  },
  "language_info": {
   "codemirror_mode": {
    "name": "ipython",
    "version": 3
   },
   "file_extension": ".py",
   "mimetype": "text/x-python",
   "name": "python",
   "nbconvert_exporter": "python",
   "pygments_lexer": "ipython3",
   "version": "3.11.6"
  }
 },
 "nbformat": 4,
 "nbformat_minor": 2
}
