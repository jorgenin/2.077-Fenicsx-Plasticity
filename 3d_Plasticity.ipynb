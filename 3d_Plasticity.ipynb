{
 "cells": [
  {
   "cell_type": "code",
   "execution_count": 1,
   "metadata": {},
   "outputs": [],
   "source": [
    "import numpy as np\n",
    "\n",
    "import dolfinx\n",
    "\n",
    "from mpi4py import MPI\n",
    "from petsc4py import PETSc\n",
    "\n",
    "from dolfinx import fem, mesh, io, plot, log,default_scalar_type\n",
    "from dolfinx.fem import (Constant, dirichletbc, Function, functionspace, Expression )\n",
    "from dolfinx.fem.petsc import NonlinearProblem,LinearProblem\n",
    "from dolfinx.nls.petsc import NewtonSolver\n",
    "from dolfinx.io import XDMFFile, VTXWriter\n",
    "import ufl\n",
    "from ufl import (TestFunctions, TrialFunction, Identity, grad, det, div, dev, inv, tr, sqrt, conditional , gt, dx, inner, derivative, dot, ln, split,TestFunction,indices,as_tensor)\n",
    "from basix.ufl import element, mixed_element, quadrature_element\n",
    "from datetime import datetime\n",
    "from dolfinx.plot import vtk_mesh\n",
    "from dolfinx.fem.petsc import  assemble_matrix, assemble_vector, apply_lifting, create_vector, set_bc,create_matrix, create_vector\n",
    "import basix\n",
    "import pyvista\n",
    "pyvista.set_jupyter_backend('client')\n",
    "\n",
    "\n",
    "from ElasticPlasticity.Plastic_material import Plastic_Material\n",
    "from ElasticPlasticity.Plastic_Visibility import Problem_Saver\n",
    "from ElasticPlasticity.Plasticity_Funcs import *\n",
    "from ElasticPlasticity.Plasticity_Problem import Plastic_Problem_Def"
   ]
  },
  {
   "cell_type": "code",
   "execution_count": 2,
   "metadata": {},
   "outputs": [],
   "source": [
    "problem_name = \"Plastic Tensile Test\"\n",
    "# Geometric parameters\n",
    "geom = {\"longside\" : 100.0,     # mm\n",
    "        \"side\" : 10.0,      # mm\n",
    "        \"num_elements\" : 3,    # size of a cell\n",
    "        }\n",
    "\n",
    "\n",
    "# Mechanicals parameters\n",
    "mech = {\"E\" : 200e3,    # MPa\n",
    "        \"nu\" : 0.3,     #       \n",
    "        \"sig0\" : 100.,  # MPa\n",
    "        \"H\" : 80e3, # MPa\n",
    "        \"r\" : 2.0,\n",
    "        \"Y_s\" : 250.0 #mpa\n",
    "        \n",
    "        }\n",
    "\n",
    "\n",
    "# Study parameters\n",
    "stud = {\"deg u\" : 2,    # Interpolation of u\n",
    "        \"deg sig\" : 2,  # Interpolation of sig, eps, p\n",
    "        \"N incr\" : 100,  # Number of load steps\n",
    "        \"Max Disp\" : 1 # Maximal displacement\n",
    "        }\n"
   ]
  },
  {
   "cell_type": "markdown",
   "metadata": {},
   "source": [
    "# Domain and Boundarys"
   ]
  },
  {
   "cell_type": "code",
   "execution_count": 6,
   "metadata": {},
   "outputs": [],
   "source": [
    "domain = mesh.create_box(MPI.COMM_WORLD,[[0.0,0.0,0.0],[geom[\"longside\"],geom[\"side\"],geom[\"side\"]]],[geom[\"num_elements\"]*10,geom[\"num_elements\"],geom[\"num_elements\"]])\n",
    "\n",
    "\n",
    "def xBot(x):\n",
    "    return np.isclose(x[0], 0)\n",
    "def xTop(x):\n",
    "    return np.isclose(x[0], geom[\"longside\"])\n",
    "def yBot(x):\n",
    "    return np.isclose(x[1], 0)\n",
    "def yTop(x):\n",
    "    return np.isclose(x[1], geom[\"side\"])\n",
    "def zBot(x):\n",
    "    return np.isclose(x[2], 0)\n",
    "def zTop(x):\n",
    "    return np.isclose(x[2], geom[\"side\"])\n",
    "\n",
    "boundaries = [(1, xBot),(2,xTop),(3,yBot),(4,yTop),(5,zBot),(6,zTop)]\n",
    "\n",
    "facet_indices, facet_markers = [], []\n",
    "fdim = domain.topology.dim - 1\n",
    "for (marker, locator) in boundaries:\n",
    "    facets = mesh.locate_entities(domain, fdim, locator)\n",
    "    facet_indices.append(facets)\n",
    "    facet_markers.append(np.full_like(facets, marker))\n",
    "\n",
    "facet_indices = np.hstack(facet_indices).astype(np.int32)\n",
    "facet_markers = np.hstack(facet_markers).astype(np.int32)\n",
    "sorted_facets = np.argsort(facet_indices)\n",
    "facet_tag = mesh.meshtags(domain, fdim, facet_indices[sorted_facets], facet_markers[sorted_facets])"
   ]
  },
  {
   "cell_type": "code",
   "execution_count": null,
   "metadata": {},
   "outputs": [],
   "source": []
  },
  {
   "cell_type": "code",
   "execution_count": 5,
   "metadata": {},
   "outputs": [],
   "source": [
    "mat = Plastic_Material(domain = domain,**mech)"
   ]
  }
 ],
 "metadata": {
  "kernelspec": {
   "display_name": ".venv",
   "language": "python",
   "name": "python3"
  },
  "language_info": {
   "codemirror_mode": {
    "name": "ipython",
    "version": 3
   },
   "file_extension": ".py",
   "mimetype": "text/x-python",
   "name": "python",
   "nbconvert_exporter": "python",
   "pygments_lexer": "ipython3",
   "version": "3.10.12"
  }
 },
 "nbformat": 4,
 "nbformat_minor": 2
}
