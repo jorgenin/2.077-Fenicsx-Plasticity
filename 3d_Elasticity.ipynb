{
 "cells": [
  {
   "cell_type": "markdown",
   "metadata": {},
   "source": [
    "# Simple 3D Finite Elasticity model\n",
    "\n",
    "This is simple Elasticity Model in 3D. The model is implemented in Python using the FEniCS Project."
   ]
  },
  {
   "cell_type": "code",
   "execution_count": 1,
   "metadata": {},
   "outputs": [],
   "source": [
    "import numpy as np\n",
    "\n",
    "import dolfinx\n",
    "\n",
    "from mpi4py import MPI\n",
    "from petsc4py import PETSc\n",
    "\n",
    "from dolfinx import fem, mesh, io, plot, log\n",
    "from dolfinx.fem import (Constant, dirichletbc, Function, FunctionSpace, Expression )\n",
    "from dolfinx.fem.petsc import NonlinearProblem\n",
    "from dolfinx.nls.petsc import NewtonSolver\n",
    "from dolfinx.io import XDMFFile\n",
    "import ufl\n",
    "from ufl import (TestFunctions, TrialFunction, Identity, grad, det, div, dev, inv, tr, sqrt, conditional , gt, dx, inner, derivative, dot, ln, split,TestFunction)\n",
    "from datetime import datetime\n",
    "from dolfinx.plot import vtk_mesh\n",
    "\n",
    "import pyvista\n",
    "pyvista.set_jupyter_backend('client')\n",
    "## Define temporal parameters"
   ]
  },
  {
   "cell_type": "markdown",
   "metadata": {},
   "source": [
    "## Some parameters"
   ]
  },
  {
   "cell_type": "code",
   "execution_count": 2,
   "metadata": {},
   "outputs": [],
   "source": [
    "e_dot = 0.001 # strain rate per second \n",
    "e_max = 0.01 # absolute value of maximum strain\n",
    "\n",
    "\n",
    "E = 200e9 # Young’s modulus \n",
    "Y0 = 100e6 # Initial yield \n",
    "h0 = 0 # Initial hardening modulus \n",
    "Y_star = 100e6 # Yield saturation \n",
    "r = 0 #Hardening exponent \n",
    "C = 0 #Backstress modulus \n",
    "gamma = 0 # Nonlinear kinematic parameter\n",
    "\n"
   ]
  },
  {
   "cell_type": "markdown",
   "metadata": {},
   "source": [
    "# Define Geometry"
   ]
  },
  {
   "cell_type": "code",
   "execution_count": 3,
   "metadata": {},
   "outputs": [],
   "source": [
    "length = 10.0 # mm\n",
    "domain = mesh.create_box(MPI.COMM_WORLD,[[0.0,0.0,0.0],[length,length,length]],[2,2,2],mesh.CellType.tetrahedron)"
   ]
  },
  {
   "cell_type": "code",
   "execution_count": 4,
   "metadata": {},
   "outputs": [
    {
     "data": {
      "application/vnd.jupyter.widget-view+json": {
       "model_id": "f3e3fcfbe0da475e998250167c7ceafb",
       "version_major": 2,
       "version_minor": 0
      },
      "text/plain": [
       "Widget(value=\"<iframe src='http://localhost:63921/index.html?ui=P_0x28a3b3c10_0&reconnect=auto' style='width: …"
      ]
     },
     "metadata": {},
     "output_type": "display_data"
    }
   ],
   "source": [
    "plotter = pyvista.Plotter()\n",
    "vtkdata = vtk_mesh(domain, domain.topology.dim)\n",
    "grid = pyvista.UnstructuredGrid(*vtkdata)\n",
    "actor = plotter.add_mesh(grid, show_edges=True)\n",
    "plotter.show()\n",
    "plotter.close()"
   ]
  },
  {
   "cell_type": "markdown",
   "metadata": {},
   "source": [
    "# Definig Function Spaces\n"
   ]
  },
  {
   "cell_type": "code",
   "execution_count": 11,
   "metadata": {},
   "outputs": [],
   "source": [
    "# Tensor space\n",
    "T_Ele = ufl.TensorElement(\"Quadrature\", domain.ufl_cell(),1,symmetry=True)\n",
    "U_Ele = ufl.VectorElement(\"CG\", domain.ufl_cell(),1)\n",
    "\n",
    "T_quad = FunctionSpace(domain,T_Ele)\n",
    "V_u = FunctionSpace(domain,U_Ele)"
   ]
  },
  {
   "cell_type": "code",
   "execution_count": 6,
   "metadata": {},
   "outputs": [],
   "source": [
    "#MAT Properties\n",
    "\n",
    "K = Constant(domain,200.0e6) #200 GPa Bulk Modulus\n",
    "G = Constant(domain,80.0e6) #80 GPa Shear Modulus\n",
    "\n",
    "Lambda = 3\n",
    "\n",
    "I = np.eye(3)\n",
    "\n",
    "\n",
    "E = np.zeros((3,3))\n",
    "\n",
    "#Fourth Order Symmetric Identity Matrix\n",
    "Ident_sym = (np.einsum('ik,jl->ijkl',I,I) + np.einsum('il,jk->ijkl',I,I))/2\n",
    "\n",
    "\n",
    "C = 2*G*Ident_sym + (K-(2/3)*G)*np.tensordot(I,I,0)\n"
   ]
  },
  {
   "cell_type": "code",
   "execution_count": 13,
   "metadata": {},
   "outputs": [],
   "source": [
    "u = TrialFunction(V_u)"
   ]
  },
  {
   "cell_type": "code",
   "execution_count": 22,
   "metadata": {},
   "outputs": [
    {
     "data": {
      "text/plain": [
       "Transposed(Grad(Argument(FunctionSpace(Mesh(blocked element (Basix element (P, tetrahedron, 1, gll_warped, unset, False), (3,)), 0), VectorElement(FiniteElement('Lagrange', tetrahedron, 1), dim=3)), 1, None)))"
      ]
     },
     "execution_count": 22,
     "metadata": {},
     "output_type": "execute_result"
    }
   ],
   "source": []
  },
  {
   "cell_type": "code",
   "execution_count": 28,
   "metadata": {},
   "outputs": [],
   "source": [
    "E_expr = Expression(1/2*(grad(u)+(grad(u).T)),V_u.element.interpolation_points())"
   ]
  },
  {
   "cell_type": "code",
   "execution_count": 31,
   "metadata": {},
   "outputs": [
    {
     "ename": "RuntimeError",
     "evalue": "Cannot interpolate Expression with Argument",
     "output_type": "error",
     "traceback": [
      "\u001b[0;31m---------------------------------------------------------------------------\u001b[0m",
      "\u001b[0;31mRuntimeError\u001b[0m                              Traceback (most recent call last)",
      "\u001b[1;32m/Users/jorgenin/Documents/Python/Research/2.077/FinitePlasticity/3d_Elasticity.ipynb Cell 14\u001b[0m line \u001b[0;36m2\n\u001b[1;32m      <a href='vscode-notebook-cell:/Users/jorgenin/Documents/Python/Research/2.077/FinitePlasticity/3d_Elasticity.ipynb#X42sZmlsZQ%3D%3D?line=0'>1</a>\u001b[0m E \u001b[39m=\u001b[39m Function(T_quad)\n\u001b[0;32m----> <a href='vscode-notebook-cell:/Users/jorgenin/Documents/Python/Research/2.077/FinitePlasticity/3d_Elasticity.ipynb#X42sZmlsZQ%3D%3D?line=1'>2</a>\u001b[0m E\u001b[39m.\u001b[39;49minterpolate(E_expr)\n",
      "File \u001b[0;32m/usr/local/dolfinx_real/lib/python3.11/dist-packages/dolfinx/fem/function.py:397\u001b[0m, in \u001b[0;36mFunction.interpolate\u001b[0;34m(self, u, cells, nmm_interpolation_data)\u001b[0m\n\u001b[1;32m    393\u001b[0m     cells \u001b[39m=\u001b[39m np\u001b[39m.\u001b[39marange(\u001b[39mmap\u001b[39m\u001b[39m.\u001b[39msize_local \u001b[39m+\u001b[39m \u001b[39mmap\u001b[39m\u001b[39m.\u001b[39mnum_ghosts, dtype\u001b[39m=\u001b[39mnp\u001b[39m.\u001b[39mint32)\n\u001b[1;32m    395\u001b[0m \u001b[39mtry\u001b[39;00m:\n\u001b[1;32m    396\u001b[0m     \u001b[39m# u is a Function or Expression (or pointer to one)\u001b[39;00m\n\u001b[0;32m--> 397\u001b[0m     _interpolate(u, cells)\n\u001b[1;32m    398\u001b[0m \u001b[39mexcept\u001b[39;00m \u001b[39mTypeError\u001b[39;00m:\n\u001b[1;32m    399\u001b[0m     \u001b[39m# u is callable\u001b[39;00m\n\u001b[1;32m    400\u001b[0m     \u001b[39massert\u001b[39;00m \u001b[39mcallable\u001b[39m(u)\n",
      "File \u001b[0;32m/opt/homebrew/Cellar/python@3.11/3.11.6/Frameworks/Python.framework/Versions/3.11/lib/python3.11/functools.py:909\u001b[0m, in \u001b[0;36msingledispatch.<locals>.wrapper\u001b[0;34m(*args, **kw)\u001b[0m\n\u001b[1;32m    905\u001b[0m \u001b[39mif\u001b[39;00m \u001b[39mnot\u001b[39;00m args:\n\u001b[1;32m    906\u001b[0m     \u001b[39mraise\u001b[39;00m \u001b[39mTypeError\u001b[39;00m(\u001b[39mf\u001b[39m\u001b[39m'\u001b[39m\u001b[39m{\u001b[39;00mfuncname\u001b[39m}\u001b[39;00m\u001b[39m requires at least \u001b[39m\u001b[39m'\u001b[39m\n\u001b[1;32m    907\u001b[0m                     \u001b[39m'\u001b[39m\u001b[39m1 positional argument\u001b[39m\u001b[39m'\u001b[39m)\n\u001b[0;32m--> 909\u001b[0m \u001b[39mreturn\u001b[39;00m dispatch(args[\u001b[39m0\u001b[39;49m]\u001b[39m.\u001b[39;49m\u001b[39m__class__\u001b[39;49m)(\u001b[39m*\u001b[39;49margs, \u001b[39m*\u001b[39;49m\u001b[39m*\u001b[39;49mkw)\n",
      "File \u001b[0;32m/usr/local/dolfinx_real/lib/python3.11/dist-packages/dolfinx/fem/function.py:388\u001b[0m, in \u001b[0;36mFunction.interpolate.<locals>._\u001b[0;34m(expr, cells)\u001b[0m\n\u001b[1;32m    385\u001b[0m \u001b[39m@_interpolate\u001b[39m\u001b[39m.\u001b[39mregister(Expression)\n\u001b[1;32m    386\u001b[0m \u001b[39mdef\u001b[39;00m \u001b[39m_\u001b[39m(expr: Expression, cells: typing\u001b[39m.\u001b[39mOptional[np\u001b[39m.\u001b[39mndarray] \u001b[39m=\u001b[39m \u001b[39mNone\u001b[39;00m):\n\u001b[1;32m    387\u001b[0m \u001b[39m    \u001b[39m\u001b[39m\"\"\"Interpolate Expression for the set of cells\"\"\"\u001b[39;00m\n\u001b[0;32m--> 388\u001b[0m     \u001b[39mself\u001b[39;49m\u001b[39m.\u001b[39;49m_cpp_object\u001b[39m.\u001b[39;49minterpolate(expr\u001b[39m.\u001b[39;49m_cpp_object, cells)\n",
      "\u001b[0;31mRuntimeError\u001b[0m: Cannot interpolate Expression with Argument"
     ]
    }
   ],
   "source": [
    "E = Function(T_quad)\n",
    "E.interpolate(E_expr)"
   ]
  }
 ],
 "metadata": {
  "kernelspec": {
   "display_name": ".venv",
   "language": "python",
   "name": "python3"
  },
  "language_info": {
   "codemirror_mode": {
    "name": "ipython",
    "version": 3
   },
   "file_extension": ".py",
   "mimetype": "text/x-python",
   "name": "python",
   "nbconvert_exporter": "python",
   "pygments_lexer": "ipython3",
   "version": "3.11.6"
  }
 },
 "nbformat": 4,
 "nbformat_minor": 2
}
