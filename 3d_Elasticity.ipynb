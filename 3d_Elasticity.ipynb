{
 "cells": [
  {
   "cell_type": "markdown",
   "metadata": {},
   "source": [
    "# Simple 3D Finite Elasticity model\n",
    "\n",
    "This is simple Elasticity Model in 3D. The model is implemented in Python using the FEniCS Project."
   ]
  },
  {
   "cell_type": "code",
   "execution_count": 1,
   "metadata": {},
   "outputs": [],
   "source": [
    "import numpy as np\n",
    "\n",
    "import dolfinx\n",
    "\n",
    "from mpi4py import MPI\n",
    "from petsc4py import PETSc\n",
    "\n",
    "from dolfinx import fem, mesh, io, plot, log,default_scalar_type\n",
    "from dolfinx.fem import (Constant, dirichletbc, Function, functionspace, Expression )\n",
    "from dolfinx.fem.petsc import NonlinearProblem,LinearProblem\n",
    "from dolfinx.nls.petsc import NewtonSolver\n",
    "from dolfinx.io import XDMFFile\n",
    "import ufl\n",
    "from ufl import (TestFunctions, TrialFunction, Identity, grad, det, div, dev, inv, tr, sqrt, conditional , gt, dx, inner, derivative, dot, ln, split,TestFunction,indices,as_tensor)\n",
    "from basix.ufl import element, mixed_element\n",
    "from datetime import datetime\n",
    "from dolfinx.plot import vtk_mesh\n",
    "\n",
    "import pyvista\n",
    "pyvista.set_jupyter_backend('client')\n",
    "## Define temporal parameters"
   ]
  },
  {
   "cell_type": "markdown",
   "metadata": {},
   "source": [
    "## Some parameters"
   ]
  },
  {
   "cell_type": "code",
   "execution_count": 2,
   "metadata": {},
   "outputs": [],
   "source": [
    "e_dot = 0.001 # strain rate per second \n",
    "e_max = 0.01 # absolute value of maximum strain\n",
    "\n",
    "\n",
    "E = 200e9 # Young’s modulus \n",
    "Y0 = 100e6 # Initial yield \n",
    "h0 = 0 # Initial hardening modulus \n",
    "Y_star = 100e6 # Yield saturation \n",
    "r = 0 #Hardening exponent \n",
    "C = 0 #Backstress modulus \n",
    "gamma = 0 # Nonlinear kinematic parameter\n",
    "\n"
   ]
  },
  {
   "cell_type": "markdown",
   "metadata": {},
   "source": [
    "# Define Geometry"
   ]
  },
  {
   "cell_type": "code",
   "execution_count": 3,
   "metadata": {},
   "outputs": [],
   "source": [
    "length = 10.0 # mm\n",
    "longside= 100\n",
    "num_elements = 10\n",
    "domain = mesh.create_box(MPI.COMM_WORLD,[[0.0,0.0,0.0],[longside,length,length]],[num_elements*10,num_elements,num_elements],mesh.CellType.tetrahedron)"
   ]
  },
  {
   "cell_type": "code",
   "execution_count": 4,
   "metadata": {},
   "outputs": [
    {
     "data": {
      "application/vnd.jupyter.widget-view+json": {
       "model_id": "c01dff1e8cd448089b6bd0550a41b74a",
       "version_major": 2,
       "version_minor": 0
      },
      "text/plain": [
       "Widget(value=\"<iframe src='http://localhost:37921/index.html?ui=P_0xffffa81afdc0_0&reconnect=auto' style='widt…"
      ]
     },
     "metadata": {},
     "output_type": "display_data"
    }
   ],
   "source": [
    "plotter = pyvista.Plotter()\n",
    "vtkdata = vtk_mesh(domain, domain.topology.dim)\n",
    "grid = pyvista.UnstructuredGrid(*vtkdata)\n",
    "actor = plotter.add_mesh(grid, show_edges=True)\n",
    "plotter.show()\n",
    "plotter.close()"
   ]
  },
  {
   "cell_type": "markdown",
   "metadata": {},
   "source": [
    "# Definig Function Spaces\n"
   ]
  },
  {
   "cell_type": "code",
   "execution_count": 5,
   "metadata": {},
   "outputs": [],
   "source": [
    "# Tensor space\n",
    "import basix.ufl\n",
    "\n",
    "#T_Ele = basix.ufl.quadrature_element(domain.topology.cell_name(),value_shape=(3,3),degree=1)\n",
    "\n",
    "\n",
    "n = 0\n",
    "\n",
    "U_Ele = element(\"Lagrange\", domain.basix_cell(),1,shape=(3,))\n",
    "\n",
    "#T_quad = functionspace(domain,T_Ele)\n",
    "V_u = functionspace(domain,U_Ele)"
   ]
  },
  {
   "cell_type": "code",
   "execution_count": 6,
   "metadata": {},
   "outputs": [],
   "source": [
    "#MAT Properties\n",
    "\n",
    "K = Constant(domain,160e9) #200 MPa Bulk Modulus\n",
    "G = Constant(domain,80.0e9) #80 Mpa Shear Modulus\n",
    "\n",
    "I = Identity(3)\n",
    "II = ufl.outer(I,I)\n",
    "i,j,k,l = indices(4)\n",
    "Ident_sym_ii =1/2 * (I[i,k]*I[j,l] + I[i,l]*I[j,k])\n",
    "\n",
    "Ident_sym = as_tensor(Ident_sym_ii,(i,j,k,l))\n",
    "C = 2*G*Ident_sym + (K-(2/3)*G)*II"
   ]
  },
  {
   "cell_type": "code",
   "execution_count": 7,
   "metadata": {},
   "outputs": [],
   "source": [
    "Y = 9*G.value*K.value/(G.value+3*K.value)"
   ]
  },
  {
   "cell_type": "code",
   "execution_count": 8,
   "metadata": {},
   "outputs": [],
   "source": [
    "u = TrialFunction(V_u)\n",
    "v = ufl.TestFunction(V_u)\n",
    "E =ufl.sym(ufl.grad(u))\n",
    "T = as_tensor(C[i,j,k,l]*E[k,l],(i,j))"
   ]
  },
  {
   "cell_type": "code",
   "execution_count": 9,
   "metadata": {},
   "outputs": [],
   "source": [
    "T_2 = fem.Constant(domain, default_scalar_type((0, 0, 0)))\n",
    "ds = ufl.Measure(\"ds\", domain=domain)\n",
    "a = inner(T , grad(v) )*dx\n",
    "L =  ufl.dot(T_2, v) * ds"
   ]
  },
  {
   "cell_type": "code",
   "execution_count": 10,
   "metadata": {},
   "outputs": [],
   "source": [
    "def clamped_boundary(x):\n",
    "    return np.isclose(x[0], 0)\n",
    "\n",
    "\n",
    "def strech(x):\n",
    "    return np.isclose(x[0], longside)\n",
    "\n",
    "\n",
    "fdim = domain.topology.dim - 1\n",
    "boundary_facets = mesh.locate_entities_boundary(domain, fdim, clamped_boundary)\n",
    "boundary_facets_2 = mesh.locate_entities_boundary(domain, fdim, strech)\n",
    "\n",
    "u_D = np.array([0, 0, 0], dtype=default_scalar_type)\n",
    "u_D2 = np.array(10, dtype=default_scalar_type)\n",
    "bc = fem.dirichletbc(u_D, fem.locate_dofs_topological(V_u, fdim, boundary_facets), V_u)\n",
    "bc2 = fem.dirichletbc(u_D2, fem.locate_dofs_topological(V_u.sub(0), fdim, boundary_facets_2), V_u.sub(0))"
   ]
  },
  {
   "cell_type": "code",
   "execution_count": 11,
   "metadata": {},
   "outputs": [],
   "source": [
    "problem = LinearProblem(a, L, bcs=[bc,bc2], petsc_options={\"ksp_type\": \"preonly\", \"pc_type\": \"lu\"})\n",
    "uh = problem.solve()"
   ]
  },
  {
   "cell_type": "code",
   "execution_count": 12,
   "metadata": {},
   "outputs": [],
   "source": [
    "U = functionspace(domain,(\"DG\",0))\n",
    "\n",
    "mises = Function(U)\n",
    "E =ufl.sym(ufl.grad(uh))\n",
    "T_val = as_tensor(C[i,j,k,l]*E[k,l],(i,j))\n",
    "T0   = T_val- (1/3)*tr(T_val)*Identity(3)\n",
    "mises_val= sqrt(3/2*inner(T0,T0))\n",
    "mises_expr = Expression(mises_val,U.element.interpolation_points())\n",
    "mises.interpolate(mises_expr)\n"
   ]
  },
  {
   "cell_type": "code",
   "execution_count": 13,
   "metadata": {},
   "outputs": [
    {
     "data": {
      "application/vnd.jupyter.widget-view+json": {
       "model_id": "8aa7453208c34718b3f0e270f5daf4aa",
       "version_major": 2,
       "version_minor": 0
      },
      "text/plain": [
       "Widget(value=\"<iframe src='http://localhost:37921/index.html?ui=P_0xffff6c687580_0&reconnect=auto' style='widt…"
      ]
     },
     "metadata": {},
     "output_type": "display_data"
    }
   ],
   "source": [
    "pyvista.set_jupyter_backend('client')\n",
    "# Create plotter and pyvista grid\n",
    "p = pyvista.Plotter()\n",
    "topology, cell_types, geometry = plot.vtk_mesh(V_u)\n",
    "grid = pyvista.UnstructuredGrid(topology, cell_types, geometry)\n",
    "\n",
    "# Attach vector values to grid and warp grid by vector\n",
    "grid[\"u\"] = uh.x.array.reshape((geometry.shape[0], 3))\n",
    "#actor_0 = p.add_mesh(grid, style=\"wireframe\", color=\"k\")\n",
    "warped = grid.warp_by_vector(\"u\", factor =1)\n",
    "warped.cell_data['mag'] = mises.vector.array /1e6\n",
    "warped.set_active_scalars(\"mag\")\n",
    "actor_1 = p.add_mesh(warped, show_edges=True)\n",
    "p.enable_point_picking()\n",
    "p.show_axes()\n",
    "if not pyvista.OFF_SCREEN:\n",
    "    p.show()\n",
    "else:\n",
    "    figure_as_array = p.screenshot(\"deflection.png\")\n",
    "\n"
   ]
  }
 ],
 "metadata": {
  "kernelspec": {
   "display_name": ".venv",
   "language": "python",
   "name": "python3"
  },
  "language_info": {
   "codemirror_mode": {
    "name": "ipython",
    "version": 3
   },
   "file_extension": ".py",
   "mimetype": "text/x-python",
   "name": "python",
   "nbconvert_exporter": "python",
   "pygments_lexer": "ipython3",
   "version": "3.10.12"
  }
 },
 "nbformat": 4,
 "nbformat_minor": 2
}
