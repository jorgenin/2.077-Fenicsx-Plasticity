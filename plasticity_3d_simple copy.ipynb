{
 "cells": [
  {
   "cell_type": "markdown",
   "metadata": {},
   "source": [
    "# Simple 3D Finite Plasticity model from \"Continuum Mechanics of Solids\"\n",
    "\n"
   ]
  },
  {
   "cell_type": "code",
   "execution_count": 1,
   "metadata": {},
   "outputs": [],
   "source": [
    "import numpy as np\n",
    "\n",
    "import dolfinx\n",
    "\n",
    "from mpi4py import MPI\n",
    "from petsc4py import PETSc\n",
    "\n",
    "from dolfinx import fem, mesh, io, plot, log\n",
    "from dolfinx.fem import (Constant, dirichletbc, Function, FunctionSpace, Expression )\n",
    "from dolfinx.fem.petsc import NonlinearProblem\n",
    "from dolfinx.nls.petsc import NewtonSolver\n",
    "from dolfinx.io import XDMFFile\n",
    "import ufl\n",
    "from ufl import (TestFunctions, TrialFunction, Identity, grad, det, div, dev, inv, tr, sqrt, conditional , gt, dx, inner, derivative, dot, ln, split)\n",
    "from datetime import datetime\n",
    "from dolfinx.plot import vtk_mesh\n",
    "\n",
    "import pyvista\n",
    "pyvista.set_jupyter_backend('client')\n",
    "## Define temporal parameters"
   ]
  },
  {
   "cell_type": "markdown",
   "metadata": {},
   "source": [
    "## Some parameters"
   ]
  },
  {
   "cell_type": "code",
   "execution_count": 2,
   "metadata": {},
   "outputs": [],
   "source": [
    "e_dot = 0.001 # strain rate per second \n",
    "e_max = 0.01 # absolute value of maximum strain\n",
    "\n",
    "\n",
    "E = 200e9 # Young’s modulus \n",
    "Y0 = 100e6 # Initial yield \n",
    "h0 = 0 # Initial hardening modulus \n",
    "Y_star = 100e6 # Yield saturation \n",
    "r = 0 #Hardening exponent \n",
    "C = 0 #Backstress modulus \n",
    "gamma = 0 # Nonlinear kinematic parameter\n",
    "\n"
   ]
  },
  {
   "cell_type": "markdown",
   "metadata": {},
   "source": [
    "# Define Geometry"
   ]
  },
  {
   "cell_type": "code",
   "execution_count": 4,
   "metadata": {},
   "outputs": [],
   "source": [
    "length = 10.0 # mm\n",
    "domain = mesh.create_box(MPI.COMM_WORLD,[[0.0,0.0,0.0],[length,length,length]],[2,2,2],mesh.CellType.tetrahedron)"
   ]
  },
  {
   "cell_type": "code",
   "execution_count": 5,
   "metadata": {},
   "outputs": [
    {
     "data": {
      "application/vnd.jupyter.widget-view+json": {
       "model_id": "6a3d8e203a2c40cea5818875a1302c37",
       "version_major": 2,
       "version_minor": 0
      },
      "text/plain": [
       "Widget(value=\"<iframe src='http://localhost:61221/index.html?ui=P_0x29f1e2510_1&reconnect=auto' style='width: …"
      ]
     },
     "metadata": {},
     "output_type": "display_data"
    }
   ],
   "source": [
    "plotter = pyvista.Plotter()\n",
    "vtkdata = vtk_mesh(domain, domain.topology.dim)\n",
    "grid = pyvista.UnstructuredGrid(*vtkdata)\n",
    "actor = plotter.add_mesh(grid, show_edges=True)\n",
    "plotter.show()\n",
    "plotter.close()"
   ]
  },
  {
   "cell_type": "markdown",
   "metadata": {},
   "source": [
    "# Some Experiments about Tensor Spaces"
   ]
  },
  {
   "cell_type": "code",
   "execution_count": 52,
   "metadata": {},
   "outputs": [],
   "source": [
    "# FEniCSx libraries\n",
    "from dolfinx.fem import FunctionSpace,assemble_scalar,form\n",
    "from dolfinx.fem.petsc import LinearProblem\n",
    "from dolfinx.mesh import CellType,create_rectangle\n",
    "from ufl import SpatialCoordinate,TestFunction,TrialFunction,inner,grad,div,sym,dx,as_vector\n",
    "import ufl\n",
    "\n",
    "# Other libraries\n",
    "from mpi4py import MPI\n",
    "import numpy as np\n",
    "\n",
    "# Mesh ------------------------------------------------------------------------\n",
    "\n",
    "msh = create_rectangle(comm=MPI.COMM_WORLD,\n",
    "                       points=((0.0,0.0), (1.0,1.0)), n=(8,8),\n",
    "                       cell_type=CellType.triangle)\n",
    "\n",
    "x = SpatialCoordinate(msh)\n",
    "\n",
    "# Variational problem ----------------------------------------------------------\n",
    "\n",
    "# Some vector field\n",
    "def ue1(x):\n",
    "    return ufl.sin(ufl.pi*x[0])*ufl.sin(ufl.pi*x[1])\n",
    "\n",
    "def ue2(x):\n",
    "    return ufl.sin(ufl.pi*x[0])*ufl.sin(ufl.pi*x[1])\n",
    "\n",
    "ue =  as_vector([ue1(x), ue2(x)])\n",
    "\n",
    "# Tensor space\n",
    "T_Ele = ufl.TensorElement(\"CG\", msh.ufl_cell(),1,symmetry=True)\n",
    "V = FunctionSpace(msh,T_Ele)\n",
    "\n",
    "# Bilinear and linear forms\n",
    "sig = TrialFunction(V)\n",
    "tau = TestFunction(V)\n",
    "a = inner(sig,tau)*dx\n",
    "L = inner(sym(grad(ue)),tau)*dx\n",
    "\n",
    "# Linear system\n",
    "problem = LinearProblem(a,L,bcs=[],petsc_options={\"ksp_type\": \"preonly\", \"pc_type\": \"lu\"})\n",
    "wh = problem.solve()\n"
   ]
  },
  {
   "cell_type": "code",
   "execution_count": 69,
   "metadata": {},
   "outputs": [],
   "source": [
    "V_sub , map_ing = V.sub(0).collapse()"
   ]
  },
  {
   "cell_type": "code",
   "execution_count": 88,
   "metadata": {},
   "outputs": [],
   "source": [
    "UVal = Function(V_sub)\n",
    "UVal.x.array[:]=wh.x.array[map_ing]"
   ]
  },
  {
   "cell_type": "code",
   "execution_count": 85,
   "metadata": {},
   "outputs": [],
   "source": [
    "UVal.interpolate(P11_expr)"
   ]
  },
  {
   "cell_type": "code",
   "execution_count": 86,
   "metadata": {},
   "outputs": [
    {
     "data": {
      "application/vnd.jupyter.widget-view+json": {
       "model_id": "fdb3f267190c4b1da91c914cfdf79bd8",
       "version_major": 2,
       "version_minor": 0
      },
      "text/plain": [
       "Widget(value=\"<iframe src='http://localhost:61221/index.html?ui=P_0x2a6792050_6&reconnect=auto' style='width: …"
      ]
     },
     "metadata": {},
     "output_type": "display_data"
    }
   ],
   "source": [
    "plotter = pyvista.Plotter()\n",
    "vtkdata = vtk_mesh(msh, msh.topology.dim)\n",
    "grid = pyvista.UnstructuredGrid(*vtkdata)\n",
    "grid[\"mag\"] =UVal.x.array\n",
    "actor = plotter.add_mesh(grid, show_edges=True)\n",
    "\n",
    "plotter.view_xy()\n",
    "plotter.show()\n",
    "plotter.close()"
   ]
  },
  {
   "cell_type": "code",
   "execution_count": null,
   "metadata": {},
   "outputs": [],
   "source": []
  }
 ],
 "metadata": {
  "kernelspec": {
   "display_name": ".venv",
   "language": "python",
   "name": "python3"
  },
  "language_info": {
   "codemirror_mode": {
    "name": "ipython",
    "version": 3
   },
   "file_extension": ".py",
   "mimetype": "text/x-python",
   "name": "python",
   "nbconvert_exporter": "python",
   "pygments_lexer": "ipython3",
   "version": "3.11.6"
  }
 },
 "nbformat": 4,
 "nbformat_minor": 2
}
