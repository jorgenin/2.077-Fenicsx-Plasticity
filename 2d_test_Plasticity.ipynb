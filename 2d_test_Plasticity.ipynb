{
 "cells": [
  {
   "cell_type": "code",
   "execution_count": 1,
   "metadata": {},
   "outputs": [],
   "source": [
    "import numpy as np\n",
    "\n",
    "import dolfinx\n",
    "\n",
    "from mpi4py import MPI\n",
    "from petsc4py import PETSc\n",
    "\n",
    "from dolfinx import fem, mesh, io, plot, log, default_scalar_type\n",
    "from dolfinx.fem import Constant, dirichletbc, Function, functionspace, Expression\n",
    "from dolfinx.fem.petsc import NonlinearProblem, LinearProblem\n",
    "from dolfinx.nls.petsc import NewtonSolver\n",
    "from dolfinx.io.gmshio import model_to_mesh\n",
    "import ufl\n",
    "from ufl import (\n",
    "    TestFunctions,\n",
    "    TrialFunction,\n",
    "    Identity,\n",
    "    grad,\n",
    "    det,\n",
    "    div,\n",
    "    dev,\n",
    "    inv,\n",
    "    tr,\n",
    "    sqrt,\n",
    "    conditional,\n",
    "    gt,\n",
    "    dx,\n",
    "    inner,\n",
    "    derivative,\n",
    "    dot,\n",
    "    ln,\n",
    "    split,\n",
    "    TestFunction,\n",
    "    indices,\n",
    "    as_tensor,\n",
    "    as_vector\n",
    ")\n",
    "\n",
    "from basix.ufl import element, mixed_element, quadrature_element\n",
    "from datetime import datetime\n",
    "from dolfinx.plot import vtk_mesh\n",
    "from dolfinx.io import VTXWriter\n",
    "\n",
    "\n",
    "import pyvista\n",
    "\n",
    "pyvista.set_jupyter_backend(\"client\")\n",
    "## Define temporal parameters"
   ]
  },
  {
   "cell_type": "code",
   "execution_count": 2,
   "metadata": {},
   "outputs": [
    {
     "name": "stdout",
     "output_type": "stream",
     "text": [
      "Info    : Reading 'meshes/thick_cylinder.geo'...\n",
      "Info    : Done reading 'meshes/thick_cylinder.geo'\n",
      "Info    : Meshing 1D...\n",
      "Info    : [  0%] Meshing curve 1 (Line)\n",
      "Info    : [ 30%] Meshing curve 2 (Circle)\n",
      "Info    : [ 50%] Meshing curve 3 (Line)\n",
      "Info    : [ 80%] Meshing curve 4 (Circle)\n",
      "Info    : Done meshing 1D (Wall 0.000362417s, CPU 0.000772s)\n",
      "Info    : Meshing 2D...\n",
      "Info    : Meshing surface 6 (Plane, Frontal-Delaunay)\n",
      "Info    : Done meshing 2D (Wall 0.0112734s, CPU 0.010518s)\n",
      "Info    : 812 nodes 1625 elements\n",
      "Info    : Optimizing mesh (Netgen)...\n",
      "Info    : Done optimizing mesh (Wall 1.042e-06s, CPU 2e-06s)\n"
     ]
    }
   ],
   "source": [
    "import gmsh\n",
    "\n",
    "gmsh.initialize()\n",
    "gmsh.open(\"meshes/thick_cylinder.geo\")\n",
    "gmsh.model.mesh.generate(2)\n",
    "gmsh.model.mesh.optimize(\"Netgen\")\n",
    "domain, ct, ft = model_to_mesh(gmsh.model, MPI.COMM_WORLD, 0, gdim=2)\n",
    "gmsh.finalize()"
   ]
  },
  {
   "cell_type": "code",
   "execution_count": 3,
   "metadata": {},
   "outputs": [
    {
     "data": {
      "application/vnd.jupyter.widget-view+json": {
       "model_id": "bf7b2b03e6164ea38c15d03f45fcade8",
       "version_major": 2,
       "version_minor": 0
      },
      "text/plain": [
       "Widget(value=\"<iframe src='http://localhost:34027/index.html?ui=P_0xffffa8eb2440_0&reconnect=auto' style='widt…"
      ]
     },
     "metadata": {},
     "output_type": "display_data"
    }
   ],
   "source": [
    "plotter = pyvista.Plotter()\n",
    "vtkdata = vtk_mesh(domain, domain.topology.dim)\n",
    "grid = pyvista.UnstructuredGrid(*vtkdata)\n",
    "actor = plotter.add_mesh(grid, show_edges=True)\n",
    "plotter.show()\n",
    "plotter.close()"
   ]
  },
  {
   "cell_type": "code",
   "execution_count": 4,
   "metadata": {},
   "outputs": [],
   "source": [
    "E = Constant(domain, 70e3)\n",
    "nu = Constant(domain, 0.3)\n",
    "lmbda = E * nu / (1 + nu) / (1 - 2 * nu)\n",
    "mu = E / 2.0 / (1 + nu)\n",
    "sig0 = Constant(domain, 250.0)  # yield strength\n",
    "Et = E / 100.0  # tangent modulus\n",
    "H = E * Et / (E - Et)  # hardening modulus\n",
    "\n",
    "Re, Ri = 1.3, 1.0  # external/internal radius\n",
    "\n",
    "\n",
    "ds = ufl.Measure(\"ds\", domain=domain, subdomain_data=ft)"
   ]
  },
  {
   "cell_type": "markdown",
   "metadata": {},
   "source": [
    "# Function Spaces"
   ]
  },
  {
   "cell_type": "code",
   "execution_count": 5,
   "metadata": {},
   "outputs": [],
   "source": [
    "deg_u = 2\n",
    "deg_stress = 2\n",
    "U_Ele = element(\n",
    "    \"Lagrange\", domain.basix_cell(), deg_u, shape=(2,)\n",
    ")  # 2 degreeso of freedom\n",
    "V = functionspace(domain, U_Ele)\n",
    "\n",
    "We = quadrature_element(domain.basix_cell(), value_shape=(4,), degree=deg_stress)\n",
    "W = functionspace(domain, We)\n",
    "\n",
    "W0e = quadrature_element(domain.basix_cell(), degree=deg_stress)\n",
    "W0 = functionspace(domain, W0e)"
   ]
  },
  {
   "cell_type": "code",
   "execution_count": 6,
   "metadata": {},
   "outputs": [],
   "source": [
    "sig = Function(W)\n",
    "sig_old = Function(W)\n",
    "n_elas = Function(W)\n",
    "beta = Function(W0)\n",
    "p = Function(W0, name=\"Cumulative_plastic_strain\")\n",
    "u = Function(V, name=\"Total_displacement\")\n",
    "du = Function(V, name=\"Iteration_Correction\")\n",
    "Du = Function(V, name=\"Current_increment\")\n",
    "\n",
    "v = TrialFunction(V)\n",
    "u_ = TestFunction(V)"
   ]
  },
  {
   "cell_type": "markdown",
   "metadata": {},
   "source": [
    "# Boundary Conditions"
   ]
  },
  {
   "cell_type": "code",
   "execution_count": 7,
   "metadata": {},
   "outputs": [],
   "source": [
    "fdim = domain.topology.dim - 1\n",
    "\n",
    "\n",
    "bc = fem.dirichletbc(\n",
    "    0.0, fem.locate_dofs_topological(V.sub(1), fdim, ft.find(1)), V.sub(1)\n",
    ")\n",
    "bc2 = fem.dirichletbc(\n",
    "    0.0, fem.locate_dofs_topological(V.sub(0), fdim, ft.find(3)), V.sub(0)\n",
    ")\n",
    "\n",
    "bcs = [bc, bc2]"
   ]
  },
  {
   "cell_type": "code",
   "execution_count": 8,
   "metadata": {},
   "outputs": [],
   "source": [
    "n = ufl.FacetNormal(domain)\n",
    "q_lim = float(2 / sqrt(3) * ln(Re / Ri) * sig0)\n",
    "\n",
    "\n",
    "def loading(t):\n",
    "    return -q_lim * t\n"
   ]
  },
  {
   "cell_type": "markdown",
   "metadata": {},
   "source": [
    "# Constitutive Relations "
   ]
  },
  {
   "cell_type": "code",
   "execution_count": 9,
   "metadata": {},
   "outputs": [],
   "source": [
    "from ufl.tensors import ComponentTensor\n",
    "\n",
    "\n",
    "def eps(u: Function) -> ComponentTensor:\n",
    "    \"\"\"\n",
    "    Generates a plain strain tensor from input of a 2D displacement vector.\n",
    "\n",
    "\n",
    "    Parameters:\n",
    "    -----------\n",
    "        u (2d Vector Funciton): 2D displacement vector.\n",
    "\n",
    "    Returns:\n",
    "    --------\n",
    "        3x3 Tensor: Plain strain tensor generated from the displacement vector.\n",
    "    \"\"\"\n",
    "    e = ufl.sym(grad(u))\n",
    "    return as_tensor([[e[0, 0], e[0, 1], 0], [e[0, 1], e[1, 1], 0], [0, 0, 0]])\n",
    "\n",
    "\n",
    "def sigma(eps_el: Function) -> ComponentTensor:\n",
    "    \"\"\"\n",
    "    Generates the stress tensor from the input of a plain strain tensor.\n",
    "\n",
    "    Parameters:\n",
    "    ----------\n",
    "        eps_el (numpy.ndarray): Plain strain tensor.\n",
    "\n",
    "    Returns:\n",
    "    --------\n",
    "        3x3 Tensor: Plain strain tensor generated from the displacement vector.\n",
    "\n",
    "    \"\"\"\n",
    "    return lmbda * tr(eps_el) * Identity(3) + 2 * mu * eps_el\n",
    "\n",
    "\n",
    "def as_3D_tensor(X: Function) -> ComponentTensor:\n",
    "    \"\"\"Converts an array to a 3D tensor.\n",
    "\n",
    "    Parameters:\n",
    "    ----------\n",
    "       X (Function): Array to be converted to 3D tensor.\n",
    "\n",
    "    Returns:\n",
    "    --------\n",
    "        3x3 Tensor: 3D tensor generated from the input array.\n",
    "    \"\"\"\n",
    "    return as_tensor([[X[0], X[3], 0], [X[3], X[1], 0], [0, 0, X[2]]])"
   ]
  },
  {
   "cell_type": "code",
   "execution_count": 10,
   "metadata": {},
   "outputs": [],
   "source": [
    "ppos = lambda x: (x + abs(x)) / 2.0\n",
    "\n",
    "\n",
    "def proj_sig(deps:Function, old_sig:Function, old_p:Function):\n",
    "    \"\"\"Finds the new stress tensor, plastic strain, and plastic multiplier.\n",
    "\n",
    "    Parameters:\n",
    "    ----------\n",
    "        deps (Function): Delta Epsilon tensor\n",
    "        old_sig (Function): last stress tneosr\n",
    "        old_p (Function): last plasticity internal state\n",
    "\n",
    "    Returns:\n",
    "        sig_n+1 (Function): New stress tensor\n",
    "        n_elas (Function): New elstic tensor\n",
    "        beta (Function): New plastic multiplier\n",
    "    \"\"\"\n",
    "    \n",
    "    sig_n = as_3D_tensor(old_sig) #Last step stress tensor\n",
    "    \n",
    "    sig_elas = sig_n + sigma(deps)#Elastic stress tensor \n",
    "    \n",
    "    \n",
    "    s = dev(sig_elas) # Deviatoric eslastic stress tensor\n",
    "    \n",
    "    sig_eq = sqrt(3 / 2.0 * inner(s, s)) #The equivalent stress to the von Mises yield criterion\n",
    "    \n",
    "    f_elas = sig_eq - sig0 - H * old_p #F calc to figure out if we yielded\n",
    "    \n",
    "    dp = ppos(f_elas) / (3 * mu + H) #Some wierd positive part ( I guess if it's less than 0 it'll be 0 )\n",
    "    \n",
    "    \n",
    "    n_elas = s / sig_eq * ppos(f_elas) / f_elas # Elastic strain direction if yielded\n",
    "    beta = 3 * mu * dp / sig_eq\n",
    "    new_sig = sig_elas - beta * s\n",
    "    return (\n",
    "        as_vector([new_sig[0, 0], new_sig[1, 1], new_sig[2, 2], new_sig[0, 1]]),\n",
    "        as_vector([n_elas[0, 0], n_elas[1, 1], n_elas[2, 2], n_elas[0, 1]]),\n",
    "        beta,\n",
    "        dp,\n",
    "    )"
   ]
  },
  {
   "cell_type": "code",
   "execution_count": 11,
   "metadata": {},
   "outputs": [],
   "source": [
    "def sigma_tang(e):\n",
    "    N_elas = as_3D_tensor(n_elas)\n",
    "    return sigma(e) - 3*mu*(3*mu/(3*mu+H)-beta)*inner(N_elas, e)*N_elas-2*mu*beta*dev(e)"
   ]
  },
  {
   "cell_type": "code",
   "execution_count": 12,
   "metadata": {},
   "outputs": [],
   "source": [
    "N_elas = as_3D_tensor(n_elas)"
   ]
  },
  {
   "cell_type": "code",
   "execution_count": 13,
   "metadata": {},
   "outputs": [
    {
     "data": {
      "text/plain": [
       "Coefficient(FunctionSpace(Mesh(blocked element (Basix element (P, triangle, 1, equispaced, unset, False), (2,)), 0), QuadratureElement(triangle, array([[0.16666667, 0.16666667],       [0.16666667, 0.66666667],       [0.66666667, 0.16666667]]), array([0.16666667, 0.16666667, 0.16666667]), IdentityPullback())), 3)"
      ]
     },
     "execution_count": 13,
     "metadata": {},
     "output_type": "execute_result"
    }
   ],
   "source": [
    "beta"
   ]
  },
  {
   "cell_type": "code",
   "execution_count": 14,
   "metadata": {},
   "outputs": [],
   "source": [
    "metadata = {\"quadrature_degree\": deg_stress, \"quadrature_scheme\": \"default\"}\n",
    "\n",
    "dxm = dx(metadata=metadata)\n",
    "\n",
    "loading_Constant = Constant(domain,loading(0.0))\n",
    "\n",
    "\n",
    "a_Newton = inner(eps(v), sigma_tang(eps(u_)))*dxm\n",
    "\n",
    "res = -inner(eps(u_), as_3D_tensor(sig))*dxm + loading_Constant* dot(n, u_) *ds(4)"
   ]
  },
  {
   "cell_type": "code",
   "execution_count": 15,
   "metadata": {},
   "outputs": [],
   "source": [
    "problemName = \"2D Plasticity Test\"\n",
    "\n",
    "U = functionspace(domain, (\"Lagrange\", 2))\n",
    "\n",
    "mises = Function(U,name = \"mises\")\n",
    "\n",
    "def mises_func(sig):\n",
    "    s = dev(sig)\n",
    "    return sqrt(3/2*inner(s,s))"
   ]
  },
  {
   "cell_type": "code",
   "execution_count": 22,
   "metadata": {},
   "outputs": [
    {
     "ename": "AttributeError",
     "evalue": "'petsc4py.PETSc.Vec' object has no attribute 'function_spaces'",
     "output_type": "error",
     "traceback": [
      "\u001b[0;31m---------------------------------------------------------------------------\u001b[0m",
      "\u001b[0;31mAttributeError\u001b[0m                            Traceback (most recent call last)",
      "\u001b[1;32m/root/2.077-Fenicsx-Plasticity/2d_test_Plasticity.ipynb Cell 19\u001b[0m line \u001b[0;36m2\n\u001b[1;32m     <a href='vscode-notebook-cell://attached-container%2B7b22636f6e7461696e65724e616d65223a222f696e74656c6c6967656e745f6d61796572222c2273657474696e6773223a7b22636f6e74657874223a226465736b746f702d6c696e7578227d7d/root/2.077-Fenicsx-Plasticity/2d_test_Plasticity.ipynb#X33sdnNjb2RlLXJlbW90ZQ%3D%3D?line=17'>18</a>\u001b[0m A \u001b[39m=\u001b[39m assemble_matrix(a, bcs\u001b[39m=\u001b[39mbcs)\n\u001b[1;32m     <a href='vscode-notebook-cell://attached-container%2B7b22636f6e7461696e65724e616d65223a222f696e74656c6c6967656e745f6d61796572222c2273657474696e6773223a7b22636f6e74657874223a226465736b746f702d6c696e7578227d7d/root/2.077-Fenicsx-Plasticity/2d_test_Plasticity.ipynb#X33sdnNjb2RlLXJlbW90ZQ%3D%3D?line=18'>19</a>\u001b[0m A\u001b[39m.\u001b[39massemble()\n\u001b[0;32m---> <a href='vscode-notebook-cell://attached-container%2B7b22636f6e7461696e65724e616d65223a222f696e74656c6c6967656e745f6d61796572222c2273657474696e6773223a7b22636f6e74657874223a226465736b746f702d6c696e7578227d7d/root/2.077-Fenicsx-Plasticity/2d_test_Plasticity.ipynb#X33sdnNjb2RlLXJlbW90ZQ%3D%3D?line=19'>20</a>\u001b[0m b \u001b[39m=\u001b[39m create_vector(L)\n\u001b[1;32m     <a href='vscode-notebook-cell://attached-container%2B7b22636f6e7461696e65724e616d65223a222f696e74656c6c6967656e745f6d61796572222c2273657474696e6773223a7b22636f6e74657874223a226465736b746f702d6c696e7578227d7d/root/2.077-Fenicsx-Plasticity/2d_test_Plasticity.ipynb#X33sdnNjb2RlLXJlbW90ZQ%3D%3D?line=20'>21</a>\u001b[0m assemble_vector(b, L)\n\u001b[1;32m     <a href='vscode-notebook-cell://attached-container%2B7b22636f6e7461696e65724e616d65223a222f696e74656c6c6967656e745f6d61796572222c2273657474696e6773223a7b22636f6e74657874223a226465736b746f702d6c696e7578227d7d/root/2.077-Fenicsx-Plasticity/2d_test_Plasticity.ipynb#X33sdnNjb2RlLXJlbW90ZQ%3D%3D?line=22'>23</a>\u001b[0m vtk \u001b[39m=\u001b[39m VTXWriter(domain\u001b[39m.\u001b[39mcomm,\u001b[39m\"\u001b[39m\u001b[39mresults/\u001b[39m\u001b[39m\"\u001b[39m\u001b[39m+\u001b[39mproblemName\u001b[39m+\u001b[39m\u001b[39m\"\u001b[39m\u001b[39m.bp\u001b[39m\u001b[39m\"\u001b[39m, [u,mises], engine\u001b[39m=\u001b[39m\u001b[39m\"\u001b[39m\u001b[39mBP4\u001b[39m\u001b[39m\"\u001b[39m )\n",
      "File \u001b[0;32m/usr/local/dolfinx-real/lib/python3.10/dist-packages/dolfinx/fem/petsc.py:92\u001b[0m, in \u001b[0;36mcreate_vector\u001b[0;34m(L)\u001b[0m\n\u001b[1;32m     82\u001b[0m \u001b[39mdef\u001b[39;00m \u001b[39mcreate_vector\u001b[39m(L: Form) \u001b[39m-\u001b[39m\u001b[39m>\u001b[39m PETSc\u001b[39m.\u001b[39mVec:\n\u001b[1;32m     83\u001b[0m \u001b[39m    \u001b[39m\u001b[39m\"\"\"Create a PETSc vector that is compaible with a linear form.\u001b[39;00m\n\u001b[1;32m     84\u001b[0m \n\u001b[1;32m     85\u001b[0m \u001b[39m    Args:\u001b[39;00m\n\u001b[0;32m   (...)\u001b[0m\n\u001b[1;32m     90\u001b[0m \n\u001b[1;32m     91\u001b[0m \u001b[39m    \"\"\"\u001b[39;00m\n\u001b[0;32m---> 92\u001b[0m     dofmap \u001b[39m=\u001b[39m L\u001b[39m.\u001b[39;49mfunction_spaces[\u001b[39m0\u001b[39m]\u001b[39m.\u001b[39mdofmap\n\u001b[1;32m     93\u001b[0m     \u001b[39mreturn\u001b[39;00m create_petsc_vector(dofmap\u001b[39m.\u001b[39mindex_map, dofmap\u001b[39m.\u001b[39mindex_map_bs)\n",
      "\u001b[0;31mAttributeError\u001b[0m: 'petsc4py.PETSc.Vec' object has no attribute 'function_spaces'"
     ]
    }
   ],
   "source": [
    "Nitermax, tol = 200, 1e-8  # parameters of the Newton-Raphson procedure\n",
    "Nincr = 20\n",
    "load_steps = np.linspace(0, 1.1, Nincr+1)[1:]**0.5\n",
    "results = np.zeros((Nincr+1, 2))\n",
    "\n",
    "\n",
    "\n",
    "\n",
    "startTime = datetime.now()\n",
    "from dolfinx.fem.petsc import  assemble_matrix, assemble_vector, apply_lifting, create_vector, set_bc,create_matrix, create_vector\n",
    "loading_Constant.value = loading(load_steps[0])\n",
    "a = fem.form(a_Newton)\n",
    "L = fem.form(res)\n",
    "A = assemble_matrix(a, bcs=bcs)\n",
    "A.assemble()\n",
    "b = create_vector(L)\n",
    "assemble_vector(b, L)\n",
    "\n",
    "vtk = VTXWriter(domain.comm,\"results/\"+problemName+\".bp\", [u,mises], engine=\"BP4\" )\n",
    "\n",
    "\n",
    "solver = PETSc.KSP().create(domain.comm)\n",
    "solver.setOperators(A)\n",
    "solver.setType(PETSc.KSP.Type.PREONLY)\n",
    "solver.getPC().setType(PETSc.PC.Type.LU)\n",
    "for (i, t) in enumerate(load_steps):\n",
    "    # Update Diriclet boundary condition\n",
    "    loading_Constant.value = loading(t)\n",
    "    # Update the right hand side reusing the initial vector\n",
    "    \n",
    "    Du.x.array[:] = 0.0\n",
    "    nRes0 = b.norm(2)\n",
    "    nRes = nRes0\n",
    "    print(\"Increment:\", str(i+1))\n",
    "    niter = 0\n",
    "    while niter == 0 or (nRes/nRes0 > tol and niter < Nitermax):\n",
    "        res2val = solver.solve(b, du.vector)\n",
    "        \n",
    "        Du.x.array[:] = Du.x.array + du.x.array\n",
    "        \n",
    "        deps = eps(Du)\n",
    "        \n",
    "        sig_, n_elas_, beta_, dp_ =proj_sig(deps, sig_old, p)\n",
    "\n",
    "\n",
    "        sig_exp = Expression(sig_,W.element.interpolation_points())\n",
    "        sig.interpolate(sig_exp)\n",
    "\n",
    "        n_elas_exp = Expression(n_elas_,W.element.interpolation_points())\n",
    "        n_elas.interpolate(n_elas_exp)\n",
    "        \n",
    "        beta_exp = Expression(beta_,W0.element.interpolation_points())\n",
    "        beta.interpolate(beta_exp)\n",
    "        \n",
    "        with b.localForm() as loc_b:\n",
    "            loc_b.set(0)\n",
    "        assemble_vector(b, L)\n",
    "        # Apply Dirichlet boundary condition to the vector\n",
    "        apply_lifting(b, [a], [bcs])\n",
    "        b.ghostUpdate(addv=PETSc.InsertMode.ADD_VALUES, mode=PETSc.ScatterMode.REVERSE)\n",
    "        set_bc(b, bcs)\n",
    "\n",
    "        # Solve linear problem\n",
    "        \n",
    "        \n",
    "        nRes = b.norm(2)\n",
    "        du.x.scatter_forward()\n",
    "        \n",
    "        print(\"    Residual:\", nRes)\n",
    "        niter += 1\n",
    "    \n",
    "    \n",
    "    stress = sigma(eps(du))\n",
    "    \n",
    "    mises.interpolate(Expression(mises_func(stress),U.element.interpolation_points()))\n",
    "    \n",
    "    \n",
    "    vtk.write(t)\n",
    "    # Update solution at previous time step (u_n)\n",
    "    #u_n.x.array[:] = uh.x.array\n",
    "\n",
    "vtk.close()\n"
   ]
  },
  {
   "cell_type": "code",
   "execution_count": 17,
   "metadata": {},
   "outputs": [],
   "source": [
    "from dolfinx.fem.petsc import  assemble_matrix, assemble_vector, apply_lifting, create_vector, set_bc\n",
    "loading_Constant.value = loading(0.1)\n",
    "a = fem.form(a_Newton)\n",
    "L = fem.form(res)\n",
    "A = assemble_matrix(a, bcs=bcs)\n",
    "A.assemble()\n",
    "b = create_vector(L)\n",
    "assemble_vector(b, L)\n",
    "apply_lifting(b, [a], [bcs])\n",
    "\n",
    "set_bc(b, bcs)"
   ]
  },
  {
   "cell_type": "code",
   "execution_count": 18,
   "metadata": {},
   "outputs": [],
   "source": [
    "solver = PETSc.KSP().create(domain.comm)\n",
    "solver.setOperators(A)\n",
    "solver.setType(PETSc.KSP.Type.PREONLY)\n",
    "solver.getPC().setType(PETSc.PC.Type.LU)\n",
    "solver.solve(b, du.vector)"
   ]
  },
  {
   "cell_type": "code",
   "execution_count": 19,
   "metadata": {},
   "outputs": [
    {
     "data": {
      "text/plain": [
       "3.3627528074388584"
      ]
     },
     "execution_count": 19,
     "metadata": {},
     "output_type": "execute_result"
    }
   ],
   "source": [
    "b.norm(2)"
   ]
  },
  {
   "cell_type": "code",
   "execution_count": 20,
   "metadata": {},
   "outputs": [
    {
     "data": {
      "image/png": "[encoded data removed]",
      "text/plain": [
       "<Figure size 640x480 with 1 Axes>"
      ]
     },
     "metadata": {},
     "output_type": "display_data"
    }
   ],
   "source": [
    "\n",
    "import matplotlib.pyplot as plt\n",
    "plt.plot(results[:, 0], results[:, 1], \"-o\")\n",
    "plt.xlabel(\"Displacement of inner boundary\")\n",
    "plt.ylabel(r\"Applied pressure $q/q_{lim}$\")\n",
    "plt.show()"
   ]
  }
 ],
 "metadata": {
  "kernelspec": {
   "display_name": ".venv",
   "language": "python",
   "name": "python3"
  },
  "language_info": {
   "codemirror_mode": {
    "name": "ipython",
    "version": 3
   },
   "file_extension": ".py",
   "mimetype": "text/x-python",
   "name": "python",
   "nbconvert_exporter": "python",
   "pygments_lexer": "ipython3",
   "version": "3.10.12"
  }
 },
 "nbformat": 4,
 "nbformat_minor": 2
}
