{
 "cells": [
  {
   "cell_type": "code",
   "execution_count": 1,
   "metadata": {},
   "outputs": [],
   "source": [
    "import numpy as np\n",
    "\n",
    "import dolfinx\n",
    "\n",
    "from mpi4py import MPI\n",
    "from petsc4py import PETSc\n",
    "\n",
    "from dolfinx import fem, mesh, io, plot, log,default_scalar_type\n",
    "from dolfinx.fem import (Constant, dirichletbc, Function, functionspace, Expression )\n",
    "from dolfinx.fem.petsc import NonlinearProblem,LinearProblem\n",
    "from dolfinx.nls.petsc import NewtonSolver\n",
    "from dolfinx.io.gmshio import model_to_mesh\n",
    "import ufl\n",
    "from ufl import (TestFunctions, TrialFunction, Identity, grad, det, div, dev, inv, tr, sqrt, conditional , gt, dx, inner, derivative, dot, ln, split,TestFunction,indices,as_tensor)\n",
    "from basix.ufl import element, mixed_element, quadrature_element\n",
    "from datetime import datetime\n",
    "from dolfinx.plot import vtk_mesh\n",
    "\n",
    "import pyvista\n",
    "pyvista.set_jupyter_backend('client')\n",
    "## Define temporal parameters"
   ]
  },
  {
   "cell_type": "code",
   "execution_count": 2,
   "metadata": {},
   "outputs": [
    {
     "name": "stdout",
     "output_type": "stream",
     "text": [
      "Info    : Reading 'meshes/thick_cylinder.geo'...\n",
      "Info    : Done reading 'meshes/thick_cylinder.geo'\n",
      "Info    : Meshing 1D...\n",
      "Info    : [  0%] Meshing curve 1 (Line)\n",
      "Info    : [ 30%] Meshing curve 2 (Circle)\n",
      "Info    : [ 50%] Meshing curve 3 (Line)\n",
      "Info    : [ 80%] Meshing curve 4 (Circle)\n",
      "Info    : Done meshing 1D (Wall 0.000245125s, CPU 0.000274s)\n",
      "Info    : Meshing 2D...\n",
      "Info    : Meshing surface 6 (Plane, Frontal-Delaunay)\n",
      "Info    : Done meshing 2D (Wall 0.010169s, CPU 0.010146s)\n",
      "Info    : 812 nodes 1625 elements\n",
      "Info    : Optimizing mesh (Netgen)...\n",
      "Info    : Done optimizing mesh (Wall 9.99993e-07s, CPU 2e-06s)\n"
     ]
    }
   ],
   "source": [
    "import gmsh\n",
    "\n",
    "gmsh.initialize()\n",
    "gmsh.open(\"meshes/thick_cylinder.geo\")\n",
    "gmsh.model.mesh.generate(2)\n",
    "gmsh.model.mesh.optimize(\"Netgen\")\n",
    "domain, ct, ft = model_to_mesh(gmsh.model, MPI.COMM_WORLD, 0, gdim=2)\n",
    "gmsh.finalize()"
   ]
  },
  {
   "cell_type": "code",
   "execution_count": 5,
   "metadata": {},
   "outputs": [
    {
     "data": {
      "application/vnd.jupyter.widget-view+json": {
       "model_id": "d5a05fc886014d1e9496df42fa2059ba",
       "version_major": 2,
       "version_minor": 0
      },
      "text/plain": [
       "Widget(value=\"<iframe src='http://localhost:34801/index.html?ui=P_0xffff52ae2260_0&reconnect=auto' style='widt…"
      ]
     },
     "metadata": {},
     "output_type": "display_data"
    }
   ],
   "source": [
    "plotter = pyvista.Plotter()\n",
    "vtkdata = vtk_mesh(domain, domain.topology.dim)\n",
    "grid = pyvista.UnstructuredGrid(*vtkdata)\n",
    "actor = plotter.add_mesh(grid, show_edges=True)\n",
    "plotter.show()\n",
    "plotter.close()"
   ]
  },
  {
   "cell_type": "code",
   "execution_count": 9,
   "metadata": {},
   "outputs": [],
   "source": [
    "E = Constant(domain,70e3)\n",
    "nu = Constant(domain,0.3)\n",
    "lmbda = E * nu / (1 + nu) / (1 - 2 * nu)\n",
    "mu = E / 2.0 / (1 + nu)\n",
    "sig0 = Constant(domain,250.0)  # yield strength\n",
    "Et = E / 100.0  # tangent modulus\n",
    "H = E * Et / (E - Et)  # hardening modulus\n",
    "\n",
    "Re, Ri = 1.3, 1.0  # external/internal radius\n",
    "\n",
    "\n",
    "ds = ufl.Measure(\"ds\", domain=domain, subdomain_data=ft)"
   ]
  },
  {
   "cell_type": "code",
   "execution_count": 10,
   "metadata": {},
   "outputs": [],
   "source": [
    "deg_u = 2\n",
    "deg_stress = 2\n",
    "\n"
   ]
  }
 ],
 "metadata": {
  "kernelspec": {
   "display_name": ".venv",
   "language": "python",
   "name": "python3"
  },
  "language_info": {
   "codemirror_mode": {
    "name": "ipython",
    "version": 3
   },
   "file_extension": ".py",
   "mimetype": "text/x-python",
   "name": "python",
   "nbconvert_exporter": "python",
   "pygments_lexer": "ipython3",
   "version": "3.10.12"
  }
 },
 "nbformat": 4,
 "nbformat_minor": 2
}
