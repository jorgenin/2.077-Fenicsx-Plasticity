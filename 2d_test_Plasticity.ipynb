{
 "cells": [
  {
   "cell_type": "markdown",
   "metadata": {},
   "source": [
    "# Plasticity Model\n",
    "\n",
    "Von Mises plasticity Based on model in Numerical tours... https://comet-fenics.readthedocs.io/en/latest/demo/2D_plasticity/vonMises_plasticity.py.html\n",
    "\n",
    "Updated for Fenics 0.8.0"
   ]
  },
  {
   "cell_type": "code",
   "execution_count": 1,
   "metadata": {},
   "outputs": [],
   "source": [
    "import numpy as np\n",
    "\n",
    "import dolfinx\n",
    "\n",
    "from mpi4py import MPI\n",
    "from petsc4py import PETSc\n",
    "\n",
    "from dolfinx import fem, mesh, io, plot, log, default_scalar_type\n",
    "from dolfinx.fem import Constant, dirichletbc, Function, functionspace, Expression\n",
    "from dolfinx.fem.petsc import NonlinearProblem, LinearProblem\n",
    "from dolfinx.nls.petsc import NewtonSolver\n",
    "from dolfinx.io.gmshio import model_to_mesh\n",
    "import ufl\n",
    "from ufl import (\n",
    "    TestFunctions,\n",
    "    TrialFunction,\n",
    "    Identity,\n",
    "    grad,\n",
    "    det,\n",
    "    div,\n",
    "    dev,\n",
    "    inv,\n",
    "    tr,\n",
    "    sqrt,\n",
    "    conditional,\n",
    "    gt,\n",
    "    dx,\n",
    "    inner,\n",
    "    derivative,\n",
    "    dot,\n",
    "    ln,\n",
    "    split,\n",
    "    TestFunction,\n",
    "    indices,\n",
    "    as_tensor,\n",
    "    as_vector\n",
    ")\n",
    "\n",
    "from basix.ufl import element, mixed_element, quadrature_element\n",
    "from datetime import datetime\n",
    "from dolfinx.plot import vtk_mesh\n",
    "from dolfinx.io import VTXWriter\n",
    "\n",
    "\n",
    "import pyvista\n",
    "\n",
    "pyvista.set_jupyter_backend(\"client\")\n",
    "## Define temporal parameters"
   ]
  },
  {
   "cell_type": "code",
   "execution_count": 2,
   "metadata": {},
   "outputs": [
    {
     "name": "stdout",
     "output_type": "stream",
     "text": [
      "Info    : Reading 'meshes/thick_cylinder.geo'...\n",
      "Info    : Done reading 'meshes/thick_cylinder.geo'\n",
      "Info    : Meshing 1D...\n",
      "Info    : [  0%] Meshing curve 1 (Line)\n",
      "Info    : [ 30%] Meshing curve 2 (Circle)\n",
      "Info    : [ 50%] Meshing curve 3 (Line)\n",
      "Info    : [ 80%] Meshing curve 4 (Circle)\n",
      "Info    : Done meshing 1D (Wall 0.000224916s, CPU 0.000262s)\n",
      "Info    : Meshing 2D...\n",
      "Info    : Meshing surface 6 (Plane, Frontal-Delaunay)\n",
      "Info    : Done meshing 2D (Wall 0.0105599s, CPU 0.010571s)\n",
      "Info    : 812 nodes 1625 elements\n",
      "Info    : Optimizing mesh (Netgen)...\n",
      "Info    : Done optimizing mesh (Wall 8.3301e-07s, CPU 2e-06s)\n"
     ]
    }
   ],
   "source": [
    "import gmsh\n",
    "\n",
    "gmsh.initialize()\n",
    "gmsh.open(\"meshes/thick_cylinder.geo\")\n",
    "gmsh.model.mesh.generate(2)\n",
    "gmsh.model.mesh.optimize(\"Netgen\")\n",
    "domain, ct, ft = model_to_mesh(gmsh.model, MPI.COMM_WORLD, 0, gdim=2)\n",
    "gmsh.finalize()"
   ]
  },
  {
   "cell_type": "code",
   "execution_count": 3,
   "metadata": {},
   "outputs": [
    {
     "data": {
      "application/vnd.jupyter.widget-view+json": {
       "model_id": "06095b86588b43f8b361cbc72dfc1dee",
       "version_major": 2,
       "version_minor": 0
      },
      "text/plain": [
       "Widget(value=\"<iframe src='http://localhost:36255/index.html?ui=P_0xffff844f2650_0&reconnect=auto' style='widt…"
      ]
     },
     "metadata": {},
     "output_type": "display_data"
    }
   ],
   "source": [
    "plotter = pyvista.Plotter()\n",
    "vtkdata = vtk_mesh(domain, domain.topology.dim)\n",
    "grid = pyvista.UnstructuredGrid(*vtkdata)\n",
    "actor = plotter.add_mesh(grid, show_edges=True)\n",
    "plotter.show()\n",
    "plotter.close()"
   ]
  },
  {
   "cell_type": "code",
   "execution_count": 4,
   "metadata": {},
   "outputs": [],
   "source": [
    "E = Constant(domain, 70e3)\n",
    "nu = Constant(domain, 0.3)\n",
    "lmbda = E * nu / (1 + nu) / (1 - 2 * nu)\n",
    "mu = E / 2.0 / (1 + nu)\n",
    "sig0 = Constant(domain, 250.0)  # yield strength\n",
    "Et = E / 100.0  # tangent modulus\n",
    "H = E * Et / (E - Et)  # hardening modulus\n",
    "\n",
    "Re, Ri = 1.3, 1.0  # external/internal radius\n",
    "\n",
    "\n",
    "ds = ufl.Measure(\"ds\", domain=domain, subdomain_data=ft)"
   ]
  },
  {
   "cell_type": "markdown",
   "metadata": {},
   "source": [
    "# Function Spaces"
   ]
  },
  {
   "cell_type": "code",
   "execution_count": 5,
   "metadata": {},
   "outputs": [],
   "source": [
    "deg_u = 2\n",
    "deg_stress = 2\n",
    "U_Ele = element(\n",
    "    \"Lagrange\", domain.basix_cell(), deg_u, shape=(2,)\n",
    ")  # 2 degreeso of freedom\n",
    "V = functionspace(domain, U_Ele)\n",
    "\n",
    "We = quadrature_element(domain.basix_cell(), value_shape=(4,), degree=deg_stress)\n",
    "W = functionspace(domain, We)\n",
    "\n",
    "W0e = quadrature_element(domain.basix_cell(), degree=deg_stress)\n",
    "W0 = functionspace(domain, W0e)"
   ]
  },
  {
   "cell_type": "code",
   "execution_count": 6,
   "metadata": {},
   "outputs": [],
   "source": [
    "sig = Function(W)\n",
    "sig_old = Function(W)\n",
    "n_elas = Function(W)\n",
    "beta = Function(W0)\n",
    "p = Function(W0, name=\"Cumulative_plastic_strain\")\n",
    "u = Function(V, name=\"Total_displacement\")\n",
    "du = Function(V, name=\"Iteration_Correction\")\n",
    "Du = Function(V, name=\"Current_increment\")\n",
    "\n",
    "v = TrialFunction(V)\n",
    "u_ = TestFunction(V)"
   ]
  },
  {
   "cell_type": "markdown",
   "metadata": {},
   "source": [
    "# Boundary Conditions"
   ]
  },
  {
   "cell_type": "code",
   "execution_count": 7,
   "metadata": {},
   "outputs": [],
   "source": [
    "fdim = domain.topology.dim - 1\n",
    "\n",
    "\n",
    "bc = fem.dirichletbc(\n",
    "    0.0, fem.locate_dofs_topological(V.sub(1), fdim, ft.find(1)), V.sub(1)\n",
    ")\n",
    "bc2 = fem.dirichletbc(\n",
    "    0.0, fem.locate_dofs_topological(V.sub(0), fdim, ft.find(3)), V.sub(0)\n",
    ")\n",
    "\n",
    "bcs = [bc, bc2]"
   ]
  },
  {
   "cell_type": "code",
   "execution_count": 8,
   "metadata": {},
   "outputs": [],
   "source": [
    "n = ufl.FacetNormal(domain)\n",
    "q_lim = float(2 / sqrt(3) * ln(Re / Ri) * sig0)\n",
    "\n",
    "\n",
    "def loading(t):\n",
    "    return -q_lim * t\n"
   ]
  },
  {
   "cell_type": "markdown",
   "metadata": {},
   "source": [
    "# Constitutive Relations "
   ]
  },
  {
   "cell_type": "code",
   "execution_count": 9,
   "metadata": {},
   "outputs": [],
   "source": [
    "from ufl.tensors import ComponentTensor\n",
    "\n",
    "\n",
    "def eps(u: Function) -> ComponentTensor:\n",
    "    \"\"\"\n",
    "    Generates a plain strain tensor from input of a 2D displacement vector.\n",
    "\n",
    "\n",
    "    Parameters:\n",
    "    -----------\n",
    "        u (2d Vector Funciton): 2D displacement vector.\n",
    "\n",
    "    Returns:\n",
    "    --------\n",
    "        3x3 Tensor: Plain strain tensor generated from the displacement vector.\n",
    "    \"\"\"\n",
    "    e = ufl.sym(grad(u))\n",
    "    return as_tensor([[e[0, 0], e[0, 1], 0], [e[0, 1], e[1, 1], 0], [0, 0, 0]])\n",
    "\n",
    "\n",
    "def sigma(eps_el: Function) -> ComponentTensor:\n",
    "    \"\"\"\n",
    "    Generates the stress tensor from the input of a plain strain tensor.\n",
    "\n",
    "    Parameters:\n",
    "    ----------\n",
    "        eps_el (numpy.ndarray): Plain strain tensor.\n",
    "\n",
    "    Returns:\n",
    "    --------\n",
    "        3x3 Tensor: Plain strain tensor generated from the displacement vector.\n",
    "\n",
    "    \"\"\"\n",
    "    return lmbda * tr(eps_el) * Identity(3) + 2 * mu * eps_el\n",
    "\n",
    "\n",
    "def as_3D_tensor(X: Function) -> ComponentTensor:\n",
    "    \"\"\"Converts an array to a 3D tensor.\n",
    "\n",
    "    Parameters:\n",
    "    ----------\n",
    "       X (Function): Array to be converted to 3D tensor.\n",
    "\n",
    "    Returns:\n",
    "    --------\n",
    "        3x3 Tensor: 3D tensor generated from the input array.\n",
    "    \"\"\"\n",
    "    return as_tensor([[X[0], X[3], 0], [X[3], X[1], 0], [0, 0, X[2]]])"
   ]
  },
  {
   "cell_type": "code",
   "execution_count": 10,
   "metadata": {},
   "outputs": [],
   "source": [
    "ppos = lambda x: (x + abs(x)) / 2.0\n",
    "\n",
    "\n",
    "def proj_sig(deps:Function, old_sig:Function, old_p:Function):\n",
    "    \"\"\"Finds the new stress tensor, plastic strain, and plastic multiplier.\n",
    "\n",
    "    Parameters:\n",
    "    ----------\n",
    "        deps (Function): Delta Epsilon tensor\n",
    "        old_sig (Function): last stress tneosr\n",
    "        old_p (Function): last plasticity internal state\n",
    "\n",
    "    Returns:\n",
    "        sig_n+1 (Function): New stress tensor\n",
    "        n_elas (Function): New elstic tensor\n",
    "        beta (Function): New plastic multiplier\n",
    "    \"\"\"\n",
    "    \n",
    "    sig_n = as_3D_tensor(old_sig) #Last step stress tensor\n",
    "    \n",
    "    sig_elas = sig_n + sigma(deps)#Elastic stress tensor \n",
    "    \n",
    "    \n",
    "    s = dev(sig_elas) # Deviatoric eslastic stress tensor\n",
    "    \n",
    "    sig_eq = sqrt(3 / 2.0 * inner(s, s)) #The equivalent stress to the von Mises yield criterion\n",
    "    \n",
    "    f_elas = sig_eq - sig0 - H * old_p #F calc to figure out if we yielded\n",
    "    \n",
    "    dp = ppos(f_elas) / (3 * mu + H) #Some wierd positive part ( I guess if it's less than 0 it'll be 0 )\n",
    "    \n",
    "    \n",
    "    n_elas = s / sig_eq * ppos(f_elas) / f_elas # Elastic strain direction if yielded\n",
    "    beta = 3 * mu * dp / sig_eq\n",
    "    new_sig = sig_elas - beta * s\n",
    "    return (\n",
    "        as_vector([new_sig[0, 0], new_sig[1, 1], new_sig[2, 2], new_sig[0, 1]]),\n",
    "        as_vector([n_elas[0, 0], n_elas[1, 1], n_elas[2, 2], n_elas[0, 1]]),\n",
    "        beta,\n",
    "        dp,\n",
    "    )"
   ]
  },
  {
   "cell_type": "code",
   "execution_count": 11,
   "metadata": {},
   "outputs": [],
   "source": [
    "def sigma_tang(e):\n",
    "    N_elas = as_3D_tensor(n_elas)\n",
    "    return sigma(e) - 3*mu*(3*mu/(3*mu+H)-beta)*inner(N_elas, e)*N_elas-2*mu*beta*dev(e)"
   ]
  },
  {
   "cell_type": "code",
   "execution_count": 12,
   "metadata": {},
   "outputs": [],
   "source": [
    "N_elas = as_3D_tensor(n_elas)"
   ]
  },
  {
   "cell_type": "code",
   "execution_count": 13,
   "metadata": {},
   "outputs": [
    {
     "data": {
      "text/plain": [
       "Coefficient(FunctionSpace(Mesh(blocked element (Basix element (P, triangle, 1, equispaced, unset, False), (2,)), 0), QuadratureElement(triangle, array([[0.16666667, 0.16666667],       [0.16666667, 0.66666667],       [0.66666667, 0.16666667]]), array([0.16666667, 0.16666667, 0.16666667]), IdentityPullback())), 3)"
      ]
     },
     "execution_count": 13,
     "metadata": {},
     "output_type": "execute_result"
    }
   ],
   "source": [
    "beta"
   ]
  },
  {
   "cell_type": "code",
   "execution_count": 14,
   "metadata": {},
   "outputs": [],
   "source": [
    "metadata = {\"quadrature_degree\": deg_stress, \"quadrature_scheme\": \"default\"}\n",
    "\n",
    "dxm = dx(metadata=metadata)\n",
    "\n",
    "loading_Constant = Constant(domain,loading(0.0))\n",
    "\n",
    "\n",
    "a_Newton = inner(eps(v), sigma_tang(eps(u_)))*dxm\n",
    "\n",
    "res = -inner(eps(u_), as_3D_tensor(sig))*dxm + loading_Constant* dot(n, u_) *ds(4)"
   ]
  },
  {
   "cell_type": "code",
   "execution_count": 15,
   "metadata": {},
   "outputs": [],
   "source": [
    "problemName = \"2D Plasticity Test\"\n",
    "\n",
    "U = functionspace(domain, (\"Lagrange\", 2))\n",
    "\n",
    "mises = Function(U,name = \"mises\")\n",
    "\n",
    "def mises_func(sig):\n",
    "    s = dev(sig)\n",
    "    return sqrt(3/2*inner(s,s))"
   ]
  },
  {
   "cell_type": "code",
   "execution_count": 16,
   "metadata": {},
   "outputs": [],
   "source": [
    "pointForStress = [Ri,0,0]\n",
    "\n",
    "bb_tree = dolfinx.geometry.bb_tree(domain,domain.topology.dim)\n",
    "cell_candidates = dolfinx.geometry.compute_collisions_points(bb_tree, np.array(pointForStress))\n",
    "colliding_cells = dolfinx.geometry.compute_colliding_cells(domain, cell_candidates,  np.array(pointForStress))\n"
   ]
  },
  {
   "cell_type": "code",
   "execution_count": 17,
   "metadata": {},
   "outputs": [
    {
     "name": "stdout",
     "output_type": "stream",
     "text": [
      "Increment: 1\n",
      "    Residual: 2.8536823844002206   Relative residual: 0.9999997924468361\n",
      "    Residual: 4.20511199225239e-12   Relative residual: 1.4735736333011392e-12\n",
      "Increment: 2\n",
      "    Residual: 1.1820339463237282   Relative residual: 281094522215.23206\n",
      "    Residual: 1.7765075155635325e-12   Relative residual: 0.4224637819008429\n",
      "Increment: 3\n",
      "    Residual: 0.9070065477214923   Relative residual: 510555986831.14905\n",
      "    Residual: 1.3616592415068102e-12   Relative residual: 0.7664809912582178\n",
      "Increment: 4\n",
      "    Residual: 0.7646418903549637   Relative residual: 561551574025.8275\n",
      "    Residual: 1.1296892057378293e-12   Relative residual: 0.8296416396276332\n",
      "Increment: 5\n",
      "    Residual: 0.6736630289121393   Relative residual: 596325985492.7555\n",
      "    Residual: 9.94424332260146e-13   Relative residual: 0.8802636399545499\n",
      "Increment: 6\n",
      "    Residual: 0.6090379320368006   Relative residual: 612452765161.697\n",
      "    Residual: 9.181683979981644e-13   Relative residual: 0.923316504043434\n",
      "Increment: 7\n",
      "    Residual: 0.56006818013943   Relative residual: 609984161250.2871\n",
      "    Residual: 8.244147202636474e-13   Relative residual: 0.8978905417144357\n",
      "Increment: 8\n",
      "    Residual: 0.5212987515591605   Relative residual: 632325865545.498\n",
      "    Residual: 7.696441035891789e-13   Relative residual: 0.9335642422093665\n",
      "Increment: 9\n",
      "    Residual: 0.4896144917526931   Relative residual: 636157010064.0177\n",
      "    Residual: 7.297801005728673e-13   Relative residual: 0.9482046275279591\n",
      "Increment: 10\n",
      "    Residual: 0.4630889002041891   Relative residual: 634559506131.6014\n",
      "    Residual: 6.923017404556799e-13   Relative residual: 0.9486443106796589\n",
      "Increment: 11\n",
      "    Residual: 0.4404576864974279   Relative residual: 636222127951.7719\n",
      "    Residual: 0.020814543091729094   Relative residual: 30065709610.99817\n",
      "    Residual: 0.002548832916910376   Relative residual: 3681679198.484622\n",
      "    Residual: 3.7654632960595016e-08   Relative residual: 54390.49298909802\n",
      "    Residual: 1.813556589063916e-13   Relative residual: 0.2619604260810055\n",
      "Increment: 12\n",
      "    Residual: 0.42085201698868613   Relative residual: 2320589385114.874\n",
      "    Residual: 0.5666357005331677   Relative residual: 3124444552489.217\n",
      "    Residual: 0.011716123081856704   Relative residual: 64603019020.7855\n",
      "    Residual: 0.000421752666700813   Relative residual: 2325555591.9460144\n",
      "    Residual: 1.4750669345516783e-09   Relative residual: 8133.558905449142\n",
      "Increment: 13\n",
      "    Residual: 0.40365240395236823   Relative residual: 273650228.6759289\n",
      "    Residual: 1.019356513568256   Relative residual: 691057801.9824383\n",
      "    Residual: 0.016325234730023664   Relative residual: 11067453.51524366\n",
      "    Residual: 1.3467963756084393e-05   Relative residual: 9130.408553411004\n",
      "    Residual: 1.618972803604491e-11   Relative residual: 0.010975588738937806\n",
      "Increment: 14\n",
      "    Residual: 0.38840361225442455   Relative residual: 23990743475.719933\n",
      "    Residual: 1.040774328237854   Relative residual: 64286090904.1009\n",
      "    Residual: 0.03332973961060605   Relative residual: 2058696695.6085062\n",
      "    Residual: 0.0011947015162140824   Relative residual: 73793797.74349461\n",
      "    Residual: 1.0822244716673749e-08   Relative residual: 668.463651308968\n",
      "    Residual: 2.0038395177565808e-13   Relative residual: 0.01237722779095004\n",
      "Increment: 15\n",
      "    Residual: 0.37476257704976806   Relative residual: 1870222508982.842\n",
      "    Residual: 0.9993754727480576   Relative residual: 4987302944633.604\n",
      "    Residual: 0.03386923858000869   Relative residual: 169021711967.8693\n",
      "    Residual: 6.352297293074682e-05   Relative residual: 317006289.0159219\n",
      "    Residual: 5.106120494655319e-10   Relative residual: 2548.1683784597326\n",
      "Increment: 16\n",
      "    Residual: 0.36246518745335454   Relative residual: 709864148.0019014\n",
      "    Residual: 1.1811005346425203   Relative residual: 2313107447.971121\n",
      "    Residual: 0.05271017845409143   Relative residual: 103229405.78716122\n",
      "    Residual: 0.0037192026314167175   Relative residual: 7283812.897305661\n",
      "    Residual: 2.3750023654773318e-07   Relative residual: 465.1285389687328\n",
      "    Residual: 2.7605167211903007e-13   Relative residual: 0.0005406289812549058\n",
      "Increment: 17\n",
      "    Residual: 0.35130435524568565   Relative residual: 1272603612754.8162\n",
      "    Residual: 1.4102895850355932   Relative residual: 5108788417073.9375\n",
      "    Residual: 0.1420092097663469   Relative residual: 514429811912.5838\n",
      "    Residual: 0.01643697620041673   Relative residual: 59543114063.548615\n",
      "    Residual: 2.3874812478191637e-06   Relative residual: 8648675.190019175\n",
      "    Residual: 3.873153534162872e-13   Relative residual: 1.4030538212037404\n",
      "Increment: 18\n",
      "    Residual: 0.3411150993253818   Relative residual: 880716698464.4441\n",
      "    Residual: 1.9787210959158703   Relative residual: 5108811407713.904\n",
      "    Residual: 0.9621683141264168   Relative residual: 2484198743064.7417\n",
      "    Residual: 0.6950386939613221   Relative residual: 1794503336443.5037\n",
      "    Residual: 0.009601241224935593   Relative residual: 24789208948.854042\n",
      "    Residual: 4.6395692985617715e-06   Relative residual: 11978790.0418581\n",
      "    Residual: 2.4215931555865074e-12   Relative residual: 6.252251903331534\n",
      "Increment: 19\n",
      "    Residual: 0.3317641383907956   Relative residual: 137002426532.89243\n",
      "    Residual: 1.8507400471959912   Relative residual: 764265476604.2827\n",
      "    Residual: 0.20961731744826004   Relative residual: 86561740135.6963\n",
      "    Residual: 0.0008730126728008006   Relative residual: 360511703.1268441\n",
      "    Residual: 1.0969527358215377e-08   Relative residual: 4529.880394197996\n",
      "    Residual: 5.579118275704359e-12   Relative residual: 2.3039040488009235\n",
      "Increment: 20\n",
      "    Residual: 0.32314246486239734   Relative residual: 57919988229.96827\n",
      "    Residual: 0.2015668316839371   Relative residual: 36128797011.11722\n",
      "    Residual: 0.0005109730368653938   Relative residual: 91586700.9112446\n",
      "    Residual: 6.314956982530476e-10   Relative residual: 113.18915768519388\n"
     ]
    }
   ],
   "source": [
    "Nitermax, tol = 200, 1e-8  # parameters of the Newton-Raphson procedure\n",
    "Nincr = 20\n",
    "load_steps = np.linspace(0, 1.1, Nincr+1)[1:]**0.5\n",
    "results = np.zeros((Nincr+1, 2))\n",
    "\n",
    "\n",
    "\n",
    "\n",
    "startTime = datetime.now()\n",
    "from dolfinx.fem.petsc import  assemble_matrix, assemble_vector, apply_lifting, create_vector, set_bc,create_matrix, create_vector\n",
    "loading_Constant.value = loading(load_steps[0])\n",
    "\n",
    "\n",
    "a = fem.form(a_Newton)\n",
    "L = fem.form(res)\n",
    "A = assemble_matrix(a, bcs=bcs)\n",
    "A.assemble()\n",
    "b = create_vector(L)\n",
    "assemble_vector(b, L)\n",
    "\n",
    "vtk = VTXWriter(domain.comm,\"results/\"+problemName+\".bp\", [u,mises], engine=\"BP4\" )\n",
    "\n",
    "\n",
    "solver = PETSc.KSP().create(domain.comm)\n",
    "solver.setOperators(A)\n",
    "solver.setType(PETSc.KSP.Type.PREONLY)\n",
    "solver.getPC().setType(PETSc.PC.Type.LU)\n",
    "for (i, t) in enumerate(load_steps):\n",
    "    # Update Diriclet boundary condition\n",
    "    loading_Constant.value = loading(t)\n",
    "    # Update the right hand side reusing the initial vector\n",
    "    \n",
    "    Du.x.array[:] = 0.0\n",
    "    nRes0 = b.norm()\n",
    "    nRes = nRes0\n",
    "    print(\"Increment:\", str(i+1))\n",
    "    niter = 0\n",
    "    \n",
    "    while niter == 0 or ((nRes/nRes0 > tol and nRes > tol) and niter < Nitermax):\n",
    "        with b.localForm() as loc_L:\n",
    "            loc_L.set(0)\n",
    "        A.zeroEntries()\n",
    "        assemble_matrix(A,a, bcs=bcs)\n",
    "        A.assemble()\n",
    "        assemble_vector(b, L)\n",
    "        \n",
    "        b.ghostUpdate(addv=PETSc.InsertMode.ADD, mode=PETSc.ScatterMode.REVERSE)\n",
    "        apply_lifting(b, [a], [bcs],[Du.vector], scale=1)\n",
    "\n",
    "        set_bc(b, bcs,Du.vector)\n",
    "        \n",
    "        res2val = solver.solve(b, du.vector)\n",
    "        du.x.scatter_forward()\n",
    "        \n",
    "        Du.x.array[:] += du.x.array\n",
    "        \n",
    "        deps = eps(Du)\n",
    "        \n",
    "        sig_, n_elas_, beta_, dp_ =proj_sig(deps, sig_old, p)\n",
    "\n",
    "\n",
    "        sig_exp = Expression(sig_,W.element.interpolation_points())\n",
    "        sig.interpolate(sig_exp)\n",
    "\n",
    "        n_elas_exp = Expression(n_elas_,W.element.interpolation_points())\n",
    "        n_elas.interpolate(n_elas_exp)\n",
    "        \n",
    "        beta_exp = Expression(beta_,W0.element.interpolation_points())\n",
    "        beta.interpolate(beta_exp)\n",
    "\n",
    "        # Solve linear problem\n",
    "        \n",
    "        \n",
    "        nRes = b.norm()\n",
    "       \n",
    "        \n",
    "        print(\"    Residual:\", nRes, \"  Relative residual:\", nRes/nRes0)\n",
    "        niter += 1\n",
    "    \n",
    "    u.x.array[:] = u.x.array + Du.x.array\n",
    "\n",
    "    dp_exp = Expression(dp_+p,W0.element.interpolation_points())\n",
    "    p.interpolate(dp_exp)\n",
    "    \n",
    "    stress = sigma(eps(u))\n",
    "    \n",
    "    mises.interpolate(Expression(mises_func(stress),U.element.interpolation_points()))\n",
    "    \n",
    "    sig_old.x.array[:] = sig.x.array\n",
    "    vtk.write(t)\n",
    "    # Update solution at previous time step (u_n)\n",
    "    #u_n.x.array[:] = uh.x.array\n",
    "    displacement = u.eval(pointForStress,colliding_cells.array[0])[0]\n",
    "    results[i+1, :] = (displacement,t)\n",
    "    \n",
    "    \n",
    "\n",
    "vtk.close()\n"
   ]
  },
  {
   "cell_type": "code",
   "execution_count": 19,
   "metadata": {},
   "outputs": [
    {
     "data": {
      "image/png": "[encoded data removed]",
      "text/plain": [
       "<Figure size 640x480 with 1 Axes>"
      ]
     },
     "metadata": {},
     "output_type": "display_data"
    }
   ],
   "source": [
    "import matplotlib.pyplot as plt\n",
    "plt.plot(results[:, 0], results[:, 1], \"-o\")\n",
    "plt.xlabel(\"Displacement of inner boundary\")\n",
    "plt.ylabel(r\"Applied pressure $q/q_{lim}$\")\n",
    "plt.grid()\n",
    "plt.show()\n"
   ]
  }
 ],
 "metadata": {
  "kernelspec": {
   "display_name": ".venv",
   "language": "python",
   "name": "python3"
  },
  "language_info": {
   "codemirror_mode": {
    "name": "ipython",
    "version": 3
   },
   "file_extension": ".py",
   "mimetype": "text/x-python",
   "name": "python",
   "nbconvert_exporter": "python",
   "pygments_lexer": "ipython3",
   "version": "3.10.12"
  }
 },
 "nbformat": 4,
 "nbformat_minor": 2
}
